{
 "cells": [
  {
   "cell_type": "code",
   "execution_count": 9,
   "metadata": {
    "collapsed": true
   },
   "outputs": [],
   "source": [
    "import pandas as pd\n",
    "import numpy as np\n",
    "\n",
    "%matplotlib inline"
   ]
  },
  {
   "cell_type": "code",
   "execution_count": 10,
   "metadata": {
    "collapsed": false
   },
   "outputs": [],
   "source": [
    "df_all = pd.read_csv('Most+Recent+Cohorts+(All+Data+Elements).csv', low_memory=False)"
   ]
  },
  {
   "cell_type": "code",
   "execution_count": 11,
   "metadata": {
    "collapsed": false
   },
   "outputs": [
    {
     "data": {
      "text/plain": [
       "count     4137.000000\n",
       "mean     24353.671259\n",
       "std      12175.088483\n",
       "min       4157.000000\n",
       "25%      14143.000000\n",
       "50%      22865.000000\n",
       "75%      30383.000000\n",
       "max      74473.000000\n",
       "Name: COSTT4_A, dtype: float64"
      ]
     },
     "execution_count": 11,
     "metadata": {},
     "output_type": "execute_result"
    }
   ],
   "source": [
    "df_all.COSTT4_A.describe()"
   ]
  },
  {
   "cell_type": "code",
   "execution_count": 12,
   "metadata": {
    "collapsed": false
   },
   "outputs": [
    {
     "data": {
      "text/plain": [
       "count     1923.000000\n",
       "mean      9583.515861\n",
       "std       4598.626814\n",
       "min      -1643.000000\n",
       "25%       6320.000000\n",
       "50%       8792.000000\n",
       "75%      12480.500000\n",
       "max      27199.000000\n",
       "Name: NPT4_PUB, dtype: float64"
      ]
     },
     "execution_count": 12,
     "metadata": {},
     "output_type": "execute_result"
    }
   ],
   "source": [
    "df_all.NPT4_PUB.describe()"
   ]
  },
  {
   "cell_type": "code",
   "execution_count": 13,
   "metadata": {
    "collapsed": false
   },
   "outputs": [
    {
     "data": {
      "text/plain": [
       "count     4753.000000\n",
       "mean     18071.811908\n",
       "std       7250.903684\n",
       "min      -1220.000000\n",
       "25%      13132.000000\n",
       "50%      18259.000000\n",
       "75%      22485.000000\n",
       "max      87570.000000\n",
       "Name: NPT4_PRIV, dtype: float64"
      ]
     },
     "execution_count": 13,
     "metadata": {},
     "output_type": "execute_result"
    }
   ],
   "source": [
    "df_all.NPT4_PRIV.describe()"
   ]
  },
  {
   "cell_type": "code",
   "execution_count": 14,
   "metadata": {
    "collapsed": false
   },
   "outputs": [
    {
     "data": {
      "text/plain": [
       "array(['UNITID', 'OPEID', 'opeid6', ..., 'SEPAR_DT_MDN', 'REPAY_DT_N',\n",
       "       'SEPAR_DT_N'], dtype=object)"
      ]
     },
     "execution_count": 14,
     "metadata": {},
     "output_type": "execute_result"
    }
   ],
   "source": [
    "df_all.columns.values"
   ]
  },
  {
   "cell_type": "code",
   "execution_count": 15,
   "metadata": {
    "collapsed": false
   },
   "outputs": [],
   "source": [
    "df_BA = df_all[df_all['PREDDEG'] == 3]"
   ]
  },
  {
   "cell_type": "code",
   "execution_count": 16,
   "metadata": {
    "collapsed": false
   },
   "outputs": [],
   "source": [
    "df_BA2 = df_BA[df_BA['HIGHDEG'] == 4]"
   ]
  },
  {
   "cell_type": "code",
   "execution_count": 17,
   "metadata": {
    "collapsed": false
   },
   "outputs": [
    {
     "name": "stdout",
     "output_type": "stream",
     "text": [
      "<class 'pandas.core.frame.DataFrame'>\n",
      "Int64Index: 1663 entries, 0 to 7802\n",
      "Columns: 1728 entries, UNITID to SEPAR_DT_N\n",
      "dtypes: float64(428), int64(12), object(1288)\n",
      "memory usage: 21.9+ MB\n"
     ]
    }
   ],
   "source": [
    "df_BA2.info()"
   ]
  },
  {
   "cell_type": "code",
   "execution_count": 18,
   "metadata": {
    "collapsed": false
   },
   "outputs": [
    {
     "name": "stdout",
     "output_type": "stream",
     "text": [
      "<class 'pandas.core.frame.DataFrame'>\n",
      "Int64Index: 2133 entries, 0 to 7802\n",
      "Columns: 1728 entries, UNITID to SEPAR_DT_N\n",
      "dtypes: float64(428), int64(12), object(1288)\n",
      "memory usage: 28.1+ MB\n"
     ]
    }
   ],
   "source": [
    "df_BA.info()"
   ]
  },
  {
   "cell_type": "code",
   "execution_count": 19,
   "metadata": {
    "collapsed": false
   },
   "outputs": [
    {
     "name": "stdout",
     "output_type": "stream",
     "text": [
      "<class 'pandas.core.frame.DataFrame'>\n",
      "Int64Index: 7804 entries, 0 to 7803\n",
      "Columns: 1728 entries, UNITID to SEPAR_DT_N\n",
      "dtypes: float64(428), int64(12), object(1288)\n",
      "memory usage: 102.9+ MB\n"
     ]
    }
   ],
   "source": [
    "df_all.info()"
   ]
  },
  {
   "cell_type": "code",
   "execution_count": null,
   "metadata": {
    "collapsed": false
   },
   "outputs": [],
   "source": []
  },
  {
   "cell_type": "code",
   "execution_count": 20,
   "metadata": {
    "collapsed": false
   },
   "outputs": [
    {
     "data": {
      "text/plain": [
       "array([3, 2, 1, 0, 4])"
      ]
     },
     "execution_count": 20,
     "metadata": {},
     "output_type": "execute_result"
    }
   ],
   "source": [
    "df_all.PREDDEG.unique()"
   ]
  },
  {
   "cell_type": "code",
   "execution_count": 21,
   "metadata": {
    "collapsed": false
   },
   "outputs": [
    {
     "data": {
      "text/plain": [
       "array([ 18.,  15.,  21.,  16.,  22.,  24.,  19.,  20.,  32.,  30.,  17.,\n",
       "        25.,  26.,  29.,  27.,  14.,  nan,  12.,  23.,  31.,  28.])"
      ]
     },
     "execution_count": 21,
     "metadata": {},
     "output_type": "execute_result"
    }
   ],
   "source": [
    "# carnegie classification\n",
    "df_BA2.CCBASIC.unique()"
   ]
  },
  {
   "cell_type": "markdown",
   "metadata": {},
   "source": [
    "Aborted attempt at loading in the top 100 universities:"
   ]
  },
  {
   "cell_type": "code",
   "execution_count": 22,
   "metadata": {
    "collapsed": true
   },
   "outputs": [],
   "source": [
    "unis = pd.read_csv('Universities.csv')"
   ]
  },
  {
   "cell_type": "code",
   "execution_count": 23,
   "metadata": {
    "collapsed": false,
    "scrolled": true
   },
   "outputs": [
    {
     "data": {
      "text/plain": [
       "109"
      ]
     },
     "execution_count": 23,
     "metadata": {},
     "output_type": "execute_result"
    }
   ],
   "source": [
    "unis['2013'].count()"
   ]
  },
  {
   "cell_type": "code",
   "execution_count": 24,
   "metadata": {
    "collapsed": true
   },
   "outputs": [],
   "source": [
    "top = df_BA2[df_BA2['INSTNM'].isin(unis['2013'])]"
   ]
  },
  {
   "cell_type": "code",
   "execution_count": null,
   "metadata": {
    "collapsed": false
   },
   "outputs": [],
   "source": [
    "        "
   ]
  },
  {
   "cell_type": "code",
   "execution_count": null,
   "metadata": {
    "collapsed": false,
    "scrolled": true
   },
   "outputs": [],
   "source": []
  },
  {
   "cell_type": "code",
   "execution_count": 25,
   "metadata": {
    "collapsed": false
   },
   "outputs": [
    {
     "data": {
      "text/plain": [
       "array([  9.,   8.,   6.,  10.,  13.,   7.,  nan,  11.,   5.,  12.,   1.,\n",
       "         0.])"
      ]
     },
     "execution_count": 25,
     "metadata": {},
     "output_type": "execute_result"
    }
   ],
   "source": [
    "# carnegie classification showing if is mainly FT students\n",
    "\n",
    "df_BA2.CCUGPROF.unique()"
   ]
  },
  {
   "cell_type": "code",
   "execution_count": 26,
   "metadata": {
    "collapsed": true
   },
   "outputs": [],
   "source": [
    "df_BA2 = df_BA2[df_BA2['CCUGPROF'] != 1]"
   ]
  },
  {
   "cell_type": "code",
   "execution_count": 27,
   "metadata": {
    "collapsed": false
   },
   "outputs": [],
   "source": [
    "df_BA2 = df_BA2[df_BA2['CCUGPROF'] != 0]"
   ]
  },
  {
   "cell_type": "code",
   "execution_count": 28,
   "metadata": {
    "collapsed": false
   },
   "outputs": [],
   "source": [
    "df_BA2 = df_BA2[df_BA2['CCUGPROF'] > 10]"
   ]
  },
  {
   "cell_type": "code",
   "execution_count": 29,
   "metadata": {
    "collapsed": false
   },
   "outputs": [
    {
     "name": "stdout",
     "output_type": "stream",
     "text": [
      "<class 'pandas.core.frame.DataFrame'>\n",
      "Int64Index: 513 entries, 9 to 6173\n",
      "Columns: 1728 entries, UNITID to SEPAR_DT_N\n",
      "dtypes: float64(428), int64(12), object(1288)\n",
      "memory usage: 6.8+ MB\n"
     ]
    }
   ],
   "source": [
    "df_BA2.info()"
   ]
  },
  {
   "cell_type": "markdown",
   "metadata": {},
   "source": [
    "Now have 513 schools left, need to filter further, so will do so based on average SAT score of entering class."
   ]
  },
  {
   "cell_type": "code",
   "execution_count": 30,
   "metadata": {
    "collapsed": false,
    "scrolled": true
   },
   "outputs": [
    {
     "data": {
      "text/plain": [
       "count     475.000000\n",
       "mean     1141.844211\n",
       "std       128.026817\n",
       "min       900.000000\n",
       "25%      1038.500000\n",
       "50%      1121.000000\n",
       "75%      1212.000000\n",
       "max      1534.000000\n",
       "Name: SAT_AVG_ALL, dtype: float64"
      ]
     },
     "execution_count": 30,
     "metadata": {},
     "output_type": "execute_result"
    }
   ],
   "source": [
    "df_BA2.SAT_AVG_ALL.describe()"
   ]
  },
  {
   "cell_type": "code",
   "execution_count": 31,
   "metadata": {
    "collapsed": true
   },
   "outputs": [],
   "source": [
    "df_top = df_BA2[df_BA2['SAT_AVG_ALL'] > 1200]"
   ]
  },
  {
   "cell_type": "markdown",
   "metadata": {},
   "source": [
    "This score corresponds to ~75th percentile of SAT takers."
   ]
  },
  {
   "cell_type": "code",
   "execution_count": 32,
   "metadata": {
    "collapsed": false
   },
   "outputs": [
    {
     "name": "stdout",
     "output_type": "stream",
     "text": [
      "<class 'pandas.core.frame.DataFrame'>\n",
      "Int64Index: 131 entries, 9 to 5987\n",
      "Columns: 1728 entries, UNITID to SEPAR_DT_N\n",
      "dtypes: float64(428), int64(12), object(1288)\n",
      "memory usage: 1.7+ MB\n"
     ]
    }
   ],
   "source": [
    "df_top.info()"
   ]
  },
  {
   "cell_type": "code",
   "execution_count": 33,
   "metadata": {
    "collapsed": false
   },
   "outputs": [
    {
     "name": "stdout",
     "output_type": "stream",
     "text": [
      "Auburn University\n",
      "Hendrix College\n",
      "California Institute of Technology\n",
      "California Polytechnic State University-San Luis Obispo\n",
      "University of California-Berkeley\n",
      "University of California-Los Angeles\n",
      "University of California-San Diego\n",
      "University of California-Santa Barbara\n",
      "Chapman University\n",
      "Claremont McKenna College\n",
      "Loyola Marymount University\n",
      "Occidental College\n",
      "Pepperdine University\n",
      "University of San Diego\n",
      "Santa Clara University\n",
      "Scripps College\n",
      "University of Southern California\n",
      "Colorado College\n",
      "Colorado School of Mines\n",
      "University of Denver\n",
      "University of Connecticut\n",
      "Trinity College\n",
      "Wesleyan University\n",
      "Yale University\n",
      "American University\n",
      "George Washington University\n",
      "Georgetown University\n",
      "Florida State University\n",
      "University of Florida\n",
      "University of Miami\n",
      "Emory University\n",
      "Georgia Institute of Technology-Main Campus\n",
      "University of Georgia\n",
      "University of Chicago\n",
      "University of Illinois at Urbana-Champaign\n",
      "Illinois Institute of Technology\n",
      "Northwestern University\n",
      "Wheaton College\n",
      "Butler University\n",
      "Earlham College\n",
      "University of Notre Dame\n",
      "Taylor University\n",
      "Drake University\n",
      "University of Iowa\n",
      "Johns Hopkins University\n",
      "University of Maryland-Baltimore County\n",
      "University of Maryland-College Park\n",
      "St Mary's College of Maryland\n",
      "Bentley University\n",
      "Boston College\n",
      "Boston University\n",
      "Brandeis University\n",
      "Emerson College\n",
      "Harvard University\n",
      "University of Massachusetts-Amherst\n",
      "Massachusetts Institute of Technology\n",
      "Northeastern University\n",
      "Tufts University\n",
      "Williams College\n",
      "University of Michigan-Ann Arbor\n",
      "Michigan Technological University\n",
      "University of Minnesota-Twin Cities\n",
      "Missouri University of Science and Technology\n",
      "Truman State University\n",
      "Washington University in St Louis\n",
      "Creighton University\n",
      "Dartmouth College\n",
      "Princeton University\n",
      "Stevens Institute of Technology\n",
      "The College of New Jersey\n",
      "Colgate University\n",
      "Columbia University in the City of New York\n",
      "Cooper Union for the Advancement of Science and Art\n",
      "Cornell University\n",
      "Fordham University\n",
      "New York University\n",
      "Polytechnic Institute of New York University\n",
      "Rensselaer Polytechnic Institute\n",
      "Rochester Institute of Technology\n",
      "University of Rochester\n",
      "Skidmore College\n",
      "SUNY at Binghamton\n",
      "Stony Brook University\n",
      "SUNY College at Geneseo\n",
      "Yeshiva University\n",
      "Duke University\n",
      "University of North Carolina at Chapel Hill\n",
      "North Carolina State University at Raleigh\n",
      "Case Western Reserve University\n",
      "Miami University-Oxford\n",
      "Oberlin College\n",
      "Ohio State University-Main Campus\n",
      "University of Tulsa\n",
      "Lewis & Clark College\n",
      "Reed College\n",
      "Bryn Mawr College\n",
      "Bucknell University\n",
      "Carnegie Mellon University\n",
      "Lehigh University\n",
      "University of Pennsylvania\n",
      "Villanova University\n",
      "Brown University\n",
      "Clemson University\n",
      "Furman University\n",
      "Rhodes College\n",
      "Sewanee-The University of the South\n",
      "Vanderbilt University\n",
      "Baylor University\n",
      "University of Dallas\n",
      "Rice University\n",
      "Southern Methodist University\n",
      "The University of Texas at Austin\n",
      "Texas Christian University\n",
      "Trinity University\n",
      "Brigham Young University-Provo\n",
      "Middlebury College\n",
      "College of William and Mary\n",
      "University of Richmond\n",
      "Virginia Polytechnic Institute and State University\n",
      "University of Virginia-Main Campus\n",
      "Washington and Lee University\n",
      "Gonzaga University\n",
      "University of Puget Sound\n",
      "University of Washington-Seattle Campus\n",
      "Marquette University\n",
      "Milwaukee School of Engineering\n",
      "University of Wisconsin-Madison\n",
      "Stanford University\n",
      "Purdue University-Main Campus\n",
      "Soka University of America\n",
      "DigiPen Institute of Technology\n"
     ]
    }
   ],
   "source": [
    "for i in df_top.INSTNM:\n",
    "    print i"
   ]
  },
  {
   "cell_type": "markdown",
   "metadata": {},
   "source": [
    "Now I have a reasonable subset of the universities - filtered to 4 year FT colleges, with high academic reputation (based on average SAT scores of those admitted).\n",
    "\n",
    "Next step is to begin creating the ROI metric.\n",
    "\n",
    "Next step after that is to go through all the features and clean them up!"
   ]
  },
  {
   "cell_type": "code",
   "execution_count": 34,
   "metadata": {
    "collapsed": false
   },
   "outputs": [
    {
     "data": {
      "text/plain": [
       "count       92.000000\n",
       "mean     26391.923913\n",
       "std       5919.103153\n",
       "min       8413.000000\n",
       "25%      23731.500000\n",
       "50%      26502.500000\n",
       "75%      30397.500000\n",
       "max      37971.000000\n",
       "Name: NPT4_PRIV, dtype: float64"
      ]
     },
     "execution_count": 34,
     "metadata": {},
     "output_type": "execute_result"
    }
   ],
   "source": [
    "# net price priv and pub\n",
    "df_top.NPT4_PRIV.describe()"
   ]
  },
  {
   "cell_type": "code",
   "execution_count": 35,
   "metadata": {
    "collapsed": false
   },
   "outputs": [
    {
     "data": {
      "text/plain": [
       "count       39.000000\n",
       "mean     16458.384615\n",
       "std       3535.562656\n",
       "min      11053.000000\n",
       "25%      13746.000000\n",
       "50%      16287.000000\n",
       "75%      18463.000000\n",
       "max      24980.000000\n",
       "Name: NPT4_PUB, dtype: float64"
      ]
     },
     "execution_count": 35,
     "metadata": {},
     "output_type": "execute_result"
    }
   ],
   "source": [
    "df_top.NPT4_PUB.describe()"
   ]
  },
  {
   "cell_type": "code",
   "execution_count": 36,
   "metadata": {
    "collapsed": false
   },
   "outputs": [
    {
     "data": {
      "text/plain": [
       "count      39.000000\n",
       "mean     1526.564103\n",
       "std       873.462884\n",
       "min       168.000000\n",
       "25%       748.500000\n",
       "50%      1380.000000\n",
       "75%      2079.500000\n",
       "max      3742.000000\n",
       "Name: NUM4_PUB, dtype: float64"
      ]
     },
     "execution_count": 36,
     "metadata": {},
     "output_type": "execute_result"
    }
   ],
   "source": [
    "df_top.NUM4_PUB.describe()"
   ]
  },
  {
   "cell_type": "code",
   "execution_count": 37,
   "metadata": {
    "collapsed": false
   },
   "outputs": [
    {
     "data": {
      "text/plain": [
       "count      131.000000\n",
       "mean      9838.122137\n",
       "std       9516.637950\n",
       "min        412.000000\n",
       "25%       2887.500000\n",
       "50%       5940.000000\n",
       "75%      14142.000000\n",
       "max      43139.000000\n",
       "Name: UGDS, dtype: float64"
      ]
     },
     "execution_count": 37,
     "metadata": {},
     "output_type": "execute_result"
    }
   ],
   "source": [
    "# enrollement\n",
    "df_top.UGDS.describe()"
   ]
  },
  {
   "cell_type": "code",
   "execution_count": 38,
   "metadata": {
    "collapsed": false
   },
   "outputs": [
    {
     "data": {
      "text/plain": [
       "count      131.000000\n",
       "mean     37534.916031\n",
       "std       8794.894097\n",
       "min       4850.000000\n",
       "25%      30884.500000\n",
       "50%      40649.000000\n",
       "75%      44844.500000\n",
       "max      49138.000000\n",
       "Name: TUITIONFEE_OUT, dtype: float64"
      ]
     },
     "execution_count": 38,
     "metadata": {},
     "output_type": "execute_result"
    }
   ],
   "source": [
    "# public out of and in state tuition\n",
    "df_top.TUITIONFEE_OUT.describe()"
   ]
  },
  {
   "cell_type": "code",
   "execution_count": 39,
   "metadata": {
    "collapsed": false
   },
   "outputs": [
    {
     "data": {
      "text/plain": [
       "count      131.000000\n",
       "mean     32481.099237\n",
       "std      14971.743342\n",
       "min       4850.000000\n",
       "25%      13737.000000\n",
       "50%      40649.000000\n",
       "75%      44844.500000\n",
       "max      49138.000000\n",
       "Name: TUITIONFEE_IN, dtype: float64"
      ]
     },
     "execution_count": 39,
     "metadata": {},
     "output_type": "execute_result"
    }
   ],
   "source": [
    "df_top.TUITIONFEE_IN.describe()"
   ]
  },
  {
   "cell_type": "code",
   "execution_count": 40,
   "metadata": {
    "collapsed": false
   },
   "outputs": [
    {
     "data": {
      "text/plain": [
       "count    131.000000\n",
       "mean       1.709924\n",
       "std        0.472124\n",
       "min        1.000000\n",
       "25%        1.000000\n",
       "50%        2.000000\n",
       "75%        2.000000\n",
       "max        3.000000\n",
       "Name: CONTROL, dtype: float64"
      ]
     },
     "execution_count": 40,
     "metadata": {},
     "output_type": "execute_result"
    }
   ],
   "source": [
    "# priv vs pub identifier field 1 - pub, 2 - priv, 3 - for profit\n",
    "df_top.CONTROL.describe()"
   ]
  },
  {
   "cell_type": "code",
   "execution_count": 41,
   "metadata": {
    "collapsed": false,
    "scrolled": true
   },
   "outputs": [
    {
     "data": {
      "text/plain": [
       "array(['0.867395437262', '0.894428152493', '1', '0.9375', '0.876087857439',\n",
       "       '0.898432397126', '0.914472489559', '0.883381226054',\n",
       "       '0.858103241297', 'PrivacySuppressed', '0.909535452323',\n",
       "       '0.947658402204', '0.905362776025', '0.912434325744',\n",
       "       '0.934782608696', '0.943981614479', '0.910112359551',\n",
       "       '0.946772366931', '0.904434250765', '0.921506511792',\n",
       "       '0.93094629156', '0.962365591398', '0.945392491468',\n",
       "       '0.912060301508', '0.936629860778', '0.951308139535',\n",
       "       '0.833058270915', '0.849092480553', '0.87678498572',\n",
       "       '0.919025157233', '0.953725490196', '0.869602950749', '0.946875',\n",
       "       '0.913349320544', '0.915555555556', '0.95', '0.966129032258',\n",
       "       '0.96090356212', '0.899653979239', '0.98016336056',\n",
       "       '0.928263988522', '0.939166666667', '0.880877192982', '0.93',\n",
       "       '0.83951137321', '0.916576185306', '0.923711340206',\n",
       "       '0.983503534957', '0.952306079665', '0.943024494143',\n",
       "       '0.904682274247', '0.950904392765', '0.810584958217',\n",
       "       '0.889934289128', '0.971374045802', '0.911376751855',\n",
       "       '0.944636678201', '0.905216426193', '0.917139614075',\n",
       "       '0.888578453286', '0.920193470375', '0.926104972376',\n",
       "       '0.94696969697', '0.923636363636', '0.961165048544',\n",
       "       '0.939805825243', '0.957482993197', '0.932432432432',\n",
       "       '0.88061465721', '0.915966386555', '0.948520470207',\n",
       "       '0.88133640553', '0.90844317777', '0.884836852207',\n",
       "       '0.972858866104', '0.905074476142', '0.917085427136',\n",
       "       '0.903520649966', '0.868111597879', '0.931524547804',\n",
       "       '0.903073286052', '0.967098703888', '0.937270726339',\n",
       "       '0.912423625255', '0.934803451582', '0.723040552828',\n",
       "       '0.960815047022', '0.799940941975', '0.860740740741',\n",
       "       '0.94693877551', '0.93769470405', '0.94674556213', '0.982068965517',\n",
       "       '0.975444538527', '0.974336283186', '0.958355868037',\n",
       "       '0.966473988439', '0.954264524104', '0.956966110812',\n",
       "       '0.972631578947', '0.893992932862', '0.896713615023',\n",
       "       '0.940528634361', '0.861897356143', '0.840399002494', '0.975',\n",
       "       '0.888603256213', '0.895781071836', '0.912442396313',\n",
       "       '0.957894736842', '0.932729331823', '0.948170731707',\n",
       "       '0.948259642521', '0.878009630819', '0.926286803643',\n",
       "       '0.93984962406', '0.936274509804', '0.938405797101',\n",
       "       '0.932926829268', '0.896088502568', '0.909840288511',\n",
       "       '0.936787564767', '0.947035708184', '0.950949367089',\n",
       "       '0.912109123665', '0.777777777778'], dtype=object)"
      ]
     },
     "execution_count": 41,
     "metadata": {},
     "output_type": "execute_result"
    }
   ],
   "source": [
    "# share of grads paying back loans at 1 yr after start of repayment\n",
    "df_top.RPY_1YR_RT.unique()"
   ]
  },
  {
   "cell_type": "markdown",
   "metadata": {},
   "source": [
    "Investigating the PrivacySuppressed fields"
   ]
  },
  {
   "cell_type": "code",
   "execution_count": 42,
   "metadata": {
    "collapsed": false
   },
   "outputs": [
    {
     "data": {
      "text/plain": [
       "count                   131\n",
       "unique                  126\n",
       "top       PrivacySuppressed\n",
       "freq                      5\n",
       "Name: PAR_ED_PCT_PS, dtype: object"
      ]
     },
     "execution_count": 42,
     "metadata": {},
     "output_type": "execute_result"
    }
   ],
   "source": [
    "df_top.PAR_ED_PCT_PS.describe()"
   ]
  },
  {
   "cell_type": "code",
   "execution_count": 43,
   "metadata": {
    "collapsed": false,
    "scrolled": true
   },
   "outputs": [
    {
     "data": {
      "text/html": [
       "<div>\n",
       "<table border=\"1\" class=\"dataframe\">\n",
       "  <thead>\n",
       "    <tr style=\"text-align: right;\">\n",
       "      <th></th>\n",
       "      <th>UNITID</th>\n",
       "      <th>OPEID</th>\n",
       "      <th>opeid6</th>\n",
       "      <th>INSTNM</th>\n",
       "      <th>CITY</th>\n",
       "      <th>STABBR</th>\n",
       "      <th>ZIP</th>\n",
       "      <th>AccredAgency</th>\n",
       "      <th>INSTURL</th>\n",
       "      <th>NPCURL</th>\n",
       "      <th>...</th>\n",
       "      <th>PELL_YR8_N</th>\n",
       "      <th>NOPELL_YR8_N</th>\n",
       "      <th>LOAN_YR8_N</th>\n",
       "      <th>NOLOAN_YR8_N</th>\n",
       "      <th>FIRSTGEN_YR8_N</th>\n",
       "      <th>NOT1STGEN_YR8_N</th>\n",
       "      <th>REPAY_DT_MDN</th>\n",
       "      <th>SEPAR_DT_MDN</th>\n",
       "      <th>REPAY_DT_N</th>\n",
       "      <th>SEPAR_DT_N</th>\n",
       "    </tr>\n",
       "  </thead>\n",
       "  <tbody>\n",
       "    <tr>\n",
       "      <th>309</th>\n",
       "      <td>112260</td>\n",
       "      <td>117000</td>\n",
       "      <td>1170</td>\n",
       "      <td>Claremont McKenna College</td>\n",
       "      <td>Claremont</td>\n",
       "      <td>CA</td>\n",
       "      <td>91711-6400</td>\n",
       "      <td>Western Association of Schools and Colleges Se...</td>\n",
       "      <td>www.claremontmckenna.edu/</td>\n",
       "      <td>npc.collegeboard.org/student/app/claremontmckenna</td>\n",
       "      <td>...</td>\n",
       "      <td>42</td>\n",
       "      <td>69</td>\n",
       "      <td>PrivacySuppressed</td>\n",
       "      <td>PrivacySuppressed</td>\n",
       "      <td>PrivacySuppressed</td>\n",
       "      <td>90</td>\n",
       "      <td>379852</td>\n",
       "      <td>379852</td>\n",
       "      <td>84</td>\n",
       "      <td>90</td>\n",
       "    </tr>\n",
       "    <tr>\n",
       "      <th>583</th>\n",
       "      <td>123165</td>\n",
       "      <td>117400</td>\n",
       "      <td>1174</td>\n",
       "      <td>Scripps College</td>\n",
       "      <td>Claremont</td>\n",
       "      <td>CA</td>\n",
       "      <td>91711-3905</td>\n",
       "      <td>Western Association of Schools and Colleges Se...</td>\n",
       "      <td>www.scrippscollege.edu</td>\n",
       "      <td>admission.scrippscollege.edu/net-price-calculator</td>\n",
       "      <td>...</td>\n",
       "      <td>37</td>\n",
       "      <td>75</td>\n",
       "      <td>PrivacySuppressed</td>\n",
       "      <td>PrivacySuppressed</td>\n",
       "      <td>PrivacySuppressed</td>\n",
       "      <td>96</td>\n",
       "      <td>379852</td>\n",
       "      <td>379852</td>\n",
       "      <td>177</td>\n",
       "      <td>184</td>\n",
       "    </tr>\n",
       "    <tr>\n",
       "      <th>1398</th>\n",
       "      <td>152530</td>\n",
       "      <td>183800</td>\n",
       "      <td>1838</td>\n",
       "      <td>Taylor University</td>\n",
       "      <td>Upland</td>\n",
       "      <td>IN</td>\n",
       "      <td>46989-1001</td>\n",
       "      <td>North Central Association of Colleges and Scho...</td>\n",
       "      <td>www.taylor.edu</td>\n",
       "      <td>www.taylor.edu/finaid/netpricecalculator/</td>\n",
       "      <td>...</td>\n",
       "      <td>233</td>\n",
       "      <td>250</td>\n",
       "      <td>458</td>\n",
       "      <td>25</td>\n",
       "      <td>107</td>\n",
       "      <td>352</td>\n",
       "      <td>19611</td>\n",
       "      <td>379852</td>\n",
       "      <td>642</td>\n",
       "      <td>666</td>\n",
       "    </tr>\n",
       "    <tr>\n",
       "      <th>2638</th>\n",
       "      <td>190372</td>\n",
       "      <td>271000</td>\n",
       "      <td>2710</td>\n",
       "      <td>Cooper Union for the Advancement of Science an...</td>\n",
       "      <td>New York</td>\n",
       "      <td>NY</td>\n",
       "      <td>10003-7120</td>\n",
       "      <td>Middle States Commission on Higher Education</td>\n",
       "      <td>www.cooper.edu</td>\n",
       "      <td>cooper.edu/admissions/financial-aid/net-price-...</td>\n",
       "      <td>...</td>\n",
       "      <td>68</td>\n",
       "      <td>32</td>\n",
       "      <td>79</td>\n",
       "      <td>21</td>\n",
       "      <td>PrivacySuppressed</td>\n",
       "      <td>70</td>\n",
       "      <td>379852</td>\n",
       "      <td>379852</td>\n",
       "      <td>91</td>\n",
       "      <td>95</td>\n",
       "    </tr>\n",
       "    <tr>\n",
       "      <th>4268</th>\n",
       "      <td>234207</td>\n",
       "      <td>376800</td>\n",
       "      <td>3768</td>\n",
       "      <td>Washington and Lee University</td>\n",
       "      <td>Lexington</td>\n",
       "      <td>VA</td>\n",
       "      <td>24450-2116</td>\n",
       "      <td>Southern Association of Colleges and Schools C...</td>\n",
       "      <td>www.wlu.edu/</td>\n",
       "      <td>wlu.studentaidcalculator.com/survey.aspx</td>\n",
       "      <td>...</td>\n",
       "      <td>35</td>\n",
       "      <td>148</td>\n",
       "      <td>PrivacySuppressed</td>\n",
       "      <td>PrivacySuppressed</td>\n",
       "      <td>PrivacySuppressed</td>\n",
       "      <td>156</td>\n",
       "      <td>379852</td>\n",
       "      <td>379852</td>\n",
       "      <td>274</td>\n",
       "      <td>281</td>\n",
       "    </tr>\n",
       "  </tbody>\n",
       "</table>\n",
       "<p>5 rows × 1728 columns</p>\n",
       "</div>"
      ],
      "text/plain": [
       "      UNITID   OPEID  opeid6  \\\n",
       "309   112260  117000    1170   \n",
       "583   123165  117400    1174   \n",
       "1398  152530  183800    1838   \n",
       "2638  190372  271000    2710   \n",
       "4268  234207  376800    3768   \n",
       "\n",
       "                                                 INSTNM       CITY STABBR  \\\n",
       "309                           Claremont McKenna College  Claremont     CA   \n",
       "583                                     Scripps College  Claremont     CA   \n",
       "1398                                  Taylor University     Upland     IN   \n",
       "2638  Cooper Union for the Advancement of Science an...   New York     NY   \n",
       "4268                      Washington and Lee University  Lexington     VA   \n",
       "\n",
       "             ZIP                                       AccredAgency  \\\n",
       "309   91711-6400  Western Association of Schools and Colleges Se...   \n",
       "583   91711-3905  Western Association of Schools and Colleges Se...   \n",
       "1398  46989-1001  North Central Association of Colleges and Scho...   \n",
       "2638  10003-7120       Middle States Commission on Higher Education   \n",
       "4268  24450-2116  Southern Association of Colleges and Schools C...   \n",
       "\n",
       "                        INSTURL  \\\n",
       "309   www.claremontmckenna.edu/   \n",
       "583      www.scrippscollege.edu   \n",
       "1398             www.taylor.edu   \n",
       "2638             www.cooper.edu   \n",
       "4268               www.wlu.edu/   \n",
       "\n",
       "                                                 NPCURL     ...      \\\n",
       "309   npc.collegeboard.org/student/app/claremontmckenna     ...       \n",
       "583   admission.scrippscollege.edu/net-price-calculator     ...       \n",
       "1398          www.taylor.edu/finaid/netpricecalculator/     ...       \n",
       "2638  cooper.edu/admissions/financial-aid/net-price-...     ...       \n",
       "4268           wlu.studentaidcalculator.com/survey.aspx     ...       \n",
       "\n",
       "      PELL_YR8_N  NOPELL_YR8_N         LOAN_YR8_N       NOLOAN_YR8_N  \\\n",
       "309           42            69  PrivacySuppressed  PrivacySuppressed   \n",
       "583           37            75  PrivacySuppressed  PrivacySuppressed   \n",
       "1398         233           250                458                 25   \n",
       "2638          68            32                 79                 21   \n",
       "4268          35           148  PrivacySuppressed  PrivacySuppressed   \n",
       "\n",
       "         FIRSTGEN_YR8_N  NOT1STGEN_YR8_N  REPAY_DT_MDN  SEPAR_DT_MDN  \\\n",
       "309   PrivacySuppressed               90        379852        379852   \n",
       "583   PrivacySuppressed               96        379852        379852   \n",
       "1398                107              352         19611        379852   \n",
       "2638  PrivacySuppressed               70        379852        379852   \n",
       "4268  PrivacySuppressed              156        379852        379852   \n",
       "\n",
       "      REPAY_DT_N  SEPAR_DT_N  \n",
       "309           84          90  \n",
       "583          177         184  \n",
       "1398         642         666  \n",
       "2638          91          95  \n",
       "4268         274         281  \n",
       "\n",
       "[5 rows x 1728 columns]"
      ]
     },
     "execution_count": 43,
     "metadata": {},
     "output_type": "execute_result"
    }
   ],
   "source": [
    "df_top[df_top['PAR_ED_PCT_PS'] == 'PrivacySuppressed']"
   ]
  },
  {
   "cell_type": "code",
   "execution_count": 44,
   "metadata": {
    "collapsed": false
   },
   "outputs": [
    {
     "data": {
      "text/plain": [
       "array([ 15.,  11.,  16.,  13.,  14.,   8.,  17.,   6.,  10.])"
      ]
     },
     "execution_count": 44,
     "metadata": {},
     "output_type": "execute_result"
    }
   ],
   "source": [
    "# carnegie size classification\n",
    "df_top.CCSIZSET.unique()"
   ]
  },
  {
   "cell_type": "code",
   "execution_count": null,
   "metadata": {
    "collapsed": true
   },
   "outputs": [],
   "source": []
  },
  {
   "cell_type": "code",
   "execution_count": 45,
   "metadata": {
    "collapsed": false
   },
   "outputs": [
    {
     "data": {
      "text/plain": [
       "count      131.000000\n",
       "mean     18894.461832\n",
       "std       4137.689887\n",
       "min       6569.000000\n",
       "25%      17277.500000\n",
       "50%      19000.000000\n",
       "75%      21500.000000\n",
       "max      27000.000000\n",
       "Name: DEBT_MDN, dtype: float64"
      ]
     },
     "execution_count": 45,
     "metadata": {},
     "output_type": "execute_result"
    }
   ],
   "source": [
    "# both grads and drop outs\n",
    "df_top.DEBT_MDN.astype('float').describe()"
   ]
  },
  {
   "cell_type": "code",
   "execution_count": 46,
   "metadata": {
    "collapsed": false
   },
   "outputs": [
    {
     "data": {
      "text/plain": [
       "count      131.000000\n",
       "mean     21076.370229\n",
       "std       4812.173788\n",
       "min       6000.000000\n",
       "25%      19000.000000\n",
       "50%      21630.000000\n",
       "75%      25000.000000\n",
       "max      28804.500000\n",
       "Name: GRAD_DEBT_MDN, dtype: float64"
      ]
     },
     "execution_count": 46,
     "metadata": {},
     "output_type": "execute_result"
    }
   ],
   "source": [
    "# grads only\n",
    "df_top.GRAD_DEBT_MDN.astype('float').describe()"
   ]
  },
  {
   "cell_type": "code",
   "execution_count": 47,
   "metadata": {
    "collapsed": false
   },
   "outputs": [
    {
     "data": {
      "text/plain": [
       "count    131.000000\n",
       "mean     233.990916\n",
       "std       53.424994\n",
       "min       66.612300\n",
       "25%      210.938950\n",
       "50%      240.137341\n",
       "75%      277.551250\n",
       "max      319.788999\n",
       "Name: GRAD_DEBT_MDN10YR, dtype: float64"
      ]
     },
     "execution_count": 47,
     "metadata": {},
     "output_type": "execute_result"
    }
   ],
   "source": [
    "df_top.GRAD_DEBT_MDN10YR.astype('float').describe()"
   ]
  },
  {
   "cell_type": "code",
   "execution_count": null,
   "metadata": {
    "collapsed": false
   },
   "outputs": [],
   "source": []
  },
  {
   "cell_type": "code",
   "execution_count": 48,
   "metadata": {
    "collapsed": false
   },
   "outputs": [
    {
     "data": {
      "text/plain": [
       "array(['39300', '29000', '64000', '48100', '51600', '46800', '42000',\n",
       "       '38100', '43400', '59100', '36700', '60100', '48000', '51900',\n",
       "       '34200', '64700', '29300', '66200', '44200', '46200', '50100',\n",
       "       '38400', '76400', '45200', '56300', '86100', '37000', '45100',\n",
       "       '50500', '62600', '59700', '41000', '69800', '47400', '54800',\n",
       "       '65600', '37300', '52400', '23700', '68600', '30600', '49000',\n",
       "       '42700', '63300', '41800', '36000', '59900', '62400', '48700',\n",
       "       '40200', '33800', '106300', '39800', '106900', '51700', '68700',\n",
       "       '55400', '49200', '55200', '70500', '71600', '60800', '44600',\n",
       "       '49800', '79300', '68900', '44000', '51000', '49700', '62900',\n",
       "       '47600', '45800', '34800', '44300', '42500', '47200', '87600',\n",
       "       '46600', '40500', '65800', '38000', '37500', '46400', '32000',\n",
       "       '27500', '38800', '56400', '70900', '92300', '59800', '54400',\n",
       "       '40800', '58600', '39900', '37600', '52700', '45400', '42100',\n",
       "       '50600', '48300', '53100', '62300', '43100', '37400', '49900',\n",
       "       '46100', '102300', 'PrivacySuppressed', '53200'], dtype=object)"
      ]
     },
     "execution_count": 48,
     "metadata": {},
     "output_type": "execute_result"
    }
   ],
   "source": [
    "# Mean earnings of students working and not enrolled 6 years after entry\n",
    "# basically 2nd year salary\n",
    "df_top.mn_earn_wne_p6.unique()"
   ]
  },
  {
   "cell_type": "code",
   "execution_count": 49,
   "metadata": {
    "collapsed": false
   },
   "outputs": [
    {
     "data": {
      "text/plain": [
       "array(['52100', '44500', '95000', '66000', '78600', '70200', '69700',\n",
       "       '58900', '52700', '80600', '63900', '55000', '73900', '64300',\n",
       "       '81000', '52900', '77100', '47300', '82300', '61100', '59700',\n",
       "       '69600', '62100', '95300', '63200', '76500', '110800', '50200',\n",
       "       '59900', '64000', '73800', '78800', '54000', '95800', '65600',\n",
       "       '71700', '85600', '51500', '63100', '39000', '88000', '43000',\n",
       "       '68200', '58800', '84700', '57500', '66600', '53200', '82600',\n",
       "       '83800', '69200', '70000', '50000', '130500', '54200', '128400',\n",
       "       '66400', '91900', '83200', '72000', '61500', '47400', '80700',\n",
       "       '67500', '99700', '113000', '87700', '61000', '79600', '99600',\n",
       "       '93800', '64900', '76800', '75600', '85500', '61300', '74300',\n",
       "       '51400', '65100', '59500', '51300', '107600', '62400', '54800',\n",
       "       '77400', '53000', '45600', '48600', '49900', '44600', '58100',\n",
       "       '95900', '85800', '113400', '84100', '81400', '55400', '54500',\n",
       "       '65000', '47500', '77000', '55900', '48900', '81300', '64400',\n",
       "       '65400', '58300', '67100', '66700', '81100', '74800', '63700',\n",
       "       '74400', '89600', '57100', '55100', '64100', '123400', '59600', nan,\n",
       "       'PrivacySuppressed'], dtype=object)"
      ]
     },
     "execution_count": 49,
     "metadata": {},
     "output_type": "execute_result"
    }
   ],
   "source": [
    "# mean earnings 10 years after enrolling so ~ 6 years after graduating\n",
    "df_top.mn_earn_wne_p10.unique()"
   ]
  },
  {
   "cell_type": "markdown",
   "metadata": {
    "collapsed": false
   },
   "source": [
    "Begin creating y column"
   ]
  },
  {
   "cell_type": "code",
   "execution_count": 50,
   "metadata": {
    "collapsed": false,
    "scrolled": true
   },
   "outputs": [],
   "source": [
    "# salary_table = pd.DataFrame(0, index=np.arange(1,46,1), columns=['Earnings', 'Edu_Price', 'Opp_Cost'])\n",
    "\n",
    "# salary_table"
   ]
  },
  {
   "cell_type": "code",
   "execution_count": 51,
   "metadata": {
    "collapsed": true
   },
   "outputs": [],
   "source": [
    "import pdb"
   ]
  },
  {
   "cell_type": "code",
   "execution_count": null,
   "metadata": {
    "collapsed": false
   },
   "outputs": [],
   "source": []
  },
  {
   "cell_type": "code",
   "execution_count": null,
   "metadata": {
    "collapsed": false,
    "scrolled": true
   },
   "outputs": [],
   "source": [
    "salary_table = pd.DataFrame(0, index=np.arange(1,46,1), columns=['Earnings', 'Edu_Price', 'Opp_Cost', 'NPV'])\n",
    "salary_table"
   ]
  },
  {
   "cell_type": "code",
   "execution_count": 173,
   "metadata": {
    "collapsed": false
   },
   "outputs": [],
   "source": [
    "# CONTROL, NPT4_PRIV, NPT4_PUB, mn_earn_wne_p6, mn_earn_wne_p10\n",
    "\n",
    "def NPV(Control, Edu_Price_Pvt, Edu_Price_Pub, mean_earnings_6yr, mean_earnings_10yr):\n",
    "    salary_table = pd.DataFrame(0, index=np.arange(1,46,1), columns=['Earnings', 'Edu_Price', 'Opp_Cost', 'NPV'])\n",
    "    \n",
    "    # populating Opportunity Cost column\n",
    "    salary_table.Opp_Cost[1] = 25000\n",
    "    for i in range(2,16,1):\n",
    "        salary_table.Opp_Cost[i] = 25000 + (((i-1)/float(15)) * 10000)\n",
    "    for i in range(16, 46, 1):\n",
    "        salary_table.Opp_Cost[i] = 35000\n",
    "    \n",
    "    # populating educational cost column\n",
    "    for i in range(1,5,1):\n",
    "        if Control == 1:\n",
    "            salary_table.Edu_Price[i] = Edu_Price_Pub\n",
    "        else:\n",
    "            salary_table.Edu_Price[i] = Edu_Price_Pvt\n",
    "    \n",
    "    # populating lifetime earnings column\n",
    "    salary_table.Earnings[5] = 0.85 * float(mean_earnings_6yr)\n",
    "    salary_table.Earnings[6] = float(mean_earnings_6yr)\n",
    "    for i in range(7,11,1):\n",
    "        salary_table.Earnings[i] = float(mean_earnings_6yr) + (float(mean_earnings_10yr) - float(mean_earnings_6yr) \\\n",
    "        * (0.25 * (i - 6)))\n",
    "    for i in range(11, 27, 1):\n",
    "        salary_table.Earnings[i] = salary_table.Earnings[(i-1)] * 1.025\n",
    "    for i in range(27, 46, 1):\n",
    "        salary_table.Earnings[i] = salary_table.Earnings[(i-1)]\n",
    "    \n",
    "    # populating NPV column\n",
    "    for i in range (1, 46, 1):\n",
    "        salary_table.NPV[i] = (salary_table.Earnings[i] * (1/(1.05 ** i))) + (salary_table.Edu_Price[i] * (-1.05 ** i)) \\\n",
    "        + (salary_table.Opp_Cost[i] * (-1/(1.05 ** i)))\n",
    "    \n",
    "    return np.sum(salary_table.NPV)\n",
    "    "
   ]
  },
  {
   "cell_type": "code",
   "execution_count": null,
   "metadata": {
    "collapsed": false
   },
   "outputs": [],
   "source": [
    "# salary_table.Opp_Cost[1] = 25000\n",
    "# for i in range(2,16,1):\n",
    "#     salary_table.Opp_Cost[i] = 25000 + (((i-1)/float(15)) * 10000)\n",
    "# for i in range(16, 46, 1):\n",
    "#     salary_table.Opp_Cost[i] = 35000"
   ]
  },
  {
   "cell_type": "code",
   "execution_count": 174,
   "metadata": {
    "collapsed": false,
    "scrolled": true
   },
   "outputs": [
    {
     "data": {
      "text/plain": [
       "573289"
      ]
     },
     "execution_count": 174,
     "metadata": {},
     "output_type": "execute_result"
    }
   ],
   "source": [
    "NPV(1, 0, 20000, 50000, 70000)"
   ]
  },
  {
   "cell_type": "code",
   "execution_count": 154,
   "metadata": {
    "collapsed": true
   },
   "outputs": [],
   "source": [
    "df_top = df_top.copy()"
   ]
  },
  {
   "cell_type": "code",
   "execution_count": 180,
   "metadata": {
    "collapsed": true
   },
   "outputs": [],
   "source": [
    "df_top = df_top[df_top.mn_earn_wne_p10 != 'PrivacySuppressed']\n",
    "df_top = df_top[df_top.mn_earn_wne_p6 != 'PrivacySuppressed']"
   ]
  },
  {
   "cell_type": "code",
   "execution_count": 181,
   "metadata": {
    "collapsed": false,
    "scrolled": true
   },
   "outputs": [],
   "source": [
    "# CONTROL, NPT4_PRIV, NPT4_PUB, mn_earn_wne_p6, mn_earn_wne_p10\n",
    "df_top['y'] = np.nan\n",
    "for ix in range(len(df_top)):\n",
    "    df_top.y.iloc[ix] = NPV(df_top.CONTROL.iloc[ix], df_top.NPT4_PRIV.iloc[ix], df_top.NPT4_PUB.iloc[ix], \n",
    "                      df_top.mn_earn_wne_p6.iloc[ix], df_top.mn_earn_wne_p10.iloc[ix])"
   ]
  },
  {
   "cell_type": "code",
   "execution_count": 182,
   "metadata": {
    "collapsed": false,
    "scrolled": true
   },
   "outputs": [
    {
     "data": {
      "text/plain": [
       "9        276431\n",
       "171      110344\n",
       "244      975477\n",
       "246      518737\n",
       "266      740805\n",
       "269      597020\n",
       "271      574253\n",
       "273      395939\n",
       "300      222216\n",
       "309      749034\n",
       "441      402074\n",
       "510      284713\n",
       "529      639260\n",
       "557      426179\n",
       "578      683446\n",
       "583      238011\n",
       "610      683209\n",
       "662      127244\n",
       "667      783986\n",
       "681      376616\n",
       "728      404409\n",
       "777      538173\n",
       "779      400082\n",
       "782     1050900\n",
       "794      393662\n",
       "800      644843\n",
       "801     1268602\n",
       "854      253780\n",
       "858      435845\n",
       "909      433024\n",
       "         ...   \n",
       "3604    1346653\n",
       "3671     758732\n",
       "3691     740872\n",
       "3722     359568\n",
       "3733     282544\n",
       "3871     450559\n",
       "3877     179074\n",
       "3901     716556\n",
       "3925     270783\n",
       "3949     187423\n",
       "4035     790677\n",
       "4054     444624\n",
       "4079     519475\n",
       "4084     326879\n",
       "4096     510939\n",
       "4116     533367\n",
       "4154     726770\n",
       "4172     552471\n",
       "4228     636051\n",
       "4257     466297\n",
       "4260     662064\n",
       "4268     894213\n",
       "4297     316406\n",
       "4322     253063\n",
       "4343     468302\n",
       "4424     439775\n",
       "4430     494733\n",
       "4464     412019\n",
       "4561    1561305\n",
       "4562     416499\n",
       "Name: y, dtype: float64"
      ]
     },
     "execution_count": 182,
     "metadata": {},
     "output_type": "execute_result"
    }
   ],
   "source": [
    "df_top.y"
   ]
  },
  {
   "cell_type": "code",
   "execution_count": null,
   "metadata": {
    "collapsed": false,
    "scrolled": true
   },
   "outputs": [],
   "source": []
  },
  {
   "cell_type": "code",
   "execution_count": 178,
   "metadata": {
    "collapsed": false,
    "scrolled": false
   },
   "outputs": [
    {
     "data": {
      "text/plain": [
       "array(['52100', '44500', '95000', '66000', '78600', '70200', '69700',\n",
       "       '58900', '52700', '80600', '63900', '55000', '73900', '64300',\n",
       "       '81000', '52900', '77100', '47300', '82300', '61100', '59700',\n",
       "       '69600', '62100', '95300', '63200', '76500', '110800', '50200',\n",
       "       '59900', '64000', '73800', '78800', '54000', '95800', '65600',\n",
       "       '71700', '85600', '51500', '63100', '39000', '88000', '43000',\n",
       "       '68200', '58800', '84700', '57500', '66600', '53200', '82600',\n",
       "       '83800', '69200', '70000', '50000', '130500', '54200', '128400',\n",
       "       '66400', '91900', '83200', '72000', '61500', '47400', '80700',\n",
       "       '67500', '99700', '113000', '87700', '61000', '79600', '99600',\n",
       "       '93800', '64900', '76800', '75600', '85500', '61300', '74300',\n",
       "       '51400', '65100', '59500', '51300', '107600', '62400', '54800',\n",
       "       '77400', '53000', '45600', '48600', '49900', '44600', '58100',\n",
       "       '95900', '85800', '113400', '84100', '81400', '55400', '54500',\n",
       "       '65000', '47500', '77000', '55900', '48900', '81300', '64400',\n",
       "       '65400', '58300', '67100', '66700', '81100', '74800', '63700',\n",
       "       '74400', '89600', '57100', '55100', '64100', '123400', '59600', nan,\n",
       "       'PrivacySuppressed'], dtype=object)"
      ]
     },
     "execution_count": 178,
     "metadata": {},
     "output_type": "execute_result"
    }
   ],
   "source": [
    "df_top.mn_earn_wne_p10.unique()"
   ]
  },
  {
   "cell_type": "code",
   "execution_count": 177,
   "metadata": {
    "collapsed": false,
    "scrolled": true
   },
   "outputs": [
    {
     "data": {
      "text/plain": [
       "array(['39300', '29000', '64000', '48100', '51600', '46800', '42000',\n",
       "       '38100', '43400', '59100', '36700', '60100', '48000', '51900',\n",
       "       '34200', '64700', '29300', '66200', '44200', '46200', '50100',\n",
       "       '38400', '76400', '45200', '56300', '86100', '37000', '45100',\n",
       "       '50500', '62600', '59700', '41000', '69800', '47400', '54800',\n",
       "       '65600', '37300', '52400', '23700', '68600', '30600', '49000',\n",
       "       '42700', '63300', '41800', '36000', '59900', '62400', '48700',\n",
       "       '40200', '33800', '106300', '39800', '106900', '51700', '68700',\n",
       "       '55400', '49200', '55200', '70500', '71600', '60800', '44600',\n",
       "       '49800', '79300', '68900', '44000', '51000', '49700', '62900',\n",
       "       '47600', '45800', '34800', '44300', '42500', '47200', '87600',\n",
       "       '46600', '40500', '65800', '38000', '37500', '46400', '32000',\n",
       "       '27500', '38800', '56400', '70900', '92300', '59800', '54400',\n",
       "       '40800', '58600', '39900', '37600', '52700', '45400', '42100',\n",
       "       '50600', '48300', '53100', '62300', '43100', '37400', '49900',\n",
       "       '46100', '102300', 'PrivacySuppressed', '53200'], dtype=object)"
      ]
     },
     "execution_count": 177,
     "metadata": {},
     "output_type": "execute_result"
    }
   ],
   "source": [
    "df_top.mn_earn_wne_p6.unique()"
   ]
  },
  {
   "cell_type": "code",
   "execution_count": null,
   "metadata": {
    "collapsed": false
   },
   "outputs": [],
   "source": []
  },
  {
   "cell_type": "code",
   "execution_count": 57,
   "metadata": {
    "collapsed": false
   },
   "outputs": [],
   "source": []
  },
  {
   "cell_type": "code",
   "execution_count": 128,
   "metadata": {
    "collapsed": false
   },
   "outputs": [],
   "source": [
    "import csv\n",
    "with open('Columns - Sheet1 (3).csv', 'rb') as c:\n",
    "    reader = csv.reader(c)\n",
    "    columns = list(reader)"
   ]
  },
  {
   "cell_type": "code",
   "execution_count": 129,
   "metadata": {
    "collapsed": false
   },
   "outputs": [
    {
     "data": {
      "text/plain": [
       "['STABBR',\n",
       " 'PREDDEG',\n",
       " 'HIGHDEG',\n",
       " 'CONTROL',\n",
       " 'region',\n",
       " 'LOCALE',\n",
       " 'CCBASIC',\n",
       " 'CCUGPROF',\n",
       " 'CCSIZSET',\n",
       " 'HBCU',\n",
       " 'PBI',\n",
       " 'ANNHI',\n",
       " 'TRIBAL',\n",
       " 'AANAPII',\n",
       " 'HSI',\n",
       " 'NANTI',\n",
       " 'MENONLY',\n",
       " 'WOMENONLY',\n",
       " 'ADM_RATE',\n",
       " 'ADM_RATE_ALL',\n",
       " 'SATVR25',\n",
       " 'SATVR75',\n",
       " 'SATMT25',\n",
       " 'SATMT75',\n",
       " 'SATWR25',\n",
       " 'SATWR75',\n",
       " 'SATVRMID',\n",
       " 'SATMTMID',\n",
       " 'SATWRMID',\n",
       " 'ACTCM25',\n",
       " 'ACTCM75',\n",
       " 'ACTEN25',\n",
       " 'ACTEN75',\n",
       " 'ACTMT25',\n",
       " 'ACTMT75',\n",
       " 'ACTWR25',\n",
       " 'ACTWR75',\n",
       " 'ACTCMMID',\n",
       " 'ACTENMID',\n",
       " 'ACTMTMID',\n",
       " 'ACTWRMID',\n",
       " 'SAT_AVG',\n",
       " 'SAT_AVG_ALL',\n",
       " 'PCIP01',\n",
       " 'PCIP03',\n",
       " 'PCIP04',\n",
       " 'PCIP05',\n",
       " 'PCIP09',\n",
       " 'PCIP10',\n",
       " 'PCIP11',\n",
       " 'PCIP12',\n",
       " 'PCIP13',\n",
       " 'PCIP14',\n",
       " 'PCIP15',\n",
       " 'PCIP16',\n",
       " 'PCIP19',\n",
       " 'PCIP22',\n",
       " 'PCIP23',\n",
       " 'PCIP24',\n",
       " 'PCIP25',\n",
       " 'PCIP26',\n",
       " 'PCIP27',\n",
       " 'PCIP29',\n",
       " 'PCIP30',\n",
       " 'PCIP31',\n",
       " 'PCIP38',\n",
       " 'PCIP39',\n",
       " 'PCIP40',\n",
       " 'PCIP41',\n",
       " 'PCIP42',\n",
       " 'PCIP43',\n",
       " 'PCIP44',\n",
       " 'PCIP45',\n",
       " 'PCIP46',\n",
       " 'PCIP47',\n",
       " 'PCIP48',\n",
       " 'PCIP49',\n",
       " 'PCIP50',\n",
       " 'PCIP51',\n",
       " 'PCIP52',\n",
       " 'PCIP54',\n",
       " 'DISTANCEONLY',\n",
       " 'UGDS_WHITE',\n",
       " 'UGDS_BLACK',\n",
       " 'UGDS_HISP',\n",
       " 'UGDS_ASIAN',\n",
       " 'UGDS_AIAN',\n",
       " 'UGDS_NHPI',\n",
       " 'UGDS_2MOR',\n",
       " 'UGDS_NRA',\n",
       " 'UGDS_UNKN',\n",
       " 'UGDS_WHITENH',\n",
       " 'UGDS_BLACKNH',\n",
       " 'UGDS_API',\n",
       " 'UGDS_AIANOld',\n",
       " 'UGDS_HISPOld',\n",
       " 'UG_NRA',\n",
       " 'UG_UNKN',\n",
       " 'UG_WHITENH',\n",
       " 'UG_BLACKNH',\n",
       " 'UG_API',\n",
       " 'UG_AIANOld',\n",
       " 'UG_HISPOld',\n",
       " 'INEXPFTE',\n",
       " 'AVGFACSAL',\n",
       " 'PFTFAC',\n",
       " 'PCTPELL',\n",
       " 'PCTFLOAN',\n",
       " 'UG25abv',\n",
       " 'loan_ever',\n",
       " 'pell_ever',\n",
       " 'age_entry',\n",
       " 'agege24',\n",
       " 'female',\n",
       " 'married',\n",
       " 'dependent',\n",
       " 'veteran',\n",
       " 'first_gen',\n",
       " 'faminc',\n",
       " 'md_faminc',\n",
       " 'faminc_ind',\n",
       " 'lnfaminc',\n",
       " 'lnfaminc_ind']"
      ]
     },
     "execution_count": 129,
     "metadata": {},
     "output_type": "execute_result"
    }
   ],
   "source": [
    "columns[0]"
   ]
  },
  {
   "cell_type": "code",
   "execution_count": 192,
   "metadata": {
    "collapsed": false
   },
   "outputs": [],
   "source": [
    "X = df_top[columns[0]]"
   ]
  },
  {
   "cell_type": "code",
   "execution_count": 193,
   "metadata": {
    "collapsed": false,
    "scrolled": true
   },
   "outputs": [
    {
     "data": {
      "text/html": [
       "<div>\n",
       "<table border=\"1\" class=\"dataframe\">\n",
       "  <thead>\n",
       "    <tr style=\"text-align: right;\">\n",
       "      <th></th>\n",
       "      <th>count</th>\n",
       "      <th>mean</th>\n",
       "      <th>std</th>\n",
       "      <th>min</th>\n",
       "      <th>25%</th>\n",
       "      <th>50%</th>\n",
       "      <th>75%</th>\n",
       "      <th>max</th>\n",
       "    </tr>\n",
       "  </thead>\n",
       "  <tbody>\n",
       "    <tr>\n",
       "      <th>PREDDEG</th>\n",
       "      <td>129</td>\n",
       "      <td>3.000000</td>\n",
       "      <td>0.000000</td>\n",
       "      <td>3.0000</td>\n",
       "      <td>3.00000</td>\n",
       "      <td>3.00000</td>\n",
       "      <td>3.0000</td>\n",
       "      <td>3.0000</td>\n",
       "    </tr>\n",
       "    <tr>\n",
       "      <th>HIGHDEG</th>\n",
       "      <td>129</td>\n",
       "      <td>4.000000</td>\n",
       "      <td>0.000000</td>\n",
       "      <td>4.0000</td>\n",
       "      <td>4.00000</td>\n",
       "      <td>4.00000</td>\n",
       "      <td>4.0000</td>\n",
       "      <td>4.0000</td>\n",
       "    </tr>\n",
       "    <tr>\n",
       "      <th>CONTROL</th>\n",
       "      <td>129</td>\n",
       "      <td>1.697674</td>\n",
       "      <td>0.461056</td>\n",
       "      <td>1.0000</td>\n",
       "      <td>1.00000</td>\n",
       "      <td>2.00000</td>\n",
       "      <td>2.0000</td>\n",
       "      <td>2.0000</td>\n",
       "    </tr>\n",
       "    <tr>\n",
       "      <th>region</th>\n",
       "      <td>129</td>\n",
       "      <td>3.984496</td>\n",
       "      <td>2.388071</td>\n",
       "      <td>1.0000</td>\n",
       "      <td>2.00000</td>\n",
       "      <td>3.00000</td>\n",
       "      <td>6.0000</td>\n",
       "      <td>8.0000</td>\n",
       "    </tr>\n",
       "    <tr>\n",
       "      <th>LOCALE</th>\n",
       "      <td>129</td>\n",
       "      <td>16.503876</td>\n",
       "      <td>7.287751</td>\n",
       "      <td>11.0000</td>\n",
       "      <td>11.00000</td>\n",
       "      <td>12.00000</td>\n",
       "      <td>21.0000</td>\n",
       "      <td>42.0000</td>\n",
       "    </tr>\n",
       "    <tr>\n",
       "      <th>CCBASIC</th>\n",
       "      <td>129</td>\n",
       "      <td>16.992248</td>\n",
       "      <td>2.412520</td>\n",
       "      <td>15.0000</td>\n",
       "      <td>15.00000</td>\n",
       "      <td>16.00000</td>\n",
       "      <td>18.0000</td>\n",
       "      <td>22.0000</td>\n",
       "    </tr>\n",
       "    <tr>\n",
       "      <th>CCUGPROF</th>\n",
       "      <td>129</td>\n",
       "      <td>12.193798</td>\n",
       "      <td>0.396814</td>\n",
       "      <td>12.0000</td>\n",
       "      <td>12.00000</td>\n",
       "      <td>12.00000</td>\n",
       "      <td>12.0000</td>\n",
       "      <td>13.0000</td>\n",
       "    </tr>\n",
       "    <tr>\n",
       "      <th>CCSIZSET</th>\n",
       "      <td>129</td>\n",
       "      <td>14.356589</td>\n",
       "      <td>2.354512</td>\n",
       "      <td>6.0000</td>\n",
       "      <td>13.00000</td>\n",
       "      <td>14.00000</td>\n",
       "      <td>16.0000</td>\n",
       "      <td>17.0000</td>\n",
       "    </tr>\n",
       "    <tr>\n",
       "      <th>HBCU</th>\n",
       "      <td>129</td>\n",
       "      <td>0.000000</td>\n",
       "      <td>0.000000</td>\n",
       "      <td>0.0000</td>\n",
       "      <td>0.00000</td>\n",
       "      <td>0.00000</td>\n",
       "      <td>0.0000</td>\n",
       "      <td>0.0000</td>\n",
       "    </tr>\n",
       "    <tr>\n",
       "      <th>PBI</th>\n",
       "      <td>129</td>\n",
       "      <td>0.000000</td>\n",
       "      <td>0.000000</td>\n",
       "      <td>0.0000</td>\n",
       "      <td>0.00000</td>\n",
       "      <td>0.00000</td>\n",
       "      <td>0.0000</td>\n",
       "      <td>0.0000</td>\n",
       "    </tr>\n",
       "    <tr>\n",
       "      <th>ANNHI</th>\n",
       "      <td>129</td>\n",
       "      <td>0.000000</td>\n",
       "      <td>0.000000</td>\n",
       "      <td>0.0000</td>\n",
       "      <td>0.00000</td>\n",
       "      <td>0.00000</td>\n",
       "      <td>0.0000</td>\n",
       "      <td>0.0000</td>\n",
       "    </tr>\n",
       "    <tr>\n",
       "      <th>TRIBAL</th>\n",
       "      <td>129</td>\n",
       "      <td>0.000000</td>\n",
       "      <td>0.000000</td>\n",
       "      <td>0.0000</td>\n",
       "      <td>0.00000</td>\n",
       "      <td>0.00000</td>\n",
       "      <td>0.0000</td>\n",
       "      <td>0.0000</td>\n",
       "    </tr>\n",
       "    <tr>\n",
       "      <th>AANAPII</th>\n",
       "      <td>129</td>\n",
       "      <td>0.007752</td>\n",
       "      <td>0.088045</td>\n",
       "      <td>0.0000</td>\n",
       "      <td>0.00000</td>\n",
       "      <td>0.00000</td>\n",
       "      <td>0.0000</td>\n",
       "      <td>1.0000</td>\n",
       "    </tr>\n",
       "    <tr>\n",
       "      <th>HSI</th>\n",
       "      <td>129</td>\n",
       "      <td>0.000000</td>\n",
       "      <td>0.000000</td>\n",
       "      <td>0.0000</td>\n",
       "      <td>0.00000</td>\n",
       "      <td>0.00000</td>\n",
       "      <td>0.0000</td>\n",
       "      <td>0.0000</td>\n",
       "    </tr>\n",
       "    <tr>\n",
       "      <th>NANTI</th>\n",
       "      <td>129</td>\n",
       "      <td>0.000000</td>\n",
       "      <td>0.000000</td>\n",
       "      <td>0.0000</td>\n",
       "      <td>0.00000</td>\n",
       "      <td>0.00000</td>\n",
       "      <td>0.0000</td>\n",
       "      <td>0.0000</td>\n",
       "    </tr>\n",
       "    <tr>\n",
       "      <th>MENONLY</th>\n",
       "      <td>129</td>\n",
       "      <td>0.000000</td>\n",
       "      <td>0.000000</td>\n",
       "      <td>0.0000</td>\n",
       "      <td>0.00000</td>\n",
       "      <td>0.00000</td>\n",
       "      <td>0.0000</td>\n",
       "      <td>0.0000</td>\n",
       "    </tr>\n",
       "    <tr>\n",
       "      <th>WOMENONLY</th>\n",
       "      <td>129</td>\n",
       "      <td>0.015504</td>\n",
       "      <td>0.124027</td>\n",
       "      <td>0.0000</td>\n",
       "      <td>0.00000</td>\n",
       "      <td>0.00000</td>\n",
       "      <td>0.0000</td>\n",
       "      <td>1.0000</td>\n",
       "    </tr>\n",
       "    <tr>\n",
       "      <th>ADM_RATE</th>\n",
       "      <td>129</td>\n",
       "      <td>0.426606</td>\n",
       "      <td>0.218304</td>\n",
       "      <td>0.0569</td>\n",
       "      <td>0.26050</td>\n",
       "      <td>0.42870</td>\n",
       "      <td>0.5787</td>\n",
       "      <td>0.9011</td>\n",
       "    </tr>\n",
       "    <tr>\n",
       "      <th>ADM_RATE_ALL</th>\n",
       "      <td>129</td>\n",
       "      <td>0.423395</td>\n",
       "      <td>0.216678</td>\n",
       "      <td>0.0569</td>\n",
       "      <td>0.26330</td>\n",
       "      <td>0.42390</td>\n",
       "      <td>0.5778</td>\n",
       "      <td>0.9011</td>\n",
       "    </tr>\n",
       "    <tr>\n",
       "      <th>SATVR25</th>\n",
       "      <td>129</td>\n",
       "      <td>591.627907</td>\n",
       "      <td>53.044655</td>\n",
       "      <td>520.0000</td>\n",
       "      <td>550.00000</td>\n",
       "      <td>580.00000</td>\n",
       "      <td>620.0000</td>\n",
       "      <td>720.0000</td>\n",
       "    </tr>\n",
       "    <tr>\n",
       "      <th>SATVR75</th>\n",
       "      <td>129</td>\n",
       "      <td>694.635659</td>\n",
       "      <td>46.586770</td>\n",
       "      <td>620.0000</td>\n",
       "      <td>660.00000</td>\n",
       "      <td>690.00000</td>\n",
       "      <td>720.0000</td>\n",
       "      <td>800.0000</td>\n",
       "    </tr>\n",
       "    <tr>\n",
       "      <th>SATMT25</th>\n",
       "      <td>129</td>\n",
       "      <td>616.434109</td>\n",
       "      <td>53.367805</td>\n",
       "      <td>510.0000</td>\n",
       "      <td>570.00000</td>\n",
       "      <td>610.00000</td>\n",
       "      <td>660.0000</td>\n",
       "      <td>770.0000</td>\n",
       "    </tr>\n",
       "    <tr>\n",
       "      <th>SATMT75</th>\n",
       "      <td>129</td>\n",
       "      <td>715.759690</td>\n",
       "      <td>47.393759</td>\n",
       "      <td>640.0000</td>\n",
       "      <td>680.00000</td>\n",
       "      <td>710.00000</td>\n",
       "      <td>760.0000</td>\n",
       "      <td>800.0000</td>\n",
       "    </tr>\n",
       "    <tr>\n",
       "      <th>SATWR25</th>\n",
       "      <td>103</td>\n",
       "      <td>599.349515</td>\n",
       "      <td>60.026581</td>\n",
       "      <td>490.0000</td>\n",
       "      <td>550.00000</td>\n",
       "      <td>590.00000</td>\n",
       "      <td>647.5000</td>\n",
       "      <td>720.0000</td>\n",
       "    </tr>\n",
       "    <tr>\n",
       "      <th>SATWR75</th>\n",
       "      <td>103</td>\n",
       "      <td>699.203883</td>\n",
       "      <td>52.392628</td>\n",
       "      <td>610.0000</td>\n",
       "      <td>655.00000</td>\n",
       "      <td>690.00000</td>\n",
       "      <td>750.0000</td>\n",
       "      <td>800.0000</td>\n",
       "    </tr>\n",
       "    <tr>\n",
       "      <th>SATVRMID</th>\n",
       "      <td>129</td>\n",
       "      <td>643.139535</td>\n",
       "      <td>49.320499</td>\n",
       "      <td>570.0000</td>\n",
       "      <td>605.00000</td>\n",
       "      <td>633.00000</td>\n",
       "      <td>670.0000</td>\n",
       "      <td>760.0000</td>\n",
       "    </tr>\n",
       "    <tr>\n",
       "      <th>SATMTMID</th>\n",
       "      <td>129</td>\n",
       "      <td>666.100775</td>\n",
       "      <td>49.579772</td>\n",
       "      <td>580.0000</td>\n",
       "      <td>625.00000</td>\n",
       "      <td>665.00000</td>\n",
       "      <td>700.0000</td>\n",
       "      <td>785.0000</td>\n",
       "    </tr>\n",
       "    <tr>\n",
       "      <th>SATWRMID</th>\n",
       "      <td>103</td>\n",
       "      <td>649.291262</td>\n",
       "      <td>55.927234</td>\n",
       "      <td>550.0000</td>\n",
       "      <td>602.50000</td>\n",
       "      <td>645.00000</td>\n",
       "      <td>692.5000</td>\n",
       "      <td>755.0000</td>\n",
       "    </tr>\n",
       "    <tr>\n",
       "      <th>ACTCM25</th>\n",
       "      <td>125</td>\n",
       "      <td>27.208000</td>\n",
       "      <td>2.420664</td>\n",
       "      <td>23.0000</td>\n",
       "      <td>25.00000</td>\n",
       "      <td>27.00000</td>\n",
       "      <td>29.0000</td>\n",
       "      <td>33.0000</td>\n",
       "    </tr>\n",
       "    <tr>\n",
       "      <th>ACTCM75</th>\n",
       "      <td>125</td>\n",
       "      <td>31.448000</td>\n",
       "      <td>1.748068</td>\n",
       "      <td>28.0000</td>\n",
       "      <td>30.00000</td>\n",
       "      <td>31.00000</td>\n",
       "      <td>33.0000</td>\n",
       "      <td>35.0000</td>\n",
       "    </tr>\n",
       "    <tr>\n",
       "      <th>...</th>\n",
       "      <td>...</td>\n",
       "      <td>...</td>\n",
       "      <td>...</td>\n",
       "      <td>...</td>\n",
       "      <td>...</td>\n",
       "      <td>...</td>\n",
       "      <td>...</td>\n",
       "      <td>...</td>\n",
       "    </tr>\n",
       "    <tr>\n",
       "      <th>PCIP52</th>\n",
       "      <td>129</td>\n",
       "      <td>0.123270</td>\n",
       "      <td>0.121505</td>\n",
       "      <td>0.0000</td>\n",
       "      <td>0.02240</td>\n",
       "      <td>0.11550</td>\n",
       "      <td>0.1825</td>\n",
       "      <td>0.9380</td>\n",
       "    </tr>\n",
       "    <tr>\n",
       "      <th>PCIP54</th>\n",
       "      <td>129</td>\n",
       "      <td>0.029073</td>\n",
       "      <td>0.021315</td>\n",
       "      <td>0.0000</td>\n",
       "      <td>0.01570</td>\n",
       "      <td>0.02510</td>\n",
       "      <td>0.0381</td>\n",
       "      <td>0.1103</td>\n",
       "    </tr>\n",
       "    <tr>\n",
       "      <th>DISTANCEONLY</th>\n",
       "      <td>129</td>\n",
       "      <td>0.000000</td>\n",
       "      <td>0.000000</td>\n",
       "      <td>0.0000</td>\n",
       "      <td>0.00000</td>\n",
       "      <td>0.00000</td>\n",
       "      <td>0.0000</td>\n",
       "      <td>0.0000</td>\n",
       "    </tr>\n",
       "    <tr>\n",
       "      <th>UGDS_WHITE</th>\n",
       "      <td>129</td>\n",
       "      <td>0.595400</td>\n",
       "      <td>0.151010</td>\n",
       "      <td>0.2357</td>\n",
       "      <td>0.47540</td>\n",
       "      <td>0.60260</td>\n",
       "      <td>0.7159</td>\n",
       "      <td>0.9193</td>\n",
       "    </tr>\n",
       "    <tr>\n",
       "      <th>UGDS_BLACK</th>\n",
       "      <td>129</td>\n",
       "      <td>0.048170</td>\n",
       "      <td>0.025183</td>\n",
       "      <td>0.0007</td>\n",
       "      <td>0.02960</td>\n",
       "      <td>0.04540</td>\n",
       "      <td>0.0638</td>\n",
       "      <td>0.1594</td>\n",
       "    </tr>\n",
       "    <tr>\n",
       "      <th>UGDS_HISP</th>\n",
       "      <td>129</td>\n",
       "      <td>0.089679</td>\n",
       "      <td>0.047854</td>\n",
       "      <td>0.0042</td>\n",
       "      <td>0.05680</td>\n",
       "      <td>0.08050</td>\n",
       "      <td>0.1059</td>\n",
       "      <td>0.2481</td>\n",
       "    </tr>\n",
       "    <tr>\n",
       "      <th>UGDS_ASIAN</th>\n",
       "      <td>129</td>\n",
       "      <td>0.107359</td>\n",
       "      <td>0.081047</td>\n",
       "      <td>0.0007</td>\n",
       "      <td>0.04820</td>\n",
       "      <td>0.08820</td>\n",
       "      <td>0.1557</td>\n",
       "      <td>0.4248</td>\n",
       "    </tr>\n",
       "    <tr>\n",
       "      <th>UGDS_AIAN</th>\n",
       "      <td>129</td>\n",
       "      <td>0.003036</td>\n",
       "      <td>0.004493</td>\n",
       "      <td>0.0000</td>\n",
       "      <td>0.00120</td>\n",
       "      <td>0.00180</td>\n",
       "      <td>0.0031</td>\n",
       "      <td>0.0392</td>\n",
       "    </tr>\n",
       "    <tr>\n",
       "      <th>UGDS_NHPI</th>\n",
       "      <td>129</td>\n",
       "      <td>0.001096</td>\n",
       "      <td>0.001309</td>\n",
       "      <td>0.0000</td>\n",
       "      <td>0.00020</td>\n",
       "      <td>0.00070</td>\n",
       "      <td>0.0013</td>\n",
       "      <td>0.0070</td>\n",
       "    </tr>\n",
       "    <tr>\n",
       "      <th>UGDS_2MOR</th>\n",
       "      <td>129</td>\n",
       "      <td>0.037741</td>\n",
       "      <td>0.019677</td>\n",
       "      <td>0.0000</td>\n",
       "      <td>0.02530</td>\n",
       "      <td>0.03590</td>\n",
       "      <td>0.0473</td>\n",
       "      <td>0.1079</td>\n",
       "    </tr>\n",
       "    <tr>\n",
       "      <th>UGDS_NRA</th>\n",
       "      <td>129</td>\n",
       "      <td>0.075560</td>\n",
       "      <td>0.049341</td>\n",
       "      <td>0.0022</td>\n",
       "      <td>0.03800</td>\n",
       "      <td>0.06810</td>\n",
       "      <td>0.1022</td>\n",
       "      <td>0.2563</td>\n",
       "    </tr>\n",
       "    <tr>\n",
       "      <th>UGDS_UNKN</th>\n",
       "      <td>129</td>\n",
       "      <td>0.041964</td>\n",
       "      <td>0.033981</td>\n",
       "      <td>0.0000</td>\n",
       "      <td>0.01700</td>\n",
       "      <td>0.03200</td>\n",
       "      <td>0.0651</td>\n",
       "      <td>0.1445</td>\n",
       "    </tr>\n",
       "    <tr>\n",
       "      <th>UGDS_WHITENH</th>\n",
       "      <td>129</td>\n",
       "      <td>0.470645</td>\n",
       "      <td>0.288254</td>\n",
       "      <td>0.0000</td>\n",
       "      <td>0.33270</td>\n",
       "      <td>0.55130</td>\n",
       "      <td>0.7070</td>\n",
       "      <td>0.9040</td>\n",
       "    </tr>\n",
       "    <tr>\n",
       "      <th>UGDS_BLACKNH</th>\n",
       "      <td>129</td>\n",
       "      <td>0.043123</td>\n",
       "      <td>0.033597</td>\n",
       "      <td>0.0000</td>\n",
       "      <td>0.01250</td>\n",
       "      <td>0.04210</td>\n",
       "      <td>0.0658</td>\n",
       "      <td>0.1666</td>\n",
       "    </tr>\n",
       "    <tr>\n",
       "      <th>UGDS_API</th>\n",
       "      <td>129</td>\n",
       "      <td>0.092482</td>\n",
       "      <td>0.091477</td>\n",
       "      <td>0.0000</td>\n",
       "      <td>0.02580</td>\n",
       "      <td>0.07410</td>\n",
       "      <td>0.1328</td>\n",
       "      <td>0.4896</td>\n",
       "    </tr>\n",
       "    <tr>\n",
       "      <th>UGDS_AIANOld</th>\n",
       "      <td>129</td>\n",
       "      <td>0.004571</td>\n",
       "      <td>0.005172</td>\n",
       "      <td>0.0000</td>\n",
       "      <td>0.00040</td>\n",
       "      <td>0.00400</td>\n",
       "      <td>0.0064</td>\n",
       "      <td>0.0394</td>\n",
       "    </tr>\n",
       "    <tr>\n",
       "      <th>UGDS_HISPOld</th>\n",
       "      <td>129</td>\n",
       "      <td>0.056995</td>\n",
       "      <td>0.049908</td>\n",
       "      <td>0.0000</td>\n",
       "      <td>0.01910</td>\n",
       "      <td>0.05300</td>\n",
       "      <td>0.0775</td>\n",
       "      <td>0.2369</td>\n",
       "    </tr>\n",
       "    <tr>\n",
       "      <th>UG_NRA</th>\n",
       "      <td>129</td>\n",
       "      <td>0.041149</td>\n",
       "      <td>0.029177</td>\n",
       "      <td>0.0000</td>\n",
       "      <td>0.01920</td>\n",
       "      <td>0.03540</td>\n",
       "      <td>0.0521</td>\n",
       "      <td>0.1607</td>\n",
       "    </tr>\n",
       "    <tr>\n",
       "      <th>UG_UNKN</th>\n",
       "      <td>129</td>\n",
       "      <td>0.058897</td>\n",
       "      <td>0.059188</td>\n",
       "      <td>0.0000</td>\n",
       "      <td>0.00970</td>\n",
       "      <td>0.03920</td>\n",
       "      <td>0.0994</td>\n",
       "      <td>0.2848</td>\n",
       "    </tr>\n",
       "    <tr>\n",
       "      <th>UG_WHITENH</th>\n",
       "      <td>129</td>\n",
       "      <td>0.692807</td>\n",
       "      <td>0.150282</td>\n",
       "      <td>0.2930</td>\n",
       "      <td>0.58080</td>\n",
       "      <td>0.70390</td>\n",
       "      <td>0.8077</td>\n",
       "      <td>0.9934</td>\n",
       "    </tr>\n",
       "    <tr>\n",
       "      <th>UG_BLACKNH</th>\n",
       "      <td>129</td>\n",
       "      <td>0.050371</td>\n",
       "      <td>0.027862</td>\n",
       "      <td>0.0000</td>\n",
       "      <td>0.03100</td>\n",
       "      <td>0.04550</td>\n",
       "      <td>0.0684</td>\n",
       "      <td>0.1595</td>\n",
       "    </tr>\n",
       "    <tr>\n",
       "      <th>UG_API</th>\n",
       "      <td>129</td>\n",
       "      <td>0.098144</td>\n",
       "      <td>0.080649</td>\n",
       "      <td>0.0011</td>\n",
       "      <td>0.04090</td>\n",
       "      <td>0.06850</td>\n",
       "      <td>0.1410</td>\n",
       "      <td>0.4017</td>\n",
       "    </tr>\n",
       "    <tr>\n",
       "      <th>UG_AIANOld</th>\n",
       "      <td>129</td>\n",
       "      <td>0.005313</td>\n",
       "      <td>0.005925</td>\n",
       "      <td>0.0000</td>\n",
       "      <td>0.00240</td>\n",
       "      <td>0.00400</td>\n",
       "      <td>0.0064</td>\n",
       "      <td>0.0574</td>\n",
       "    </tr>\n",
       "    <tr>\n",
       "      <th>UG_HISPOld</th>\n",
       "      <td>129</td>\n",
       "      <td>0.053320</td>\n",
       "      <td>0.040987</td>\n",
       "      <td>0.0018</td>\n",
       "      <td>0.02460</td>\n",
       "      <td>0.04450</td>\n",
       "      <td>0.0672</td>\n",
       "      <td>0.2666</td>\n",
       "    </tr>\n",
       "    <tr>\n",
       "      <th>INEXPFTE</th>\n",
       "      <td>129</td>\n",
       "      <td>23676.589147</td>\n",
       "      <td>19084.983814</td>\n",
       "      <td>8478.0000</td>\n",
       "      <td>13166.00000</td>\n",
       "      <td>16161.00000</td>\n",
       "      <td>26268.0000</td>\n",
       "      <td>106214.0000</td>\n",
       "    </tr>\n",
       "    <tr>\n",
       "      <th>AVGFACSAL</th>\n",
       "      <td>129</td>\n",
       "      <td>11028.263566</td>\n",
       "      <td>2376.616034</td>\n",
       "      <td>5086.0000</td>\n",
       "      <td>9518.00000</td>\n",
       "      <td>10886.00000</td>\n",
       "      <td>12158.0000</td>\n",
       "      <td>19862.0000</td>\n",
       "    </tr>\n",
       "    <tr>\n",
       "      <th>PFTFAC</th>\n",
       "      <td>129</td>\n",
       "      <td>0.769478</td>\n",
       "      <td>0.156390</td>\n",
       "      <td>0.2629</td>\n",
       "      <td>0.66320</td>\n",
       "      <td>0.80200</td>\n",
       "      <td>0.8810</td>\n",
       "      <td>1.0000</td>\n",
       "    </tr>\n",
       "    <tr>\n",
       "      <th>PCTPELL</th>\n",
       "      <td>129</td>\n",
       "      <td>0.189267</td>\n",
       "      <td>0.067201</td>\n",
       "      <td>0.0616</td>\n",
       "      <td>0.14290</td>\n",
       "      <td>0.17920</td>\n",
       "      <td>0.2131</td>\n",
       "      <td>0.4471</td>\n",
       "    </tr>\n",
       "    <tr>\n",
       "      <th>PCTFLOAN</th>\n",
       "      <td>129</td>\n",
       "      <td>0.395047</td>\n",
       "      <td>0.135150</td>\n",
       "      <td>0.0290</td>\n",
       "      <td>0.32110</td>\n",
       "      <td>0.40970</td>\n",
       "      <td>0.4747</td>\n",
       "      <td>0.7296</td>\n",
       "    </tr>\n",
       "    <tr>\n",
       "      <th>UG25abv</th>\n",
       "      <td>128</td>\n",
       "      <td>0.041315</td>\n",
       "      <td>0.039007</td>\n",
       "      <td>0.0006</td>\n",
       "      <td>0.01205</td>\n",
       "      <td>0.03005</td>\n",
       "      <td>0.0599</td>\n",
       "      <td>0.2342</td>\n",
       "    </tr>\n",
       "  </tbody>\n",
       "</table>\n",
       "<p>108 rows × 8 columns</p>\n",
       "</div>"
      ],
      "text/plain": [
       "              count          mean           std        min          25%  \\\n",
       "PREDDEG         129      3.000000      0.000000     3.0000      3.00000   \n",
       "HIGHDEG         129      4.000000      0.000000     4.0000      4.00000   \n",
       "CONTROL         129      1.697674      0.461056     1.0000      1.00000   \n",
       "region          129      3.984496      2.388071     1.0000      2.00000   \n",
       "LOCALE          129     16.503876      7.287751    11.0000     11.00000   \n",
       "CCBASIC         129     16.992248      2.412520    15.0000     15.00000   \n",
       "CCUGPROF        129     12.193798      0.396814    12.0000     12.00000   \n",
       "CCSIZSET        129     14.356589      2.354512     6.0000     13.00000   \n",
       "HBCU            129      0.000000      0.000000     0.0000      0.00000   \n",
       "PBI             129      0.000000      0.000000     0.0000      0.00000   \n",
       "ANNHI           129      0.000000      0.000000     0.0000      0.00000   \n",
       "TRIBAL          129      0.000000      0.000000     0.0000      0.00000   \n",
       "AANAPII         129      0.007752      0.088045     0.0000      0.00000   \n",
       "HSI             129      0.000000      0.000000     0.0000      0.00000   \n",
       "NANTI           129      0.000000      0.000000     0.0000      0.00000   \n",
       "MENONLY         129      0.000000      0.000000     0.0000      0.00000   \n",
       "WOMENONLY       129      0.015504      0.124027     0.0000      0.00000   \n",
       "ADM_RATE        129      0.426606      0.218304     0.0569      0.26050   \n",
       "ADM_RATE_ALL    129      0.423395      0.216678     0.0569      0.26330   \n",
       "SATVR25         129    591.627907     53.044655   520.0000    550.00000   \n",
       "SATVR75         129    694.635659     46.586770   620.0000    660.00000   \n",
       "SATMT25         129    616.434109     53.367805   510.0000    570.00000   \n",
       "SATMT75         129    715.759690     47.393759   640.0000    680.00000   \n",
       "SATWR25         103    599.349515     60.026581   490.0000    550.00000   \n",
       "SATWR75         103    699.203883     52.392628   610.0000    655.00000   \n",
       "SATVRMID        129    643.139535     49.320499   570.0000    605.00000   \n",
       "SATMTMID        129    666.100775     49.579772   580.0000    625.00000   \n",
       "SATWRMID        103    649.291262     55.927234   550.0000    602.50000   \n",
       "ACTCM25         125     27.208000      2.420664    23.0000     25.00000   \n",
       "ACTCM75         125     31.448000      1.748068    28.0000     30.00000   \n",
       "...             ...           ...           ...        ...          ...   \n",
       "PCIP52          129      0.123270      0.121505     0.0000      0.02240   \n",
       "PCIP54          129      0.029073      0.021315     0.0000      0.01570   \n",
       "DISTANCEONLY    129      0.000000      0.000000     0.0000      0.00000   \n",
       "UGDS_WHITE      129      0.595400      0.151010     0.2357      0.47540   \n",
       "UGDS_BLACK      129      0.048170      0.025183     0.0007      0.02960   \n",
       "UGDS_HISP       129      0.089679      0.047854     0.0042      0.05680   \n",
       "UGDS_ASIAN      129      0.107359      0.081047     0.0007      0.04820   \n",
       "UGDS_AIAN       129      0.003036      0.004493     0.0000      0.00120   \n",
       "UGDS_NHPI       129      0.001096      0.001309     0.0000      0.00020   \n",
       "UGDS_2MOR       129      0.037741      0.019677     0.0000      0.02530   \n",
       "UGDS_NRA        129      0.075560      0.049341     0.0022      0.03800   \n",
       "UGDS_UNKN       129      0.041964      0.033981     0.0000      0.01700   \n",
       "UGDS_WHITENH    129      0.470645      0.288254     0.0000      0.33270   \n",
       "UGDS_BLACKNH    129      0.043123      0.033597     0.0000      0.01250   \n",
       "UGDS_API        129      0.092482      0.091477     0.0000      0.02580   \n",
       "UGDS_AIANOld    129      0.004571      0.005172     0.0000      0.00040   \n",
       "UGDS_HISPOld    129      0.056995      0.049908     0.0000      0.01910   \n",
       "UG_NRA          129      0.041149      0.029177     0.0000      0.01920   \n",
       "UG_UNKN         129      0.058897      0.059188     0.0000      0.00970   \n",
       "UG_WHITENH      129      0.692807      0.150282     0.2930      0.58080   \n",
       "UG_BLACKNH      129      0.050371      0.027862     0.0000      0.03100   \n",
       "UG_API          129      0.098144      0.080649     0.0011      0.04090   \n",
       "UG_AIANOld      129      0.005313      0.005925     0.0000      0.00240   \n",
       "UG_HISPOld      129      0.053320      0.040987     0.0018      0.02460   \n",
       "INEXPFTE        129  23676.589147  19084.983814  8478.0000  13166.00000   \n",
       "AVGFACSAL       129  11028.263566   2376.616034  5086.0000   9518.00000   \n",
       "PFTFAC          129      0.769478      0.156390     0.2629      0.66320   \n",
       "PCTPELL         129      0.189267      0.067201     0.0616      0.14290   \n",
       "PCTFLOAN        129      0.395047      0.135150     0.0290      0.32110   \n",
       "UG25abv         128      0.041315      0.039007     0.0006      0.01205   \n",
       "\n",
       "                      50%         75%          max  \n",
       "PREDDEG           3.00000      3.0000       3.0000  \n",
       "HIGHDEG           4.00000      4.0000       4.0000  \n",
       "CONTROL           2.00000      2.0000       2.0000  \n",
       "region            3.00000      6.0000       8.0000  \n",
       "LOCALE           12.00000     21.0000      42.0000  \n",
       "CCBASIC          16.00000     18.0000      22.0000  \n",
       "CCUGPROF         12.00000     12.0000      13.0000  \n",
       "CCSIZSET         14.00000     16.0000      17.0000  \n",
       "HBCU              0.00000      0.0000       0.0000  \n",
       "PBI               0.00000      0.0000       0.0000  \n",
       "ANNHI             0.00000      0.0000       0.0000  \n",
       "TRIBAL            0.00000      0.0000       0.0000  \n",
       "AANAPII           0.00000      0.0000       1.0000  \n",
       "HSI               0.00000      0.0000       0.0000  \n",
       "NANTI             0.00000      0.0000       0.0000  \n",
       "MENONLY           0.00000      0.0000       0.0000  \n",
       "WOMENONLY         0.00000      0.0000       1.0000  \n",
       "ADM_RATE          0.42870      0.5787       0.9011  \n",
       "ADM_RATE_ALL      0.42390      0.5778       0.9011  \n",
       "SATVR25         580.00000    620.0000     720.0000  \n",
       "SATVR75         690.00000    720.0000     800.0000  \n",
       "SATMT25         610.00000    660.0000     770.0000  \n",
       "SATMT75         710.00000    760.0000     800.0000  \n",
       "SATWR25         590.00000    647.5000     720.0000  \n",
       "SATWR75         690.00000    750.0000     800.0000  \n",
       "SATVRMID        633.00000    670.0000     760.0000  \n",
       "SATMTMID        665.00000    700.0000     785.0000  \n",
       "SATWRMID        645.00000    692.5000     755.0000  \n",
       "ACTCM25          27.00000     29.0000      33.0000  \n",
       "ACTCM75          31.00000     33.0000      35.0000  \n",
       "...                   ...         ...          ...  \n",
       "PCIP52            0.11550      0.1825       0.9380  \n",
       "PCIP54            0.02510      0.0381       0.1103  \n",
       "DISTANCEONLY      0.00000      0.0000       0.0000  \n",
       "UGDS_WHITE        0.60260      0.7159       0.9193  \n",
       "UGDS_BLACK        0.04540      0.0638       0.1594  \n",
       "UGDS_HISP         0.08050      0.1059       0.2481  \n",
       "UGDS_ASIAN        0.08820      0.1557       0.4248  \n",
       "UGDS_AIAN         0.00180      0.0031       0.0392  \n",
       "UGDS_NHPI         0.00070      0.0013       0.0070  \n",
       "UGDS_2MOR         0.03590      0.0473       0.1079  \n",
       "UGDS_NRA          0.06810      0.1022       0.2563  \n",
       "UGDS_UNKN         0.03200      0.0651       0.1445  \n",
       "UGDS_WHITENH      0.55130      0.7070       0.9040  \n",
       "UGDS_BLACKNH      0.04210      0.0658       0.1666  \n",
       "UGDS_API          0.07410      0.1328       0.4896  \n",
       "UGDS_AIANOld      0.00400      0.0064       0.0394  \n",
       "UGDS_HISPOld      0.05300      0.0775       0.2369  \n",
       "UG_NRA            0.03540      0.0521       0.1607  \n",
       "UG_UNKN           0.03920      0.0994       0.2848  \n",
       "UG_WHITENH        0.70390      0.8077       0.9934  \n",
       "UG_BLACKNH        0.04550      0.0684       0.1595  \n",
       "UG_API            0.06850      0.1410       0.4017  \n",
       "UG_AIANOld        0.00400      0.0064       0.0574  \n",
       "UG_HISPOld        0.04450      0.0672       0.2666  \n",
       "INEXPFTE      16161.00000  26268.0000  106214.0000  \n",
       "AVGFACSAL     10886.00000  12158.0000   19862.0000  \n",
       "PFTFAC            0.80200      0.8810       1.0000  \n",
       "PCTPELL           0.17920      0.2131       0.4471  \n",
       "PCTFLOAN          0.40970      0.4747       0.7296  \n",
       "UG25abv           0.03005      0.0599       0.2342  \n",
       "\n",
       "[108 rows x 8 columns]"
      ]
     },
     "execution_count": 193,
     "metadata": {},
     "output_type": "execute_result"
    }
   ],
   "source": [
    "X.describe().T"
   ]
  },
  {
   "cell_type": "code",
   "execution_count": 132,
   "metadata": {
    "collapsed": false,
    "scrolled": true
   },
   "outputs": [
    {
     "data": {
      "text/plain": [
       "STABBR           object\n",
       "PREDDEG           int64\n",
       "HIGHDEG           int64\n",
       "CONTROL           int64\n",
       "region            int64\n",
       "LOCALE          float64\n",
       "CCBASIC         float64\n",
       "CCUGPROF        float64\n",
       "CCSIZSET        float64\n",
       "HBCU            float64\n",
       "PBI             float64\n",
       "ANNHI           float64\n",
       "TRIBAL          float64\n",
       "AANAPII         float64\n",
       "HSI             float64\n",
       "NANTI           float64\n",
       "MENONLY         float64\n",
       "WOMENONLY       float64\n",
       "ADM_RATE        float64\n",
       "ADM_RATE_ALL    float64\n",
       "SATVR25         float64\n",
       "SATVR75         float64\n",
       "SATMT25         float64\n",
       "SATMT75         float64\n",
       "SATWR25         float64\n",
       "SATWR75         float64\n",
       "SATVRMID        float64\n",
       "SATMTMID        float64\n",
       "SATWRMID        float64\n",
       "ACTCM25         float64\n",
       "                 ...   \n",
       "UGDS_API        float64\n",
       "UGDS_AIANOld    float64\n",
       "UGDS_HISPOld    float64\n",
       "UG_NRA          float64\n",
       "UG_UNKN         float64\n",
       "UG_WHITENH      float64\n",
       "UG_BLACKNH      float64\n",
       "UG_API          float64\n",
       "UG_AIANOld      float64\n",
       "UG_HISPOld      float64\n",
       "INEXPFTE        float64\n",
       "AVGFACSAL       float64\n",
       "PFTFAC          float64\n",
       "PCTPELL         float64\n",
       "PCTFLOAN        float64\n",
       "UG25abv         float64\n",
       "loan_ever        object\n",
       "pell_ever        object\n",
       "age_entry        object\n",
       "agege24          object\n",
       "female           object\n",
       "married          object\n",
       "dependent        object\n",
       "veteran          object\n",
       "first_gen        object\n",
       "faminc           object\n",
       "md_faminc        object\n",
       "faminc_ind       object\n",
       "lnfaminc         object\n",
       "lnfaminc_ind     object\n",
       "dtype: object"
      ]
     },
     "execution_count": 132,
     "metadata": {},
     "output_type": "execute_result"
    }
   ],
   "source": [
    "X.dtypes"
   ]
  },
  {
   "cell_type": "code",
   "execution_count": 194,
   "metadata": {
    "collapsed": true
   },
   "outputs": [],
   "source": [
    "g = X.columns.to_series().groupby(X.dtypes).groups"
   ]
  },
  {
   "cell_type": "code",
   "execution_count": 195,
   "metadata": {
    "collapsed": false,
    "scrolled": true
   },
   "outputs": [
    {
     "data": {
      "text/plain": [
       "{dtype('int64'): ['PREDDEG', 'HIGHDEG', 'CONTROL', 'region'],\n",
       " dtype('float64'): ['LOCALE',\n",
       "  'CCBASIC',\n",
       "  'CCUGPROF',\n",
       "  'CCSIZSET',\n",
       "  'HBCU',\n",
       "  'PBI',\n",
       "  'ANNHI',\n",
       "  'TRIBAL',\n",
       "  'AANAPII',\n",
       "  'HSI',\n",
       "  'NANTI',\n",
       "  'MENONLY',\n",
       "  'WOMENONLY',\n",
       "  'ADM_RATE',\n",
       "  'ADM_RATE_ALL',\n",
       "  'SATVR25',\n",
       "  'SATVR75',\n",
       "  'SATMT25',\n",
       "  'SATMT75',\n",
       "  'SATWR25',\n",
       "  'SATWR75',\n",
       "  'SATVRMID',\n",
       "  'SATMTMID',\n",
       "  'SATWRMID',\n",
       "  'ACTCM25',\n",
       "  'ACTCM75',\n",
       "  'ACTEN25',\n",
       "  'ACTEN75',\n",
       "  'ACTMT25',\n",
       "  'ACTMT75',\n",
       "  'ACTWR25',\n",
       "  'ACTWR75',\n",
       "  'ACTCMMID',\n",
       "  'ACTENMID',\n",
       "  'ACTMTMID',\n",
       "  'ACTWRMID',\n",
       "  'SAT_AVG',\n",
       "  'SAT_AVG_ALL',\n",
       "  'PCIP01',\n",
       "  'PCIP03',\n",
       "  'PCIP04',\n",
       "  'PCIP05',\n",
       "  'PCIP09',\n",
       "  'PCIP10',\n",
       "  'PCIP11',\n",
       "  'PCIP12',\n",
       "  'PCIP13',\n",
       "  'PCIP14',\n",
       "  'PCIP15',\n",
       "  'PCIP16',\n",
       "  'PCIP19',\n",
       "  'PCIP22',\n",
       "  'PCIP23',\n",
       "  'PCIP24',\n",
       "  'PCIP25',\n",
       "  'PCIP26',\n",
       "  'PCIP27',\n",
       "  'PCIP29',\n",
       "  'PCIP30',\n",
       "  'PCIP31',\n",
       "  'PCIP38',\n",
       "  'PCIP39',\n",
       "  'PCIP40',\n",
       "  'PCIP41',\n",
       "  'PCIP42',\n",
       "  'PCIP43',\n",
       "  'PCIP44',\n",
       "  'PCIP45',\n",
       "  'PCIP46',\n",
       "  'PCIP47',\n",
       "  'PCIP48',\n",
       "  'PCIP49',\n",
       "  'PCIP50',\n",
       "  'PCIP51',\n",
       "  'PCIP52',\n",
       "  'PCIP54',\n",
       "  'DISTANCEONLY',\n",
       "  'UGDS_WHITE',\n",
       "  'UGDS_BLACK',\n",
       "  'UGDS_HISP',\n",
       "  'UGDS_ASIAN',\n",
       "  'UGDS_AIAN',\n",
       "  'UGDS_NHPI',\n",
       "  'UGDS_2MOR',\n",
       "  'UGDS_NRA',\n",
       "  'UGDS_UNKN',\n",
       "  'UGDS_WHITENH',\n",
       "  'UGDS_BLACKNH',\n",
       "  'UGDS_API',\n",
       "  'UGDS_AIANOld',\n",
       "  'UGDS_HISPOld',\n",
       "  'UG_NRA',\n",
       "  'UG_UNKN',\n",
       "  'UG_WHITENH',\n",
       "  'UG_BLACKNH',\n",
       "  'UG_API',\n",
       "  'UG_AIANOld',\n",
       "  'UG_HISPOld',\n",
       "  'INEXPFTE',\n",
       "  'AVGFACSAL',\n",
       "  'PFTFAC',\n",
       "  'PCTPELL',\n",
       "  'PCTFLOAN',\n",
       "  'UG25abv'],\n",
       " dtype('O'): ['STABBR',\n",
       "  'loan_ever',\n",
       "  'pell_ever',\n",
       "  'age_entry',\n",
       "  'agege24',\n",
       "  'female',\n",
       "  'married',\n",
       "  'dependent',\n",
       "  'veteran',\n",
       "  'first_gen',\n",
       "  'faminc',\n",
       "  'md_faminc',\n",
       "  'faminc_ind',\n",
       "  'lnfaminc',\n",
       "  'lnfaminc_ind']}"
      ]
     },
     "execution_count": 195,
     "metadata": {},
     "output_type": "execute_result"
    }
   ],
   "source": [
    "g"
   ]
  },
  {
   "cell_type": "code",
   "execution_count": 196,
   "metadata": {
    "collapsed": true
   },
   "outputs": [],
   "source": [
    "objects = ['STABBR',\n",
    "  'loan_ever',\n",
    "  'pell_ever',\n",
    "  'age_entry',\n",
    "  'agege24',\n",
    "  'female',\n",
    "  'married',\n",
    "  'dependent',\n",
    "  'veteran',\n",
    "  'first_gen',\n",
    "  'faminc',\n",
    "  'md_faminc',\n",
    "  'faminc_ind',\n",
    "  'lnfaminc',\n",
    "  'lnfaminc_ind']"
   ]
  },
  {
   "cell_type": "code",
   "execution_count": 197,
   "metadata": {
    "collapsed": false
   },
   "outputs": [],
   "source": [
    "X_objects = X[objects]"
   ]
  },
  {
   "cell_type": "code",
   "execution_count": 198,
   "metadata": {
    "collapsed": false
   },
   "outputs": [],
   "source": [
    "X = X.drop(objects, axis=1)"
   ]
  },
  {
   "cell_type": "code",
   "execution_count": 199,
   "metadata": {
    "collapsed": false,
    "scrolled": true
   },
   "outputs": [
    {
     "name": "stdout",
     "output_type": "stream",
     "text": [
      "<class 'pandas.core.frame.DataFrame'>\n",
      "Int64Index: 129 entries, 9 to 4562\n",
      "Data columns (total 15 columns):\n",
      "STABBR          129 non-null object\n",
      "loan_ever       129 non-null object\n",
      "pell_ever       129 non-null object\n",
      "age_entry       129 non-null object\n",
      "agege24         129 non-null object\n",
      "female          129 non-null object\n",
      "married         129 non-null object\n",
      "dependent       129 non-null object\n",
      "veteran         129 non-null object\n",
      "first_gen       129 non-null object\n",
      "faminc          129 non-null object\n",
      "md_faminc       129 non-null object\n",
      "faminc_ind      129 non-null object\n",
      "lnfaminc        129 non-null object\n",
      "lnfaminc_ind    129 non-null object\n",
      "dtypes: object(15)\n",
      "memory usage: 16.1+ KB\n"
     ]
    }
   ],
   "source": [
    "X_objects.info()"
   ]
  },
  {
   "cell_type": "code",
   "execution_count": 200,
   "metadata": {
    "collapsed": false,
    "scrolled": true
   },
   "outputs": [
    {
     "data": {
      "text/html": [
       "<div>\n",
       "<table border=\"1\" class=\"dataframe\">\n",
       "  <thead>\n",
       "    <tr style=\"text-align: right;\">\n",
       "      <th></th>\n",
       "      <th>count</th>\n",
       "      <th>unique</th>\n",
       "      <th>top</th>\n",
       "      <th>freq</th>\n",
       "    </tr>\n",
       "  </thead>\n",
       "  <tbody>\n",
       "    <tr>\n",
       "      <th>STABBR</th>\n",
       "      <td>129</td>\n",
       "      <td>34</td>\n",
       "      <td>CA</td>\n",
       "      <td>16</td>\n",
       "    </tr>\n",
       "    <tr>\n",
       "      <th>loan_ever</th>\n",
       "      <td>129</td>\n",
       "      <td>20</td>\n",
       "      <td>0.98000001907348</td>\n",
       "      <td>21</td>\n",
       "    </tr>\n",
       "    <tr>\n",
       "      <th>pell_ever</th>\n",
       "      <td>129</td>\n",
       "      <td>41</td>\n",
       "      <td>0.31000000238418</td>\n",
       "      <td>9</td>\n",
       "    </tr>\n",
       "    <tr>\n",
       "      <th>age_entry</th>\n",
       "      <td>129</td>\n",
       "      <td>107</td>\n",
       "      <td>20.0900001525878</td>\n",
       "      <td>3</td>\n",
       "    </tr>\n",
       "    <tr>\n",
       "      <th>agege24</th>\n",
       "      <td>129</td>\n",
       "      <td>34</td>\n",
       "      <td>0.05999999865889</td>\n",
       "      <td>12</td>\n",
       "    </tr>\n",
       "    <tr>\n",
       "      <th>female</th>\n",
       "      <td>129</td>\n",
       "      <td>36</td>\n",
       "      <td>0.56000000238418</td>\n",
       "      <td>14</td>\n",
       "    </tr>\n",
       "    <tr>\n",
       "      <th>married</th>\n",
       "      <td>129</td>\n",
       "      <td>14</td>\n",
       "      <td>0.02999999932944</td>\n",
       "      <td>27</td>\n",
       "    </tr>\n",
       "    <tr>\n",
       "      <th>dependent</th>\n",
       "      <td>129</td>\n",
       "      <td>36</td>\n",
       "      <td>0.89999997615814</td>\n",
       "      <td>10</td>\n",
       "    </tr>\n",
       "    <tr>\n",
       "      <th>veteran</th>\n",
       "      <td>129</td>\n",
       "      <td>5</td>\n",
       "      <td>0.00999999977648</td>\n",
       "      <td>64</td>\n",
       "    </tr>\n",
       "    <tr>\n",
       "      <th>first_gen</th>\n",
       "      <td>129</td>\n",
       "      <td>29</td>\n",
       "      <td>0.14000000059604</td>\n",
       "      <td>11</td>\n",
       "    </tr>\n",
       "    <tr>\n",
       "      <th>faminc</th>\n",
       "      <td>129</td>\n",
       "      <td>129</td>\n",
       "      <td>117428.63</td>\n",
       "      <td>1</td>\n",
       "    </tr>\n",
       "    <tr>\n",
       "      <th>md_faminc</th>\n",
       "      <td>129</td>\n",
       "      <td>128</td>\n",
       "      <td>87726</td>\n",
       "      <td>2</td>\n",
       "    </tr>\n",
       "    <tr>\n",
       "      <th>faminc_ind</th>\n",
       "      <td>129</td>\n",
       "      <td>129</td>\n",
       "      <td>22485.6796875</td>\n",
       "      <td>1</td>\n",
       "    </tr>\n",
       "    <tr>\n",
       "      <th>lnfaminc</th>\n",
       "      <td>129</td>\n",
       "      <td>70</td>\n",
       "      <td>11.1099996566772</td>\n",
       "      <td>6</td>\n",
       "    </tr>\n",
       "    <tr>\n",
       "      <th>lnfaminc_ind</th>\n",
       "      <td>129</td>\n",
       "      <td>79</td>\n",
       "      <td>9.72000026702881</td>\n",
       "      <td>5</td>\n",
       "    </tr>\n",
       "  </tbody>\n",
       "</table>\n",
       "</div>"
      ],
      "text/plain": [
       "             count unique               top freq\n",
       "STABBR         129     34                CA   16\n",
       "loan_ever      129     20  0.98000001907348   21\n",
       "pell_ever      129     41  0.31000000238418    9\n",
       "age_entry      129    107  20.0900001525878    3\n",
       "agege24        129     34  0.05999999865889   12\n",
       "female         129     36  0.56000000238418   14\n",
       "married        129     14  0.02999999932944   27\n",
       "dependent      129     36  0.89999997615814   10\n",
       "veteran        129      5  0.00999999977648   64\n",
       "first_gen      129     29  0.14000000059604   11\n",
       "faminc         129    129         117428.63    1\n",
       "md_faminc      129    128             87726    2\n",
       "faminc_ind     129    129     22485.6796875    1\n",
       "lnfaminc       129     70  11.1099996566772    6\n",
       "lnfaminc_ind   129     79  9.72000026702881    5"
      ]
     },
     "execution_count": 200,
     "metadata": {},
     "output_type": "execute_result"
    }
   ],
   "source": [
    "X_objects.describe().T\n",
    "#drop all apart from STABBR - create dummies & faminc - \n"
   ]
  },
  {
   "cell_type": "code",
   "execution_count": 201,
   "metadata": {
    "collapsed": false
   },
   "outputs": [],
   "source": [
    "X_objects = X_objects[objects[1:]].astype(float)"
   ]
  },
  {
   "cell_type": "code",
   "execution_count": 202,
   "metadata": {
    "collapsed": false
   },
   "outputs": [
    {
     "name": "stdout",
     "output_type": "stream",
     "text": [
      "<class 'pandas.core.frame.DataFrame'>\n",
      "Int64Index: 129 entries, 9 to 4562\n",
      "Data columns (total 14 columns):\n",
      "loan_ever       129 non-null float64\n",
      "pell_ever       129 non-null float64\n",
      "age_entry       129 non-null float64\n",
      "agege24         129 non-null float64\n",
      "female          129 non-null float64\n",
      "married         129 non-null float64\n",
      "dependent       129 non-null float64\n",
      "veteran         129 non-null float64\n",
      "first_gen       129 non-null float64\n",
      "faminc          129 non-null float64\n",
      "md_faminc       129 non-null float64\n",
      "faminc_ind      129 non-null float64\n",
      "lnfaminc        129 non-null float64\n",
      "lnfaminc_ind    129 non-null float64\n",
      "dtypes: float64(14)\n",
      "memory usage: 15.1 KB\n"
     ]
    }
   ],
   "source": [
    "X_objects.info()"
   ]
  },
  {
   "cell_type": "code",
   "execution_count": 203,
   "metadata": {
    "collapsed": false
   },
   "outputs": [
    {
     "data": {
      "text/plain": [
       "count       129.000000\n",
       "mean      92245.358450\n",
       "std       17143.186337\n",
       "min       42156.620000\n",
       "25%       82875.910000\n",
       "50%       94533.480000\n",
       "75%      103616.900000\n",
       "max      132813.410000\n",
       "Name: faminc, dtype: float64"
      ]
     },
     "execution_count": 203,
     "metadata": {},
     "output_type": "execute_result"
    }
   ],
   "source": [
    "X_objects.faminc.describe()"
   ]
  },
  {
   "cell_type": "code",
   "execution_count": null,
   "metadata": {
    "collapsed": false,
    "scrolled": true
   },
   "outputs": [],
   "source": []
  },
  {
   "cell_type": "code",
   "execution_count": 205,
   "metadata": {
    "collapsed": false
   },
   "outputs": [],
   "source": [
    "X_objects.replace(to_replace='PrivacySuppressed', value=0, inplace=True)"
   ]
  },
  {
   "cell_type": "code",
   "execution_count": 206,
   "metadata": {
    "collapsed": false,
    "scrolled": true
   },
   "outputs": [
    {
     "ename": "KeyError",
     "evalue": "\"['DEP_INC_AVG'] not in index\"",
     "output_type": "error",
     "traceback": [
      "\u001b[0;31m---------------------------------------------------------------------------\u001b[0m",
      "\u001b[0;31mKeyError\u001b[0m                                  Traceback (most recent call last)",
      "\u001b[0;32m<ipython-input-206-6815c6e6eaff>\u001b[0m in \u001b[0;36m<module>\u001b[0;34m()\u001b[0m\n\u001b[0;32m----> 1\u001b[0;31m \u001b[0mX_plot\u001b[0m \u001b[0;34m=\u001b[0m \u001b[0mX_objects\u001b[0m\u001b[0;34m[\u001b[0m\u001b[0;34m[\u001b[0m\u001b[0;34m'faminc'\u001b[0m\u001b[0;34m,\u001b[0m \u001b[0;34m'DEP_INC_AVG'\u001b[0m\u001b[0;34m]\u001b[0m\u001b[0;34m]\u001b[0m\u001b[0;34m.\u001b[0m\u001b[0mastype\u001b[0m\u001b[0;34m(\u001b[0m\u001b[0mfloat\u001b[0m\u001b[0;34m)\u001b[0m\u001b[0;34m\u001b[0m\u001b[0m\n\u001b[0m",
      "\u001b[0;32m/Users/marekduda/anaconda/lib/python2.7/site-packages/pandas/core/frame.pyc\u001b[0m in \u001b[0;36m__getitem__\u001b[0;34m(self, key)\u001b[0m\n\u001b[1;32m   1789\u001b[0m         \u001b[0;32mif\u001b[0m \u001b[0misinstance\u001b[0m\u001b[0;34m(\u001b[0m\u001b[0mkey\u001b[0m\u001b[0;34m,\u001b[0m \u001b[0;34m(\u001b[0m\u001b[0mSeries\u001b[0m\u001b[0;34m,\u001b[0m \u001b[0mnp\u001b[0m\u001b[0;34m.\u001b[0m\u001b[0mndarray\u001b[0m\u001b[0;34m,\u001b[0m \u001b[0mIndex\u001b[0m\u001b[0;34m,\u001b[0m \u001b[0mlist\u001b[0m\u001b[0;34m)\u001b[0m\u001b[0;34m)\u001b[0m\u001b[0;34m:\u001b[0m\u001b[0;34m\u001b[0m\u001b[0m\n\u001b[1;32m   1790\u001b[0m             \u001b[0;31m# either boolean or fancy integer index\u001b[0m\u001b[0;34m\u001b[0m\u001b[0;34m\u001b[0m\u001b[0m\n\u001b[0;32m-> 1791\u001b[0;31m             \u001b[0;32mreturn\u001b[0m \u001b[0mself\u001b[0m\u001b[0;34m.\u001b[0m\u001b[0m_getitem_array\u001b[0m\u001b[0;34m(\u001b[0m\u001b[0mkey\u001b[0m\u001b[0;34m)\u001b[0m\u001b[0;34m\u001b[0m\u001b[0m\n\u001b[0m\u001b[1;32m   1792\u001b[0m         \u001b[0;32melif\u001b[0m \u001b[0misinstance\u001b[0m\u001b[0;34m(\u001b[0m\u001b[0mkey\u001b[0m\u001b[0;34m,\u001b[0m \u001b[0mDataFrame\u001b[0m\u001b[0;34m)\u001b[0m\u001b[0;34m:\u001b[0m\u001b[0;34m\u001b[0m\u001b[0m\n\u001b[1;32m   1793\u001b[0m             \u001b[0;32mreturn\u001b[0m \u001b[0mself\u001b[0m\u001b[0;34m.\u001b[0m\u001b[0m_getitem_frame\u001b[0m\u001b[0;34m(\u001b[0m\u001b[0mkey\u001b[0m\u001b[0;34m)\u001b[0m\u001b[0;34m\u001b[0m\u001b[0m\n",
      "\u001b[0;32m/Users/marekduda/anaconda/lib/python2.7/site-packages/pandas/core/frame.pyc\u001b[0m in \u001b[0;36m_getitem_array\u001b[0;34m(self, key)\u001b[0m\n\u001b[1;32m   1833\u001b[0m             \u001b[0;32mreturn\u001b[0m \u001b[0mself\u001b[0m\u001b[0;34m.\u001b[0m\u001b[0mtake\u001b[0m\u001b[0;34m(\u001b[0m\u001b[0mindexer\u001b[0m\u001b[0;34m,\u001b[0m \u001b[0maxis\u001b[0m\u001b[0;34m=\u001b[0m\u001b[0;36m0\u001b[0m\u001b[0;34m,\u001b[0m \u001b[0mconvert\u001b[0m\u001b[0;34m=\u001b[0m\u001b[0mFalse\u001b[0m\u001b[0;34m)\u001b[0m\u001b[0;34m\u001b[0m\u001b[0m\n\u001b[1;32m   1834\u001b[0m         \u001b[0;32melse\u001b[0m\u001b[0;34m:\u001b[0m\u001b[0;34m\u001b[0m\u001b[0m\n\u001b[0;32m-> 1835\u001b[0;31m             \u001b[0mindexer\u001b[0m \u001b[0;34m=\u001b[0m \u001b[0mself\u001b[0m\u001b[0;34m.\u001b[0m\u001b[0mix\u001b[0m\u001b[0;34m.\u001b[0m\u001b[0m_convert_to_indexer\u001b[0m\u001b[0;34m(\u001b[0m\u001b[0mkey\u001b[0m\u001b[0;34m,\u001b[0m \u001b[0maxis\u001b[0m\u001b[0;34m=\u001b[0m\u001b[0;36m1\u001b[0m\u001b[0;34m)\u001b[0m\u001b[0;34m\u001b[0m\u001b[0m\n\u001b[0m\u001b[1;32m   1836\u001b[0m             \u001b[0;32mreturn\u001b[0m \u001b[0mself\u001b[0m\u001b[0;34m.\u001b[0m\u001b[0mtake\u001b[0m\u001b[0;34m(\u001b[0m\u001b[0mindexer\u001b[0m\u001b[0;34m,\u001b[0m \u001b[0maxis\u001b[0m\u001b[0;34m=\u001b[0m\u001b[0;36m1\u001b[0m\u001b[0;34m,\u001b[0m \u001b[0mconvert\u001b[0m\u001b[0;34m=\u001b[0m\u001b[0mTrue\u001b[0m\u001b[0;34m)\u001b[0m\u001b[0;34m\u001b[0m\u001b[0m\n\u001b[1;32m   1837\u001b[0m \u001b[0;34m\u001b[0m\u001b[0m\n",
      "\u001b[0;32m/Users/marekduda/anaconda/lib/python2.7/site-packages/pandas/core/indexing.pyc\u001b[0m in \u001b[0;36m_convert_to_indexer\u001b[0;34m(self, obj, axis, is_setter)\u001b[0m\n\u001b[1;32m   1110\u001b[0m                 \u001b[0mmask\u001b[0m \u001b[0;34m=\u001b[0m \u001b[0mcheck\u001b[0m \u001b[0;34m==\u001b[0m \u001b[0;34m-\u001b[0m\u001b[0;36m1\u001b[0m\u001b[0;34m\u001b[0m\u001b[0m\n\u001b[1;32m   1111\u001b[0m                 \u001b[0;32mif\u001b[0m \u001b[0mmask\u001b[0m\u001b[0;34m.\u001b[0m\u001b[0many\u001b[0m\u001b[0;34m(\u001b[0m\u001b[0;34m)\u001b[0m\u001b[0;34m:\u001b[0m\u001b[0;34m\u001b[0m\u001b[0m\n\u001b[0;32m-> 1112\u001b[0;31m                     \u001b[0;32mraise\u001b[0m \u001b[0mKeyError\u001b[0m\u001b[0;34m(\u001b[0m\u001b[0;34m'%s not in index'\u001b[0m \u001b[0;34m%\u001b[0m \u001b[0mobjarr\u001b[0m\u001b[0;34m[\u001b[0m\u001b[0mmask\u001b[0m\u001b[0;34m]\u001b[0m\u001b[0;34m)\u001b[0m\u001b[0;34m\u001b[0m\u001b[0m\n\u001b[0m\u001b[1;32m   1113\u001b[0m \u001b[0;34m\u001b[0m\u001b[0m\n\u001b[1;32m   1114\u001b[0m                 \u001b[0;32mreturn\u001b[0m \u001b[0m_values_from_object\u001b[0m\u001b[0;34m(\u001b[0m\u001b[0mindexer\u001b[0m\u001b[0;34m)\u001b[0m\u001b[0;34m\u001b[0m\u001b[0m\n",
      "\u001b[0;31mKeyError\u001b[0m: \"['DEP_INC_AVG'] not in index\""
     ]
    }
   ],
   "source": [
    "# the below analysis showed me that faminc is superior, has fewer missing values, \n",
    "# but is also less variable than DEP_INC_AVG. I will use faminc\n",
    "\n",
    "X_plot = X_objects[['faminc', 'DEP_INC_AVG']].astype(float)"
   ]
  },
  {
   "cell_type": "code",
   "execution_count": null,
   "metadata": {
    "collapsed": true
   },
   "outputs": [],
   "source": [
    "X_plot['diff'] = X_plot.DEP_INC_AVG - X_plot.faminc"
   ]
  },
  {
   "cell_type": "code",
   "execution_count": null,
   "metadata": {
    "collapsed": false
   },
   "outputs": [],
   "source": [
    "X_plot['diff'].mean()"
   ]
  },
  {
   "cell_type": "code",
   "execution_count": null,
   "metadata": {
    "collapsed": false,
    "scrolled": true
   },
   "outputs": [],
   "source": [
    "X_plot['diff'].plot(kind='bar', figsize=(12,12))"
   ]
  },
  {
   "cell_type": "code",
   "execution_count": null,
   "metadata": {
    "collapsed": false,
    "scrolled": true
   },
   "outputs": [],
   "source": [
    "X_plot.DEP_INC_AVG.value_counts()"
   ]
  },
  {
   "cell_type": "markdown",
   "metadata": {},
   "source": [
    "Now I have X with all the float and ints, and X_objects with the former strings now as floats. I need to concatenate these, produce a y column and run the first model."
   ]
  },
  {
   "cell_type": "code",
   "execution_count": 207,
   "metadata": {
    "collapsed": false,
    "scrolled": true
   },
   "outputs": [
    {
     "data": {
      "text/html": [
       "<div>\n",
       "<table border=\"1\" class=\"dataframe\">\n",
       "  <thead>\n",
       "    <tr style=\"text-align: right;\">\n",
       "      <th></th>\n",
       "      <th>count</th>\n",
       "      <th>mean</th>\n",
       "      <th>std</th>\n",
       "      <th>min</th>\n",
       "      <th>25%</th>\n",
       "      <th>50%</th>\n",
       "      <th>75%</th>\n",
       "      <th>max</th>\n",
       "    </tr>\n",
       "  </thead>\n",
       "  <tbody>\n",
       "    <tr>\n",
       "      <th>PREDDEG</th>\n",
       "      <td>129</td>\n",
       "      <td>3.000000</td>\n",
       "      <td>0.000000</td>\n",
       "      <td>3.0000</td>\n",
       "      <td>3.00000</td>\n",
       "      <td>3.00000</td>\n",
       "      <td>3.0000</td>\n",
       "      <td>3.0000</td>\n",
       "    </tr>\n",
       "    <tr>\n",
       "      <th>HIGHDEG</th>\n",
       "      <td>129</td>\n",
       "      <td>4.000000</td>\n",
       "      <td>0.000000</td>\n",
       "      <td>4.0000</td>\n",
       "      <td>4.00000</td>\n",
       "      <td>4.00000</td>\n",
       "      <td>4.0000</td>\n",
       "      <td>4.0000</td>\n",
       "    </tr>\n",
       "    <tr>\n",
       "      <th>CONTROL</th>\n",
       "      <td>129</td>\n",
       "      <td>1.697674</td>\n",
       "      <td>0.461056</td>\n",
       "      <td>1.0000</td>\n",
       "      <td>1.00000</td>\n",
       "      <td>2.00000</td>\n",
       "      <td>2.0000</td>\n",
       "      <td>2.0000</td>\n",
       "    </tr>\n",
       "    <tr>\n",
       "      <th>region</th>\n",
       "      <td>129</td>\n",
       "      <td>3.984496</td>\n",
       "      <td>2.388071</td>\n",
       "      <td>1.0000</td>\n",
       "      <td>2.00000</td>\n",
       "      <td>3.00000</td>\n",
       "      <td>6.0000</td>\n",
       "      <td>8.0000</td>\n",
       "    </tr>\n",
       "    <tr>\n",
       "      <th>LOCALE</th>\n",
       "      <td>129</td>\n",
       "      <td>16.503876</td>\n",
       "      <td>7.287751</td>\n",
       "      <td>11.0000</td>\n",
       "      <td>11.00000</td>\n",
       "      <td>12.00000</td>\n",
       "      <td>21.0000</td>\n",
       "      <td>42.0000</td>\n",
       "    </tr>\n",
       "    <tr>\n",
       "      <th>CCBASIC</th>\n",
       "      <td>129</td>\n",
       "      <td>16.992248</td>\n",
       "      <td>2.412520</td>\n",
       "      <td>15.0000</td>\n",
       "      <td>15.00000</td>\n",
       "      <td>16.00000</td>\n",
       "      <td>18.0000</td>\n",
       "      <td>22.0000</td>\n",
       "    </tr>\n",
       "    <tr>\n",
       "      <th>CCUGPROF</th>\n",
       "      <td>129</td>\n",
       "      <td>12.193798</td>\n",
       "      <td>0.396814</td>\n",
       "      <td>12.0000</td>\n",
       "      <td>12.00000</td>\n",
       "      <td>12.00000</td>\n",
       "      <td>12.0000</td>\n",
       "      <td>13.0000</td>\n",
       "    </tr>\n",
       "    <tr>\n",
       "      <th>CCSIZSET</th>\n",
       "      <td>129</td>\n",
       "      <td>14.356589</td>\n",
       "      <td>2.354512</td>\n",
       "      <td>6.0000</td>\n",
       "      <td>13.00000</td>\n",
       "      <td>14.00000</td>\n",
       "      <td>16.0000</td>\n",
       "      <td>17.0000</td>\n",
       "    </tr>\n",
       "    <tr>\n",
       "      <th>HBCU</th>\n",
       "      <td>129</td>\n",
       "      <td>0.000000</td>\n",
       "      <td>0.000000</td>\n",
       "      <td>0.0000</td>\n",
       "      <td>0.00000</td>\n",
       "      <td>0.00000</td>\n",
       "      <td>0.0000</td>\n",
       "      <td>0.0000</td>\n",
       "    </tr>\n",
       "    <tr>\n",
       "      <th>PBI</th>\n",
       "      <td>129</td>\n",
       "      <td>0.000000</td>\n",
       "      <td>0.000000</td>\n",
       "      <td>0.0000</td>\n",
       "      <td>0.00000</td>\n",
       "      <td>0.00000</td>\n",
       "      <td>0.0000</td>\n",
       "      <td>0.0000</td>\n",
       "    </tr>\n",
       "    <tr>\n",
       "      <th>ANNHI</th>\n",
       "      <td>129</td>\n",
       "      <td>0.000000</td>\n",
       "      <td>0.000000</td>\n",
       "      <td>0.0000</td>\n",
       "      <td>0.00000</td>\n",
       "      <td>0.00000</td>\n",
       "      <td>0.0000</td>\n",
       "      <td>0.0000</td>\n",
       "    </tr>\n",
       "    <tr>\n",
       "      <th>TRIBAL</th>\n",
       "      <td>129</td>\n",
       "      <td>0.000000</td>\n",
       "      <td>0.000000</td>\n",
       "      <td>0.0000</td>\n",
       "      <td>0.00000</td>\n",
       "      <td>0.00000</td>\n",
       "      <td>0.0000</td>\n",
       "      <td>0.0000</td>\n",
       "    </tr>\n",
       "    <tr>\n",
       "      <th>AANAPII</th>\n",
       "      <td>129</td>\n",
       "      <td>0.007752</td>\n",
       "      <td>0.088045</td>\n",
       "      <td>0.0000</td>\n",
       "      <td>0.00000</td>\n",
       "      <td>0.00000</td>\n",
       "      <td>0.0000</td>\n",
       "      <td>1.0000</td>\n",
       "    </tr>\n",
       "    <tr>\n",
       "      <th>HSI</th>\n",
       "      <td>129</td>\n",
       "      <td>0.000000</td>\n",
       "      <td>0.000000</td>\n",
       "      <td>0.0000</td>\n",
       "      <td>0.00000</td>\n",
       "      <td>0.00000</td>\n",
       "      <td>0.0000</td>\n",
       "      <td>0.0000</td>\n",
       "    </tr>\n",
       "    <tr>\n",
       "      <th>NANTI</th>\n",
       "      <td>129</td>\n",
       "      <td>0.000000</td>\n",
       "      <td>0.000000</td>\n",
       "      <td>0.0000</td>\n",
       "      <td>0.00000</td>\n",
       "      <td>0.00000</td>\n",
       "      <td>0.0000</td>\n",
       "      <td>0.0000</td>\n",
       "    </tr>\n",
       "    <tr>\n",
       "      <th>MENONLY</th>\n",
       "      <td>129</td>\n",
       "      <td>0.000000</td>\n",
       "      <td>0.000000</td>\n",
       "      <td>0.0000</td>\n",
       "      <td>0.00000</td>\n",
       "      <td>0.00000</td>\n",
       "      <td>0.0000</td>\n",
       "      <td>0.0000</td>\n",
       "    </tr>\n",
       "    <tr>\n",
       "      <th>WOMENONLY</th>\n",
       "      <td>129</td>\n",
       "      <td>0.015504</td>\n",
       "      <td>0.124027</td>\n",
       "      <td>0.0000</td>\n",
       "      <td>0.00000</td>\n",
       "      <td>0.00000</td>\n",
       "      <td>0.0000</td>\n",
       "      <td>1.0000</td>\n",
       "    </tr>\n",
       "    <tr>\n",
       "      <th>ADM_RATE</th>\n",
       "      <td>129</td>\n",
       "      <td>0.426606</td>\n",
       "      <td>0.218304</td>\n",
       "      <td>0.0569</td>\n",
       "      <td>0.26050</td>\n",
       "      <td>0.42870</td>\n",
       "      <td>0.5787</td>\n",
       "      <td>0.9011</td>\n",
       "    </tr>\n",
       "    <tr>\n",
       "      <th>ADM_RATE_ALL</th>\n",
       "      <td>129</td>\n",
       "      <td>0.423395</td>\n",
       "      <td>0.216678</td>\n",
       "      <td>0.0569</td>\n",
       "      <td>0.26330</td>\n",
       "      <td>0.42390</td>\n",
       "      <td>0.5778</td>\n",
       "      <td>0.9011</td>\n",
       "    </tr>\n",
       "    <tr>\n",
       "      <th>SATVR25</th>\n",
       "      <td>129</td>\n",
       "      <td>591.627907</td>\n",
       "      <td>53.044655</td>\n",
       "      <td>520.0000</td>\n",
       "      <td>550.00000</td>\n",
       "      <td>580.00000</td>\n",
       "      <td>620.0000</td>\n",
       "      <td>720.0000</td>\n",
       "    </tr>\n",
       "    <tr>\n",
       "      <th>SATVR75</th>\n",
       "      <td>129</td>\n",
       "      <td>694.635659</td>\n",
       "      <td>46.586770</td>\n",
       "      <td>620.0000</td>\n",
       "      <td>660.00000</td>\n",
       "      <td>690.00000</td>\n",
       "      <td>720.0000</td>\n",
       "      <td>800.0000</td>\n",
       "    </tr>\n",
       "    <tr>\n",
       "      <th>SATMT25</th>\n",
       "      <td>129</td>\n",
       "      <td>616.434109</td>\n",
       "      <td>53.367805</td>\n",
       "      <td>510.0000</td>\n",
       "      <td>570.00000</td>\n",
       "      <td>610.00000</td>\n",
       "      <td>660.0000</td>\n",
       "      <td>770.0000</td>\n",
       "    </tr>\n",
       "    <tr>\n",
       "      <th>SATMT75</th>\n",
       "      <td>129</td>\n",
       "      <td>715.759690</td>\n",
       "      <td>47.393759</td>\n",
       "      <td>640.0000</td>\n",
       "      <td>680.00000</td>\n",
       "      <td>710.00000</td>\n",
       "      <td>760.0000</td>\n",
       "      <td>800.0000</td>\n",
       "    </tr>\n",
       "    <tr>\n",
       "      <th>SATWR25</th>\n",
       "      <td>103</td>\n",
       "      <td>599.349515</td>\n",
       "      <td>60.026581</td>\n",
       "      <td>490.0000</td>\n",
       "      <td>550.00000</td>\n",
       "      <td>590.00000</td>\n",
       "      <td>647.5000</td>\n",
       "      <td>720.0000</td>\n",
       "    </tr>\n",
       "    <tr>\n",
       "      <th>SATWR75</th>\n",
       "      <td>103</td>\n",
       "      <td>699.203883</td>\n",
       "      <td>52.392628</td>\n",
       "      <td>610.0000</td>\n",
       "      <td>655.00000</td>\n",
       "      <td>690.00000</td>\n",
       "      <td>750.0000</td>\n",
       "      <td>800.0000</td>\n",
       "    </tr>\n",
       "    <tr>\n",
       "      <th>SATVRMID</th>\n",
       "      <td>129</td>\n",
       "      <td>643.139535</td>\n",
       "      <td>49.320499</td>\n",
       "      <td>570.0000</td>\n",
       "      <td>605.00000</td>\n",
       "      <td>633.00000</td>\n",
       "      <td>670.0000</td>\n",
       "      <td>760.0000</td>\n",
       "    </tr>\n",
       "    <tr>\n",
       "      <th>SATMTMID</th>\n",
       "      <td>129</td>\n",
       "      <td>666.100775</td>\n",
       "      <td>49.579772</td>\n",
       "      <td>580.0000</td>\n",
       "      <td>625.00000</td>\n",
       "      <td>665.00000</td>\n",
       "      <td>700.0000</td>\n",
       "      <td>785.0000</td>\n",
       "    </tr>\n",
       "    <tr>\n",
       "      <th>SATWRMID</th>\n",
       "      <td>103</td>\n",
       "      <td>649.291262</td>\n",
       "      <td>55.927234</td>\n",
       "      <td>550.0000</td>\n",
       "      <td>602.50000</td>\n",
       "      <td>645.00000</td>\n",
       "      <td>692.5000</td>\n",
       "      <td>755.0000</td>\n",
       "    </tr>\n",
       "    <tr>\n",
       "      <th>ACTCM25</th>\n",
       "      <td>125</td>\n",
       "      <td>27.208000</td>\n",
       "      <td>2.420664</td>\n",
       "      <td>23.0000</td>\n",
       "      <td>25.00000</td>\n",
       "      <td>27.00000</td>\n",
       "      <td>29.0000</td>\n",
       "      <td>33.0000</td>\n",
       "    </tr>\n",
       "    <tr>\n",
       "      <th>ACTCM75</th>\n",
       "      <td>125</td>\n",
       "      <td>31.448000</td>\n",
       "      <td>1.748068</td>\n",
       "      <td>28.0000</td>\n",
       "      <td>30.00000</td>\n",
       "      <td>31.00000</td>\n",
       "      <td>33.0000</td>\n",
       "      <td>35.0000</td>\n",
       "    </tr>\n",
       "    <tr>\n",
       "      <th>...</th>\n",
       "      <td>...</td>\n",
       "      <td>...</td>\n",
       "      <td>...</td>\n",
       "      <td>...</td>\n",
       "      <td>...</td>\n",
       "      <td>...</td>\n",
       "      <td>...</td>\n",
       "      <td>...</td>\n",
       "    </tr>\n",
       "    <tr>\n",
       "      <th>PCIP52</th>\n",
       "      <td>129</td>\n",
       "      <td>0.123270</td>\n",
       "      <td>0.121505</td>\n",
       "      <td>0.0000</td>\n",
       "      <td>0.02240</td>\n",
       "      <td>0.11550</td>\n",
       "      <td>0.1825</td>\n",
       "      <td>0.9380</td>\n",
       "    </tr>\n",
       "    <tr>\n",
       "      <th>PCIP54</th>\n",
       "      <td>129</td>\n",
       "      <td>0.029073</td>\n",
       "      <td>0.021315</td>\n",
       "      <td>0.0000</td>\n",
       "      <td>0.01570</td>\n",
       "      <td>0.02510</td>\n",
       "      <td>0.0381</td>\n",
       "      <td>0.1103</td>\n",
       "    </tr>\n",
       "    <tr>\n",
       "      <th>DISTANCEONLY</th>\n",
       "      <td>129</td>\n",
       "      <td>0.000000</td>\n",
       "      <td>0.000000</td>\n",
       "      <td>0.0000</td>\n",
       "      <td>0.00000</td>\n",
       "      <td>0.00000</td>\n",
       "      <td>0.0000</td>\n",
       "      <td>0.0000</td>\n",
       "    </tr>\n",
       "    <tr>\n",
       "      <th>UGDS_WHITE</th>\n",
       "      <td>129</td>\n",
       "      <td>0.595400</td>\n",
       "      <td>0.151010</td>\n",
       "      <td>0.2357</td>\n",
       "      <td>0.47540</td>\n",
       "      <td>0.60260</td>\n",
       "      <td>0.7159</td>\n",
       "      <td>0.9193</td>\n",
       "    </tr>\n",
       "    <tr>\n",
       "      <th>UGDS_BLACK</th>\n",
       "      <td>129</td>\n",
       "      <td>0.048170</td>\n",
       "      <td>0.025183</td>\n",
       "      <td>0.0007</td>\n",
       "      <td>0.02960</td>\n",
       "      <td>0.04540</td>\n",
       "      <td>0.0638</td>\n",
       "      <td>0.1594</td>\n",
       "    </tr>\n",
       "    <tr>\n",
       "      <th>UGDS_HISP</th>\n",
       "      <td>129</td>\n",
       "      <td>0.089679</td>\n",
       "      <td>0.047854</td>\n",
       "      <td>0.0042</td>\n",
       "      <td>0.05680</td>\n",
       "      <td>0.08050</td>\n",
       "      <td>0.1059</td>\n",
       "      <td>0.2481</td>\n",
       "    </tr>\n",
       "    <tr>\n",
       "      <th>UGDS_ASIAN</th>\n",
       "      <td>129</td>\n",
       "      <td>0.107359</td>\n",
       "      <td>0.081047</td>\n",
       "      <td>0.0007</td>\n",
       "      <td>0.04820</td>\n",
       "      <td>0.08820</td>\n",
       "      <td>0.1557</td>\n",
       "      <td>0.4248</td>\n",
       "    </tr>\n",
       "    <tr>\n",
       "      <th>UGDS_AIAN</th>\n",
       "      <td>129</td>\n",
       "      <td>0.003036</td>\n",
       "      <td>0.004493</td>\n",
       "      <td>0.0000</td>\n",
       "      <td>0.00120</td>\n",
       "      <td>0.00180</td>\n",
       "      <td>0.0031</td>\n",
       "      <td>0.0392</td>\n",
       "    </tr>\n",
       "    <tr>\n",
       "      <th>UGDS_NHPI</th>\n",
       "      <td>129</td>\n",
       "      <td>0.001096</td>\n",
       "      <td>0.001309</td>\n",
       "      <td>0.0000</td>\n",
       "      <td>0.00020</td>\n",
       "      <td>0.00070</td>\n",
       "      <td>0.0013</td>\n",
       "      <td>0.0070</td>\n",
       "    </tr>\n",
       "    <tr>\n",
       "      <th>UGDS_2MOR</th>\n",
       "      <td>129</td>\n",
       "      <td>0.037741</td>\n",
       "      <td>0.019677</td>\n",
       "      <td>0.0000</td>\n",
       "      <td>0.02530</td>\n",
       "      <td>0.03590</td>\n",
       "      <td>0.0473</td>\n",
       "      <td>0.1079</td>\n",
       "    </tr>\n",
       "    <tr>\n",
       "      <th>UGDS_NRA</th>\n",
       "      <td>129</td>\n",
       "      <td>0.075560</td>\n",
       "      <td>0.049341</td>\n",
       "      <td>0.0022</td>\n",
       "      <td>0.03800</td>\n",
       "      <td>0.06810</td>\n",
       "      <td>0.1022</td>\n",
       "      <td>0.2563</td>\n",
       "    </tr>\n",
       "    <tr>\n",
       "      <th>UGDS_UNKN</th>\n",
       "      <td>129</td>\n",
       "      <td>0.041964</td>\n",
       "      <td>0.033981</td>\n",
       "      <td>0.0000</td>\n",
       "      <td>0.01700</td>\n",
       "      <td>0.03200</td>\n",
       "      <td>0.0651</td>\n",
       "      <td>0.1445</td>\n",
       "    </tr>\n",
       "    <tr>\n",
       "      <th>UGDS_WHITENH</th>\n",
       "      <td>129</td>\n",
       "      <td>0.470645</td>\n",
       "      <td>0.288254</td>\n",
       "      <td>0.0000</td>\n",
       "      <td>0.33270</td>\n",
       "      <td>0.55130</td>\n",
       "      <td>0.7070</td>\n",
       "      <td>0.9040</td>\n",
       "    </tr>\n",
       "    <tr>\n",
       "      <th>UGDS_BLACKNH</th>\n",
       "      <td>129</td>\n",
       "      <td>0.043123</td>\n",
       "      <td>0.033597</td>\n",
       "      <td>0.0000</td>\n",
       "      <td>0.01250</td>\n",
       "      <td>0.04210</td>\n",
       "      <td>0.0658</td>\n",
       "      <td>0.1666</td>\n",
       "    </tr>\n",
       "    <tr>\n",
       "      <th>UGDS_API</th>\n",
       "      <td>129</td>\n",
       "      <td>0.092482</td>\n",
       "      <td>0.091477</td>\n",
       "      <td>0.0000</td>\n",
       "      <td>0.02580</td>\n",
       "      <td>0.07410</td>\n",
       "      <td>0.1328</td>\n",
       "      <td>0.4896</td>\n",
       "    </tr>\n",
       "    <tr>\n",
       "      <th>UGDS_AIANOld</th>\n",
       "      <td>129</td>\n",
       "      <td>0.004571</td>\n",
       "      <td>0.005172</td>\n",
       "      <td>0.0000</td>\n",
       "      <td>0.00040</td>\n",
       "      <td>0.00400</td>\n",
       "      <td>0.0064</td>\n",
       "      <td>0.0394</td>\n",
       "    </tr>\n",
       "    <tr>\n",
       "      <th>UGDS_HISPOld</th>\n",
       "      <td>129</td>\n",
       "      <td>0.056995</td>\n",
       "      <td>0.049908</td>\n",
       "      <td>0.0000</td>\n",
       "      <td>0.01910</td>\n",
       "      <td>0.05300</td>\n",
       "      <td>0.0775</td>\n",
       "      <td>0.2369</td>\n",
       "    </tr>\n",
       "    <tr>\n",
       "      <th>UG_NRA</th>\n",
       "      <td>129</td>\n",
       "      <td>0.041149</td>\n",
       "      <td>0.029177</td>\n",
       "      <td>0.0000</td>\n",
       "      <td>0.01920</td>\n",
       "      <td>0.03540</td>\n",
       "      <td>0.0521</td>\n",
       "      <td>0.1607</td>\n",
       "    </tr>\n",
       "    <tr>\n",
       "      <th>UG_UNKN</th>\n",
       "      <td>129</td>\n",
       "      <td>0.058897</td>\n",
       "      <td>0.059188</td>\n",
       "      <td>0.0000</td>\n",
       "      <td>0.00970</td>\n",
       "      <td>0.03920</td>\n",
       "      <td>0.0994</td>\n",
       "      <td>0.2848</td>\n",
       "    </tr>\n",
       "    <tr>\n",
       "      <th>UG_WHITENH</th>\n",
       "      <td>129</td>\n",
       "      <td>0.692807</td>\n",
       "      <td>0.150282</td>\n",
       "      <td>0.2930</td>\n",
       "      <td>0.58080</td>\n",
       "      <td>0.70390</td>\n",
       "      <td>0.8077</td>\n",
       "      <td>0.9934</td>\n",
       "    </tr>\n",
       "    <tr>\n",
       "      <th>UG_BLACKNH</th>\n",
       "      <td>129</td>\n",
       "      <td>0.050371</td>\n",
       "      <td>0.027862</td>\n",
       "      <td>0.0000</td>\n",
       "      <td>0.03100</td>\n",
       "      <td>0.04550</td>\n",
       "      <td>0.0684</td>\n",
       "      <td>0.1595</td>\n",
       "    </tr>\n",
       "    <tr>\n",
       "      <th>UG_API</th>\n",
       "      <td>129</td>\n",
       "      <td>0.098144</td>\n",
       "      <td>0.080649</td>\n",
       "      <td>0.0011</td>\n",
       "      <td>0.04090</td>\n",
       "      <td>0.06850</td>\n",
       "      <td>0.1410</td>\n",
       "      <td>0.4017</td>\n",
       "    </tr>\n",
       "    <tr>\n",
       "      <th>UG_AIANOld</th>\n",
       "      <td>129</td>\n",
       "      <td>0.005313</td>\n",
       "      <td>0.005925</td>\n",
       "      <td>0.0000</td>\n",
       "      <td>0.00240</td>\n",
       "      <td>0.00400</td>\n",
       "      <td>0.0064</td>\n",
       "      <td>0.0574</td>\n",
       "    </tr>\n",
       "    <tr>\n",
       "      <th>UG_HISPOld</th>\n",
       "      <td>129</td>\n",
       "      <td>0.053320</td>\n",
       "      <td>0.040987</td>\n",
       "      <td>0.0018</td>\n",
       "      <td>0.02460</td>\n",
       "      <td>0.04450</td>\n",
       "      <td>0.0672</td>\n",
       "      <td>0.2666</td>\n",
       "    </tr>\n",
       "    <tr>\n",
       "      <th>INEXPFTE</th>\n",
       "      <td>129</td>\n",
       "      <td>23676.589147</td>\n",
       "      <td>19084.983814</td>\n",
       "      <td>8478.0000</td>\n",
       "      <td>13166.00000</td>\n",
       "      <td>16161.00000</td>\n",
       "      <td>26268.0000</td>\n",
       "      <td>106214.0000</td>\n",
       "    </tr>\n",
       "    <tr>\n",
       "      <th>AVGFACSAL</th>\n",
       "      <td>129</td>\n",
       "      <td>11028.263566</td>\n",
       "      <td>2376.616034</td>\n",
       "      <td>5086.0000</td>\n",
       "      <td>9518.00000</td>\n",
       "      <td>10886.00000</td>\n",
       "      <td>12158.0000</td>\n",
       "      <td>19862.0000</td>\n",
       "    </tr>\n",
       "    <tr>\n",
       "      <th>PFTFAC</th>\n",
       "      <td>129</td>\n",
       "      <td>0.769478</td>\n",
       "      <td>0.156390</td>\n",
       "      <td>0.2629</td>\n",
       "      <td>0.66320</td>\n",
       "      <td>0.80200</td>\n",
       "      <td>0.8810</td>\n",
       "      <td>1.0000</td>\n",
       "    </tr>\n",
       "    <tr>\n",
       "      <th>PCTPELL</th>\n",
       "      <td>129</td>\n",
       "      <td>0.189267</td>\n",
       "      <td>0.067201</td>\n",
       "      <td>0.0616</td>\n",
       "      <td>0.14290</td>\n",
       "      <td>0.17920</td>\n",
       "      <td>0.2131</td>\n",
       "      <td>0.4471</td>\n",
       "    </tr>\n",
       "    <tr>\n",
       "      <th>PCTFLOAN</th>\n",
       "      <td>129</td>\n",
       "      <td>0.395047</td>\n",
       "      <td>0.135150</td>\n",
       "      <td>0.0290</td>\n",
       "      <td>0.32110</td>\n",
       "      <td>0.40970</td>\n",
       "      <td>0.4747</td>\n",
       "      <td>0.7296</td>\n",
       "    </tr>\n",
       "    <tr>\n",
       "      <th>UG25abv</th>\n",
       "      <td>128</td>\n",
       "      <td>0.041315</td>\n",
       "      <td>0.039007</td>\n",
       "      <td>0.0006</td>\n",
       "      <td>0.01205</td>\n",
       "      <td>0.03005</td>\n",
       "      <td>0.0599</td>\n",
       "      <td>0.2342</td>\n",
       "    </tr>\n",
       "  </tbody>\n",
       "</table>\n",
       "<p>108 rows × 8 columns</p>\n",
       "</div>"
      ],
      "text/plain": [
       "              count          mean           std        min          25%  \\\n",
       "PREDDEG         129      3.000000      0.000000     3.0000      3.00000   \n",
       "HIGHDEG         129      4.000000      0.000000     4.0000      4.00000   \n",
       "CONTROL         129      1.697674      0.461056     1.0000      1.00000   \n",
       "region          129      3.984496      2.388071     1.0000      2.00000   \n",
       "LOCALE          129     16.503876      7.287751    11.0000     11.00000   \n",
       "CCBASIC         129     16.992248      2.412520    15.0000     15.00000   \n",
       "CCUGPROF        129     12.193798      0.396814    12.0000     12.00000   \n",
       "CCSIZSET        129     14.356589      2.354512     6.0000     13.00000   \n",
       "HBCU            129      0.000000      0.000000     0.0000      0.00000   \n",
       "PBI             129      0.000000      0.000000     0.0000      0.00000   \n",
       "ANNHI           129      0.000000      0.000000     0.0000      0.00000   \n",
       "TRIBAL          129      0.000000      0.000000     0.0000      0.00000   \n",
       "AANAPII         129      0.007752      0.088045     0.0000      0.00000   \n",
       "HSI             129      0.000000      0.000000     0.0000      0.00000   \n",
       "NANTI           129      0.000000      0.000000     0.0000      0.00000   \n",
       "MENONLY         129      0.000000      0.000000     0.0000      0.00000   \n",
       "WOMENONLY       129      0.015504      0.124027     0.0000      0.00000   \n",
       "ADM_RATE        129      0.426606      0.218304     0.0569      0.26050   \n",
       "ADM_RATE_ALL    129      0.423395      0.216678     0.0569      0.26330   \n",
       "SATVR25         129    591.627907     53.044655   520.0000    550.00000   \n",
       "SATVR75         129    694.635659     46.586770   620.0000    660.00000   \n",
       "SATMT25         129    616.434109     53.367805   510.0000    570.00000   \n",
       "SATMT75         129    715.759690     47.393759   640.0000    680.00000   \n",
       "SATWR25         103    599.349515     60.026581   490.0000    550.00000   \n",
       "SATWR75         103    699.203883     52.392628   610.0000    655.00000   \n",
       "SATVRMID        129    643.139535     49.320499   570.0000    605.00000   \n",
       "SATMTMID        129    666.100775     49.579772   580.0000    625.00000   \n",
       "SATWRMID        103    649.291262     55.927234   550.0000    602.50000   \n",
       "ACTCM25         125     27.208000      2.420664    23.0000     25.00000   \n",
       "ACTCM75         125     31.448000      1.748068    28.0000     30.00000   \n",
       "...             ...           ...           ...        ...          ...   \n",
       "PCIP52          129      0.123270      0.121505     0.0000      0.02240   \n",
       "PCIP54          129      0.029073      0.021315     0.0000      0.01570   \n",
       "DISTANCEONLY    129      0.000000      0.000000     0.0000      0.00000   \n",
       "UGDS_WHITE      129      0.595400      0.151010     0.2357      0.47540   \n",
       "UGDS_BLACK      129      0.048170      0.025183     0.0007      0.02960   \n",
       "UGDS_HISP       129      0.089679      0.047854     0.0042      0.05680   \n",
       "UGDS_ASIAN      129      0.107359      0.081047     0.0007      0.04820   \n",
       "UGDS_AIAN       129      0.003036      0.004493     0.0000      0.00120   \n",
       "UGDS_NHPI       129      0.001096      0.001309     0.0000      0.00020   \n",
       "UGDS_2MOR       129      0.037741      0.019677     0.0000      0.02530   \n",
       "UGDS_NRA        129      0.075560      0.049341     0.0022      0.03800   \n",
       "UGDS_UNKN       129      0.041964      0.033981     0.0000      0.01700   \n",
       "UGDS_WHITENH    129      0.470645      0.288254     0.0000      0.33270   \n",
       "UGDS_BLACKNH    129      0.043123      0.033597     0.0000      0.01250   \n",
       "UGDS_API        129      0.092482      0.091477     0.0000      0.02580   \n",
       "UGDS_AIANOld    129      0.004571      0.005172     0.0000      0.00040   \n",
       "UGDS_HISPOld    129      0.056995      0.049908     0.0000      0.01910   \n",
       "UG_NRA          129      0.041149      0.029177     0.0000      0.01920   \n",
       "UG_UNKN         129      0.058897      0.059188     0.0000      0.00970   \n",
       "UG_WHITENH      129      0.692807      0.150282     0.2930      0.58080   \n",
       "UG_BLACKNH      129      0.050371      0.027862     0.0000      0.03100   \n",
       "UG_API          129      0.098144      0.080649     0.0011      0.04090   \n",
       "UG_AIANOld      129      0.005313      0.005925     0.0000      0.00240   \n",
       "UG_HISPOld      129      0.053320      0.040987     0.0018      0.02460   \n",
       "INEXPFTE        129  23676.589147  19084.983814  8478.0000  13166.00000   \n",
       "AVGFACSAL       129  11028.263566   2376.616034  5086.0000   9518.00000   \n",
       "PFTFAC          129      0.769478      0.156390     0.2629      0.66320   \n",
       "PCTPELL         129      0.189267      0.067201     0.0616      0.14290   \n",
       "PCTFLOAN        129      0.395047      0.135150     0.0290      0.32110   \n",
       "UG25abv         128      0.041315      0.039007     0.0006      0.01205   \n",
       "\n",
       "                      50%         75%          max  \n",
       "PREDDEG           3.00000      3.0000       3.0000  \n",
       "HIGHDEG           4.00000      4.0000       4.0000  \n",
       "CONTROL           2.00000      2.0000       2.0000  \n",
       "region            3.00000      6.0000       8.0000  \n",
       "LOCALE           12.00000     21.0000      42.0000  \n",
       "CCBASIC          16.00000     18.0000      22.0000  \n",
       "CCUGPROF         12.00000     12.0000      13.0000  \n",
       "CCSIZSET         14.00000     16.0000      17.0000  \n",
       "HBCU              0.00000      0.0000       0.0000  \n",
       "PBI               0.00000      0.0000       0.0000  \n",
       "ANNHI             0.00000      0.0000       0.0000  \n",
       "TRIBAL            0.00000      0.0000       0.0000  \n",
       "AANAPII           0.00000      0.0000       1.0000  \n",
       "HSI               0.00000      0.0000       0.0000  \n",
       "NANTI             0.00000      0.0000       0.0000  \n",
       "MENONLY           0.00000      0.0000       0.0000  \n",
       "WOMENONLY         0.00000      0.0000       1.0000  \n",
       "ADM_RATE          0.42870      0.5787       0.9011  \n",
       "ADM_RATE_ALL      0.42390      0.5778       0.9011  \n",
       "SATVR25         580.00000    620.0000     720.0000  \n",
       "SATVR75         690.00000    720.0000     800.0000  \n",
       "SATMT25         610.00000    660.0000     770.0000  \n",
       "SATMT75         710.00000    760.0000     800.0000  \n",
       "SATWR25         590.00000    647.5000     720.0000  \n",
       "SATWR75         690.00000    750.0000     800.0000  \n",
       "SATVRMID        633.00000    670.0000     760.0000  \n",
       "SATMTMID        665.00000    700.0000     785.0000  \n",
       "SATWRMID        645.00000    692.5000     755.0000  \n",
       "ACTCM25          27.00000     29.0000      33.0000  \n",
       "ACTCM75          31.00000     33.0000      35.0000  \n",
       "...                   ...         ...          ...  \n",
       "PCIP52            0.11550      0.1825       0.9380  \n",
       "PCIP54            0.02510      0.0381       0.1103  \n",
       "DISTANCEONLY      0.00000      0.0000       0.0000  \n",
       "UGDS_WHITE        0.60260      0.7159       0.9193  \n",
       "UGDS_BLACK        0.04540      0.0638       0.1594  \n",
       "UGDS_HISP         0.08050      0.1059       0.2481  \n",
       "UGDS_ASIAN        0.08820      0.1557       0.4248  \n",
       "UGDS_AIAN         0.00180      0.0031       0.0392  \n",
       "UGDS_NHPI         0.00070      0.0013       0.0070  \n",
       "UGDS_2MOR         0.03590      0.0473       0.1079  \n",
       "UGDS_NRA          0.06810      0.1022       0.2563  \n",
       "UGDS_UNKN         0.03200      0.0651       0.1445  \n",
       "UGDS_WHITENH      0.55130      0.7070       0.9040  \n",
       "UGDS_BLACKNH      0.04210      0.0658       0.1666  \n",
       "UGDS_API          0.07410      0.1328       0.4896  \n",
       "UGDS_AIANOld      0.00400      0.0064       0.0394  \n",
       "UGDS_HISPOld      0.05300      0.0775       0.2369  \n",
       "UG_NRA            0.03540      0.0521       0.1607  \n",
       "UG_UNKN           0.03920      0.0994       0.2848  \n",
       "UG_WHITENH        0.70390      0.8077       0.9934  \n",
       "UG_BLACKNH        0.04550      0.0684       0.1595  \n",
       "UG_API            0.06850      0.1410       0.4017  \n",
       "UG_AIANOld        0.00400      0.0064       0.0574  \n",
       "UG_HISPOld        0.04450      0.0672       0.2666  \n",
       "INEXPFTE      16161.00000  26268.0000  106214.0000  \n",
       "AVGFACSAL     10886.00000  12158.0000   19862.0000  \n",
       "PFTFAC            0.80200      0.8810       1.0000  \n",
       "PCTPELL           0.17920      0.2131       0.4471  \n",
       "PCTFLOAN          0.40970      0.4747       0.7296  \n",
       "UG25abv           0.03005      0.0599       0.2342  \n",
       "\n",
       "[108 rows x 8 columns]"
      ]
     },
     "execution_count": 207,
     "metadata": {},
     "output_type": "execute_result"
    }
   ],
   "source": [
    "# shows that a bunch of the flag fields (MENONLY etc) are empty - should remove those features\n",
    "X.describe().T"
   ]
  },
  {
   "cell_type": "code",
   "execution_count": 208,
   "metadata": {
    "collapsed": false,
    "scrolled": true
   },
   "outputs": [
    {
     "data": {
      "text/html": [
       "<div>\n",
       "<table border=\"1\" class=\"dataframe\">\n",
       "  <thead>\n",
       "    <tr style=\"text-align: right;\">\n",
       "      <th></th>\n",
       "      <th>count</th>\n",
       "      <th>mean</th>\n",
       "      <th>std</th>\n",
       "      <th>min</th>\n",
       "      <th>25%</th>\n",
       "      <th>50%</th>\n",
       "      <th>75%</th>\n",
       "      <th>max</th>\n",
       "    </tr>\n",
       "  </thead>\n",
       "  <tbody>\n",
       "    <tr>\n",
       "      <th>loan_ever</th>\n",
       "      <td>129</td>\n",
       "      <td>0.944806</td>\n",
       "      <td>0.056983</td>\n",
       "      <td>0.540000</td>\n",
       "      <td>0.940000</td>\n",
       "      <td>0.960000</td>\n",
       "      <td>0.980000</td>\n",
       "      <td>0.990000</td>\n",
       "    </tr>\n",
       "    <tr>\n",
       "      <th>pell_ever</th>\n",
       "      <td>129</td>\n",
       "      <td>0.367752</td>\n",
       "      <td>0.119995</td>\n",
       "      <td>0.180000</td>\n",
       "      <td>0.290000</td>\n",
       "      <td>0.350000</td>\n",
       "      <td>0.420000</td>\n",
       "      <td>0.890000</td>\n",
       "    </tr>\n",
       "    <tr>\n",
       "      <th>age_entry</th>\n",
       "      <td>129</td>\n",
       "      <td>20.567442</td>\n",
       "      <td>1.097408</td>\n",
       "      <td>19.290001</td>\n",
       "      <td>19.860001</td>\n",
       "      <td>20.309999</td>\n",
       "      <td>20.930000</td>\n",
       "      <td>27.719999</td>\n",
       "    </tr>\n",
       "    <tr>\n",
       "      <th>agege24</th>\n",
       "      <td>129</td>\n",
       "      <td>0.114031</td>\n",
       "      <td>0.102153</td>\n",
       "      <td>0.000000</td>\n",
       "      <td>0.050000</td>\n",
       "      <td>0.080000</td>\n",
       "      <td>0.130000</td>\n",
       "      <td>0.550000</td>\n",
       "    </tr>\n",
       "    <tr>\n",
       "      <th>female</th>\n",
       "      <td>129</td>\n",
       "      <td>0.527132</td>\n",
       "      <td>0.113049</td>\n",
       "      <td>0.200000</td>\n",
       "      <td>0.500000</td>\n",
       "      <td>0.550000</td>\n",
       "      <td>0.580000</td>\n",
       "      <td>0.960000</td>\n",
       "    </tr>\n",
       "    <tr>\n",
       "      <th>married</th>\n",
       "      <td>129</td>\n",
       "      <td>0.034884</td>\n",
       "      <td>0.045262</td>\n",
       "      <td>0.000000</td>\n",
       "      <td>0.010000</td>\n",
       "      <td>0.030000</td>\n",
       "      <td>0.040000</td>\n",
       "      <td>0.390000</td>\n",
       "    </tr>\n",
       "    <tr>\n",
       "      <th>dependent</th>\n",
       "      <td>129</td>\n",
       "      <td>0.846589</td>\n",
       "      <td>0.122369</td>\n",
       "      <td>0.400000</td>\n",
       "      <td>0.820000</td>\n",
       "      <td>0.880000</td>\n",
       "      <td>0.920000</td>\n",
       "      <td>0.990000</td>\n",
       "    </tr>\n",
       "    <tr>\n",
       "      <th>veteran</th>\n",
       "      <td>129</td>\n",
       "      <td>0.008915</td>\n",
       "      <td>0.007929</td>\n",
       "      <td>0.000000</td>\n",
       "      <td>0.000000</td>\n",
       "      <td>0.010000</td>\n",
       "      <td>0.010000</td>\n",
       "      <td>0.040000</td>\n",
       "    </tr>\n",
       "    <tr>\n",
       "      <th>first_gen</th>\n",
       "      <td>129</td>\n",
       "      <td>0.196202</td>\n",
       "      <td>0.068707</td>\n",
       "      <td>0.060000</td>\n",
       "      <td>0.140000</td>\n",
       "      <td>0.180000</td>\n",
       "      <td>0.240000</td>\n",
       "      <td>0.360000</td>\n",
       "    </tr>\n",
       "    <tr>\n",
       "      <th>faminc</th>\n",
       "      <td>129</td>\n",
       "      <td>92245.358450</td>\n",
       "      <td>17143.186337</td>\n",
       "      <td>42156.620000</td>\n",
       "      <td>82875.910000</td>\n",
       "      <td>94533.480000</td>\n",
       "      <td>103616.900000</td>\n",
       "      <td>132813.410000</td>\n",
       "    </tr>\n",
       "    <tr>\n",
       "      <th>md_faminc</th>\n",
       "      <td>129</td>\n",
       "      <td>74472.116279</td>\n",
       "      <td>18370.822515</td>\n",
       "      <td>20347.000000</td>\n",
       "      <td>63543.500000</td>\n",
       "      <td>76696.000000</td>\n",
       "      <td>87306.000000</td>\n",
       "      <td>112856.000000</td>\n",
       "    </tr>\n",
       "    <tr>\n",
       "      <th>faminc_ind</th>\n",
       "      <td>129</td>\n",
       "      <td>24047.807184</td>\n",
       "      <td>8808.329219</td>\n",
       "      <td>3441.860107</td>\n",
       "      <td>18153.960938</td>\n",
       "      <td>23360.119141</td>\n",
       "      <td>27910.119141</td>\n",
       "      <td>61463.671875</td>\n",
       "    </tr>\n",
       "    <tr>\n",
       "      <th>lnfaminc</th>\n",
       "      <td>129</td>\n",
       "      <td>11.040620</td>\n",
       "      <td>0.242403</td>\n",
       "      <td>10.140000</td>\n",
       "      <td>10.910000</td>\n",
       "      <td>11.090000</td>\n",
       "      <td>11.210000</td>\n",
       "      <td>11.460000</td>\n",
       "    </tr>\n",
       "    <tr>\n",
       "      <th>lnfaminc_ind</th>\n",
       "      <td>129</td>\n",
       "      <td>9.682558</td>\n",
       "      <td>0.318719</td>\n",
       "      <td>8.700000</td>\n",
       "      <td>9.520000</td>\n",
       "      <td>9.690000</td>\n",
       "      <td>9.850000</td>\n",
       "      <td>10.630000</td>\n",
       "    </tr>\n",
       "  </tbody>\n",
       "</table>\n",
       "</div>"
      ],
      "text/plain": [
       "              count          mean           std           min           25%  \\\n",
       "loan_ever       129      0.944806      0.056983      0.540000      0.940000   \n",
       "pell_ever       129      0.367752      0.119995      0.180000      0.290000   \n",
       "age_entry       129     20.567442      1.097408     19.290001     19.860001   \n",
       "agege24         129      0.114031      0.102153      0.000000      0.050000   \n",
       "female          129      0.527132      0.113049      0.200000      0.500000   \n",
       "married         129      0.034884      0.045262      0.000000      0.010000   \n",
       "dependent       129      0.846589      0.122369      0.400000      0.820000   \n",
       "veteran         129      0.008915      0.007929      0.000000      0.000000   \n",
       "first_gen       129      0.196202      0.068707      0.060000      0.140000   \n",
       "faminc          129  92245.358450  17143.186337  42156.620000  82875.910000   \n",
       "md_faminc       129  74472.116279  18370.822515  20347.000000  63543.500000   \n",
       "faminc_ind      129  24047.807184   8808.329219   3441.860107  18153.960938   \n",
       "lnfaminc        129     11.040620      0.242403     10.140000     10.910000   \n",
       "lnfaminc_ind    129      9.682558      0.318719      8.700000      9.520000   \n",
       "\n",
       "                       50%            75%            max  \n",
       "loan_ever         0.960000       0.980000       0.990000  \n",
       "pell_ever         0.350000       0.420000       0.890000  \n",
       "age_entry        20.309999      20.930000      27.719999  \n",
       "agege24           0.080000       0.130000       0.550000  \n",
       "female            0.550000       0.580000       0.960000  \n",
       "married           0.030000       0.040000       0.390000  \n",
       "dependent         0.880000       0.920000       0.990000  \n",
       "veteran           0.010000       0.010000       0.040000  \n",
       "first_gen         0.180000       0.240000       0.360000  \n",
       "faminc        94533.480000  103616.900000  132813.410000  \n",
       "md_faminc     76696.000000   87306.000000  112856.000000  \n",
       "faminc_ind    23360.119141   27910.119141   61463.671875  \n",
       "lnfaminc         11.090000      11.210000      11.460000  \n",
       "lnfaminc_ind      9.690000       9.850000      10.630000  "
      ]
     },
     "execution_count": 208,
     "metadata": {},
     "output_type": "execute_result"
    }
   ],
   "source": [
    "X_objects.describe().T"
   ]
  },
  {
   "cell_type": "code",
   "execution_count": 209,
   "metadata": {
    "collapsed": false
   },
   "outputs": [],
   "source": [
    "X1 = pd.concat([X, X_objects], axis=1)"
   ]
  },
  {
   "cell_type": "code",
   "execution_count": 210,
   "metadata": {
    "collapsed": false
   },
   "outputs": [
    {
     "name": "stdout",
     "output_type": "stream",
     "text": [
      "<class 'pandas.core.frame.DataFrame'>\n",
      "Int64Index: 129 entries, 9 to 4562\n",
      "Columns: 122 entries, PREDDEG to lnfaminc_ind\n",
      "dtypes: float64(118), int64(4)\n",
      "memory usage: 124.0 KB\n"
     ]
    }
   ],
   "source": [
    "X1.info()"
   ]
  },
  {
   "cell_type": "code",
   "execution_count": 211,
   "metadata": {
    "collapsed": true
   },
   "outputs": [],
   "source": [
    "y1 = df_top.y"
   ]
  },
  {
   "cell_type": "code",
   "execution_count": 212,
   "metadata": {
    "collapsed": true
   },
   "outputs": [],
   "source": [
    "from sklearn.linear_model import LinearRegression"
   ]
  },
  {
   "cell_type": "code",
   "execution_count": 214,
   "metadata": {
    "collapsed": false
   },
   "outputs": [],
   "source": [
    "lr1 = LinearRegression().fit(X2, y1)"
   ]
  },
  {
   "cell_type": "code",
   "execution_count": 270,
   "metadata": {
    "collapsed": false,
    "scrolled": true
   },
   "outputs": [
    {
     "data": {
      "text/plain": [
       "20.0900001525878    3\n",
       "19.6700000762939    3\n",
       "20.8700008392334    3\n",
       "20.0499992370605    2\n",
       "20.3099994659423    2\n",
       "20.1200008392334    2\n",
       "21.1200008392334    2\n",
       "20.4899997711181    2\n",
       "20.3199996948242    2\n",
       "19.9500007629394    2\n",
       "19.8899993896484    2\n",
       "19.5400009155273    2\n",
       "19.7999992370605    2\n",
       "19.4899997711181    2\n",
       "20.25               2\n",
       "19.7000007629394    2\n",
       "20.0200004577636    2\n",
       "19.329999923706     2\n",
       "20.2000007629394    2\n",
       "19.7800006866455    1\n",
       "19.9300003051757    1\n",
       "20.6299991607666    1\n",
       "19.6499996185302    1\n",
       "20.6499996185302    1\n",
       "21.2000007629394    1\n",
       "22.8700008392334    1\n",
       "21.1900005340576    1\n",
       "21.0100002288818    1\n",
       "19.6900005340576    1\n",
       "19.5699996948242    1\n",
       "                   ..\n",
       "21.3799991607666    1\n",
       "21.7000007629394    1\n",
       "19.5200004577636    1\n",
       "20.9500007629394    1\n",
       "20.5900001525878    1\n",
       "22.2800006866455    1\n",
       "22.6399993896484    1\n",
       "19.7900009155273    1\n",
       "19.6200008392334    1\n",
       "21.6100006103515    1\n",
       "21.8700008392334    1\n",
       "19.3799991607666    1\n",
       "20.5400009155273    1\n",
       "20.2700004577636    1\n",
       "20.8999996185302    1\n",
       "19.2900009155273    1\n",
       "22.2199993133544    1\n",
       "20.579999923706     1\n",
       "21.3099994659423    1\n",
       "22.9200000762939    1\n",
       "20.8799991607666    1\n",
       "21.1599998474121    1\n",
       "20.7600002288818    1\n",
       "21.8099994659423    1\n",
       "21.4200000762939    1\n",
       "20.2999992370605    1\n",
       "21.4400005340576    1\n",
       "21.3899993896484    1\n",
       "20.2399997711181    1\n",
       "19.8600006103515    1\n",
       "dtype: int64"
      ]
     },
     "execution_count": 270,
     "metadata": {},
     "output_type": "execute_result"
    }
   ],
   "source": [
    "df_top.age_entry.value_counts(dropna=False)"
   ]
  },
  {
   "cell_type": "code",
   "execution_count": 280,
   "metadata": {
    "collapsed": false,
    "scrolled": true
   },
   "outputs": [
    {
     "data": {
      "text/plain": [
       "array(['17845.8203125', '15143.169921875', '20851.310546875',\n",
       "       '17491.7109375', '16073.6904296875', '13988.7802734375',\n",
       "       '15568.6201171875', '15027.1298828125', '48387.4609375', '19296',\n",
       "       '12276.2998046875', '13290.48046875', '35069.640625', '15108',\n",
       "       '21643.0703125', '17801.859375', '17600.990234375', '20409.8203125',\n",
       "       '22344.609375', '36190.01953125', '31772.990234375',\n",
       "       '25035.169921875', '19004.75', '23251.470703125', '24329.990234375',\n",
       "       '31606.890625', '23481.75', '20998.130859375', '20054.560546875',\n",
       "       '25581.05078125', '26053.109375', '18646.1796875', '27929.1796875',\n",
       "       '22817.130859375', '14485.5', '25281.060546875', '32664.2890625',\n",
       "       '17528.939453125', '45702.5390625', '14090.580078125',\n",
       "       '26494.640625', '27628.76953125', '32120.01953125',\n",
       "       '22458.279296875', '34606.19140625', '26602.349609375',\n",
       "       '25749.919921875', '61463.671875', '29062.9296875',\n",
       "       '24135.44921875', '23676.98046875', '15027.4599609375',\n",
       "       '21560.650390625', '25777.6796875', '26486.080078125',\n",
       "       '55100.08984375', '33299.33984375', '15632.490234375',\n",
       "       '3441.86010742187', '22066.130859375', '20926.9609375',\n",
       "       '25801.529296875', '18965.890625', '18101.359375', '22485.6796875',\n",
       "       '30221.529296875', '22214.6796875', '23563.98046875',\n",
       "       '27910.119140625', '30328.369140625', '21343.4609375',\n",
       "       '23474.099609375', '20264.650390625', '17994.2109375',\n",
       "       '32562.490234375', '30209.080078125', '13934.9404296875',\n",
       "       '36395.80859375', '26086.1796875', '27844.220703125',\n",
       "       '24219.41015625', '22910.869140625', '23913.23046875',\n",
       "       '20674.0390625', '12271.9296875', '31810.6796875', '24308.25',\n",
       "       '26427.759765625', '23212.0703125', '28950.08984375',\n",
       "       '9447.8203125', '23526.25', '23062.140625', '15002.16015625',\n",
       "       '11512.75', '31779.2890625', '16006.2099609375', '18283.640625',\n",
       "       '14363.73046875', '33953.109375', '37570.12109375',\n",
       "       '22949.51953125', '24775.650390625', '40424.55078125',\n",
       "       '8100.169921875', '22460.669921875', '10934.26953125',\n",
       "       '21022.650390625', '31036.880859375', '14926.76953125',\n",
       "       '28428.41015625', '23781.51953125', '29341.5703125',\n",
       "       '27026.439453125', '13338.3798828125', '20002.580078125',\n",
       "       '22306.369140625', '48347.51171875', '18153.9609375',\n",
       "       '28354.2109375', '14245.650390625', '24154.109375',\n",
       "       '26137.119140625', '23360.119140625', '27141.849609375',\n",
       "       '31310.849609375', '23493.16015625', '36667.66015625',\n",
       "       '21995.009765625'], dtype=object)"
      ]
     },
     "execution_count": 280,
     "metadata": {},
     "output_type": "execute_result"
    }
   ],
   "source": [
    "df_top.faminc_ind.unique()"
   ]
  },
  {
   "cell_type": "code",
   "execution_count": 268,
   "metadata": {
    "collapsed": false
   },
   "outputs": [
    {
     "data": {
      "text/plain": [
       "<matplotlib.axes._subplots.AxesSubplot at 0x1299c1290>"
      ]
     },
     "execution_count": 268,
     "metadata": {},
     "output_type": "execute_result"
    },
    {
     "data": {
      "image/png": "[encoded data removed]",
      "text/plain": [
       "<matplotlib.figure.Figure at 0x1299dcc90>"
      ]
     },
     "metadata": {},
     "output_type": "display_data"
    }
   ],
   "source": [
    "df_top.PCTFLOAN.plot(kind='kde')\n",
    "df_top.loan_ever.astype('float').plot(kind='kde')"
   ]
  },
  {
   "cell_type": "code",
   "execution_count": 283,
   "metadata": {
    "collapsed": false
   },
   "outputs": [
    {
     "data": {
      "text/plain": [
       "<matplotlib.axes._subplots.AxesSubplot at 0x129975d90>"
      ]
     },
     "execution_count": 283,
     "metadata": {},
     "output_type": "execute_result"
    },
    {
     "data": {
      "image/png": "[encoded data removed]",
      "text/plain": [
       "<matplotlib.figure.Figure at 0x128f5bd10>"
      ]
     },
     "metadata": {},
     "output_type": "display_data"
    }
   ],
   "source": [
    "df_top.faminc.astype('float').plot(kind='kde')\n",
    "df_top.md_faminc.astype('float').plot(kind='kde')\n"
   ]
  },
  {
   "cell_type": "code",
   "execution_count": 282,
   "metadata": {
    "collapsed": false
   },
   "outputs": [
    {
     "data": {
      "text/plain": [
       "<matplotlib.axes._subplots.AxesSubplot at 0x12a014a10>"
      ]
     },
     "execution_count": 282,
     "metadata": {},
     "output_type": "execute_result"
    },
    {
     "data": {
      "image/png": "[encoded data removed]",
      "text/plain": [
       "<matplotlib.figure.Figure at 0x129db77d0>"
      ]
     },
     "metadata": {},
     "output_type": "display_data"
    }
   ],
   "source": [
    "df_top.lnfaminc.astype('float').plot(kind='kde')"
   ]
  },
  {
   "cell_type": "code",
   "execution_count": 269,
   "metadata": {
    "collapsed": false
   },
   "outputs": [
    {
     "data": {
      "text/plain": [
       "<matplotlib.axes._subplots.AxesSubplot at 0x129b23150>"
      ]
     },
     "execution_count": 269,
     "metadata": {},
     "output_type": "execute_result"
    },
    {
     "data": {
      "image/png": "[encoded data removed]",
      "text/plain": [
       "<matplotlib.figure.Figure at 0x129b3eb10>"
      ]
     },
     "metadata": {},
     "output_type": "display_data"
    }
   ],
   "source": [
    "df_top.PCTPELL.plot(kind='kde')\n",
    "df_top.pell_ever.astype('float').plot(kind='kde')\n"
   ]
  },
  {
   "cell_type": "code",
   "execution_count": 213,
   "metadata": {
    "collapsed": false,
    "scrolled": true
   },
   "outputs": [],
   "source": [
    "X2 = X1.fillna(0)"
   ]
  },
  {
   "cell_type": "code",
   "execution_count": 215,
   "metadata": {
    "collapsed": false
   },
   "outputs": [
    {
     "data": {
      "text/plain": [
       "{'copy_X': True, 'fit_intercept': True, 'n_jobs': 1, 'normalize': False}"
      ]
     },
     "execution_count": 215,
     "metadata": {},
     "output_type": "execute_result"
    }
   ],
   "source": [
    "lr1.get_params()"
   ]
  },
  {
   "cell_type": "code",
   "execution_count": 216,
   "metadata": {
    "collapsed": false,
    "scrolled": true
   },
   "outputs": [
    {
     "data": {
      "text/plain": [
       "array([  0.00000000e+00,  -8.12216872e+01,   1.25919974e+05,\n",
       "        -7.51931049e+03,   7.72408709e+02,   1.49938661e+04,\n",
       "        -1.07528940e+05,  -5.10262970e+03,  -1.37668286e-01,\n",
       "         3.05340638e-02,  -3.12463784e-01,   1.39672960e-02,\n",
       "         1.81085203e+05,   3.14786051e-02,   2.91499516e-02,\n",
       "        -4.01630887e-02,   6.37990823e+05,  -8.54352190e+05,\n",
       "         7.01036567e+05,   2.66691684e+03,   1.32197527e+03,\n",
       "        -4.12434404e+05,  -4.13572222e+05,   3.33860044e+05,\n",
       "         3.43577225e+05,  -3.85542030e+03,   8.26558856e+05,\n",
       "        -6.78327729e+05,   6.42991583e+04,   1.27083216e+05,\n",
       "         3.81016072e+04,   1.61222838e+04,   3.50123391e+04,\n",
       "        -1.51067874e+04,   7.56743312e+04,  -1.69930073e+03,\n",
       "        -1.90262034e+05,  -9.64492192e+04,   3.76095649e+04,\n",
       "        -8.58659149e+04,  -6.86987152e+02,   1.70061873e+03,\n",
       "        -1.88979217e+08,  -1.89919765e+08,  -1.91436673e+08,\n",
       "        -1.91362130e+08,  -1.89918950e+08,  -1.81870482e+08,\n",
       "        -1.89845172e+08,  -2.14978951e+08,  -1.88544731e+08,\n",
       "        -1.89805117e+08,  -1.93896838e+08,  -1.89475075e+08,\n",
       "        -1.86461109e+08,  -1.86779231e+08,  -1.88750262e+08,\n",
       "        -1.88508826e+08,  -6.24690739e-05,  -1.89455207e+08,\n",
       "        -1.91757692e+08,   2.68621225e-04,  -1.89834814e+08,\n",
       "        -1.88292611e+08,  -1.93319272e+08,  -1.92225389e+08,\n",
       "        -1.90388854e+08,  -1.67468385e+08,  -1.88317881e+08,\n",
       "        -1.88611282e+08,  -1.89575687e+08,  -1.89323825e+08,\n",
       "        -1.94115770e+08,   7.11851645e+08,  -1.78857751e+08,\n",
       "        -3.12117538e+08,  -1.90355042e+08,  -1.89346821e+08,\n",
       "        -1.89536783e+08,  -1.87935708e+08,   3.70993067e-05,\n",
       "        -4.03370947e+08,  -4.01440605e+08,  -4.02303800e+08,\n",
       "        -4.02855607e+08,  -4.03461153e+08,  -4.11002879e+08,\n",
       "        -4.02867285e+08,  -4.03679753e+08,  -4.04602865e+08,\n",
       "        -2.17755161e+05,   2.75998504e+06,  -1.26644497e+06,\n",
       "         2.96733432e+06,  -1.94415494e+05,   7.74854845e+07,\n",
       "         7.66793438e+07,   7.62082469e+07,   7.30265982e+07,\n",
       "         7.71091218e+07,   7.36932881e+07,   7.52384182e+07,\n",
       "        -2.99408275e+00,   5.48261188e+01,   5.91841368e+04,\n",
       "        -1.09743612e+05,   1.90668413e+05,  -2.08535152e+05,\n",
       "        -7.44439555e+05,   4.16439195e+05,  -8.54012900e+04,\n",
       "         3.74341374e+06,  -1.61083655e+06,  -2.87351458e+05,\n",
       "         1.26207675e+06,   8.59827176e+05,  -3.18584984e+05,\n",
       "         4.65955313e+00,   3.06868218e+00,  -2.94390233e+00,\n",
       "        -3.73841602e+05,   1.95457440e+05])"
      ]
     },
     "execution_count": 216,
     "metadata": {},
     "output_type": "execute_result"
    }
   ],
   "source": [
    "lr1.coef_"
   ]
  },
  {
   "cell_type": "code",
   "execution_count": 217,
   "metadata": {
    "collapsed": true
   },
   "outputs": [],
   "source": [
    "import statsmodels.api as sm"
   ]
  },
  {
   "cell_type": "code",
   "execution_count": 218,
   "metadata": {
    "collapsed": true
   },
   "outputs": [],
   "source": [
    "X2 = sm.add_constant(X2)"
   ]
  },
  {
   "cell_type": "code",
   "execution_count": 219,
   "metadata": {
    "collapsed": false
   },
   "outputs": [
    {
     "name": "stdout",
     "output_type": "stream",
     "text": [
      "                            OLS Regression Results                            \n",
      "==============================================================================\n",
      "Dep. Variable:                      y   R-squared:                       0.990\n",
      "Model:                            OLS   Adj. R-squared:                  0.930\n",
      "Method:                 Least Squares   F-statistic:                     16.52\n",
      "Date:                Wed, 23 Sep 2015   Prob (F-statistic):           1.23e-08\n",
      "Time:                        13:56:25   Log-Likelihood:                -1518.0\n",
      "No. Observations:                 129   AIC:                             3258.\n",
      "Df Residuals:                      18   BIC:                             3575.\n",
      "Df Model:                         110                                         \n",
      "Covariance Type:            nonrobust                                         \n",
      "================================================================================\n",
      "                   coef    std err          t      P>|t|      [0.025      0.975]\n",
      "--------------------------------------------------------------------------------\n",
      "PREDDEG       6.231e+07   4.72e+07      1.320      0.203   -3.69e+07    1.62e+08\n",
      "HIGHDEG       8.308e+07    6.3e+07      1.320      0.203   -4.92e+07    2.15e+08\n",
      "CONTROL       1.259e+05   9.13e+04      1.380      0.185   -6.58e+04    3.18e+05\n",
      "region       -7519.2979   1.41e+04     -0.534      0.600   -3.71e+04    2.21e+04\n",
      "LOCALE         772.4066   3059.728      0.252      0.804   -5655.843    7200.656\n",
      "CCBASIC       1.499e+04   1.66e+04      0.903      0.379   -1.99e+04    4.99e+04\n",
      "CCUGPROF     -1.075e+05   6.21e+04     -1.733      0.100   -2.38e+05    2.28e+04\n",
      "CCSIZSET     -5102.6284   1.38e+04     -0.370      0.716   -3.41e+04    2.39e+04\n",
      "HBCU             0.2959      0.154      1.920      0.071      -0.028       0.620\n",
      "PBI              0.5685      0.303      1.878      0.077      -0.068       1.205\n",
      "ANNHI            0.0443      0.023      1.886      0.076      -0.005       0.094\n",
      "TRIBAL          -0.0491      0.067     -0.734      0.473      -0.190       0.091\n",
      "AANAPII       1.811e+05   1.75e+05      1.033      0.315   -1.87e+05     5.5e+05\n",
      "HSI             -0.0141      0.028     -0.499      0.624      -0.073       0.045\n",
      "NANTI           -0.0756      0.047     -1.605      0.126      -0.175       0.023\n",
      "MENONLY         -0.0182      0.012     -1.553      0.138      -0.043       0.006\n",
      "WOMENONLY      6.38e+05   3.26e+05      1.958      0.066   -4.66e+04    1.32e+06\n",
      "ADM_RATE     -8.544e+05   7.96e+05     -1.074      0.297   -2.53e+06    8.17e+05\n",
      "ADM_RATE_ALL   7.01e+05   7.93e+05      0.884      0.388   -9.65e+05    2.37e+06\n",
      "SATVR25       2666.8696   1.77e+05      0.015      0.988   -3.69e+05    3.74e+05\n",
      "SATVR75       1321.9275   1.78e+05      0.007      0.994   -3.72e+05    3.75e+05\n",
      "SATMT25      -4.124e+05   2.64e+05     -1.559      0.136   -9.68e+05    1.43e+05\n",
      "SATMT75      -4.136e+05   2.64e+05     -1.567      0.135   -9.68e+05    1.41e+05\n",
      "SATWR25       3.339e+05   1.52e+05      2.189      0.042    1.35e+04    6.54e+05\n",
      "SATWR75       3.436e+05   1.53e+05      2.245      0.038    2.21e+04    6.65e+05\n",
      "SATVRMID     -3855.3241   3.54e+05     -0.011      0.991   -7.48e+05     7.4e+05\n",
      "SATMTMID      8.266e+05   5.28e+05      1.564      0.135   -2.83e+05    1.94e+06\n",
      "SATWRMID     -6.783e+05   3.06e+05     -2.220      0.039   -1.32e+06   -3.64e+04\n",
      "ACTCM25        6.43e+04   4.86e+04      1.323      0.203   -3.78e+04    1.66e+05\n",
      "ACTCM75       1.271e+05   7.56e+04      1.682      0.110   -3.17e+04    2.86e+05\n",
      "ACTEN25        3.81e+04   7.44e+04      0.512      0.615   -1.18e+05    1.94e+05\n",
      "ACTEN75       1.612e+04    5.7e+04      0.283      0.780   -1.04e+05    1.36e+05\n",
      "ACTMT25       3.501e+04   6.68e+04      0.524      0.607   -1.05e+05    1.75e+05\n",
      "ACTMT75      -1.511e+04    5.4e+04     -0.280      0.783   -1.28e+05    9.83e+04\n",
      "ACTWR25       7.567e+04   4.44e+05      0.170      0.867   -8.57e+05    1.01e+06\n",
      "ACTWR75      -1699.3317   6.72e+04     -0.025      0.980   -1.43e+05     1.4e+05\n",
      "ACTCMMID     -1.903e+05   1.15e+05     -1.659      0.114   -4.31e+05    5.06e+04\n",
      "ACTENMID     -9.645e+04   1.15e+05     -0.838      0.413   -3.38e+05    1.45e+05\n",
      "ACTMTMID      3.761e+04   9.52e+04      0.395      0.697   -1.62e+05    2.38e+05\n",
      "ACTWRMID     -8.587e+04   4.01e+05     -0.214      0.833   -9.29e+05    7.58e+05\n",
      "SAT_AVG       -686.9814   5906.229     -0.116      0.909   -1.31e+04    1.17e+04\n",
      "SAT_AVG_ALL   1700.6133   5938.831      0.286      0.778   -1.08e+04    1.42e+04\n",
      "PCIP01        -1.89e+08   1.72e+08     -1.100      0.286    -5.5e+08    1.72e+08\n",
      "PCIP03       -1.899e+08   1.72e+08     -1.105      0.284   -5.51e+08    1.71e+08\n",
      "PCIP04       -1.914e+08   1.72e+08     -1.113      0.280   -5.53e+08     1.7e+08\n",
      "PCIP05       -1.914e+08   1.72e+08     -1.112      0.281   -5.53e+08     1.7e+08\n",
      "PCIP09       -1.899e+08   1.72e+08     -1.104      0.284   -5.51e+08    1.71e+08\n",
      "PCIP10       -1.819e+08   1.73e+08     -1.053      0.306   -5.45e+08    1.81e+08\n",
      "PCIP11       -1.898e+08   1.72e+08     -1.102      0.285   -5.52e+08    1.72e+08\n",
      "PCIP12        -2.15e+08   1.83e+08     -1.176      0.255   -5.99e+08    1.69e+08\n",
      "PCIP13       -1.885e+08   1.72e+08     -1.098      0.287   -5.49e+08    1.72e+08\n",
      "PCIP14       -1.898e+08   1.72e+08     -1.102      0.285   -5.52e+08    1.72e+08\n",
      "PCIP15       -1.939e+08   1.74e+08     -1.116      0.279   -5.59e+08    1.71e+08\n",
      "PCIP16       -1.895e+08   1.72e+08     -1.100      0.286   -5.51e+08    1.72e+08\n",
      "PCIP19       -1.865e+08   1.72e+08     -1.085      0.292   -5.48e+08    1.75e+08\n",
      "PCIP22       -1.868e+08   1.74e+08     -1.075      0.297   -5.52e+08    1.78e+08\n",
      "PCIP23       -1.888e+08   1.72e+08     -1.099      0.286    -5.5e+08    1.72e+08\n",
      "PCIP24       -1.885e+08   1.72e+08     -1.096      0.287    -5.5e+08    1.73e+08\n",
      "PCIP25          -0.0004      0.000     -1.645      0.117      -0.001       0.000\n",
      "PCIP26       -1.895e+08   1.72e+08     -1.101      0.285   -5.51e+08    1.72e+08\n",
      "PCIP27       -1.918e+08   1.73e+08     -1.110      0.282   -5.55e+08    1.71e+08\n",
      "PCIP29        6.152e-05      0.000      0.449      0.659      -0.000       0.000\n",
      "PCIP30       -1.898e+08   1.72e+08     -1.103      0.284   -5.51e+08    1.72e+08\n",
      "PCIP31       -1.883e+08   1.72e+08     -1.095      0.288    -5.5e+08    1.73e+08\n",
      "PCIP38       -1.933e+08   1.72e+08     -1.121      0.277   -5.56e+08    1.69e+08\n",
      "PCIP39       -1.922e+08   1.72e+08     -1.115      0.279   -5.54e+08     1.7e+08\n",
      "PCIP40       -1.904e+08   1.72e+08     -1.107      0.283   -5.52e+08    1.71e+08\n",
      "PCIP41       -1.675e+08   3.08e+08     -0.544      0.593   -8.14e+08    4.79e+08\n",
      "PCIP42       -1.883e+08   1.72e+08     -1.094      0.288    -5.5e+08    1.73e+08\n",
      "PCIP43       -1.886e+08   1.72e+08     -1.097      0.287    -5.5e+08    1.73e+08\n",
      "PCIP44       -1.896e+08   1.72e+08     -1.102      0.285   -5.51e+08    1.72e+08\n",
      "PCIP45       -1.893e+08   1.72e+08     -1.100      0.286   -5.51e+08    1.72e+08\n",
      "PCIP46       -1.941e+08   1.76e+08     -1.104      0.284   -5.64e+08    1.75e+08\n",
      "PCIP47        7.119e+08   4.91e+08      1.451      0.164   -3.19e+08    1.74e+09\n",
      "PCIP48       -1.789e+08   3.03e+08     -0.591      0.562   -8.15e+08    4.57e+08\n",
      "PCIP49       -3.121e+08    2.1e+08     -1.489      0.154   -7.52e+08    1.28e+08\n",
      "PCIP50       -1.904e+08   1.72e+08     -1.105      0.284   -5.52e+08    1.72e+08\n",
      "PCIP51       -1.893e+08   1.72e+08     -1.100      0.286   -5.51e+08    1.72e+08\n",
      "PCIP52       -1.895e+08   1.72e+08     -1.102      0.285   -5.51e+08    1.72e+08\n",
      "PCIP54       -1.879e+08   1.72e+08     -1.092      0.289    -5.5e+08    1.74e+08\n",
      "DISTANCEONLY -3.491e-05   2.38e-05     -1.468      0.159   -8.49e-05    1.51e-05\n",
      "UGDS_WHITE   -4.034e+08   2.37e+08     -1.704      0.106   -9.01e+08    9.39e+07\n",
      "UGDS_BLACK   -4.014e+08   2.36e+08     -1.698      0.107   -8.98e+08    9.52e+07\n",
      "UGDS_HISP    -4.023e+08   2.37e+08     -1.700      0.106   -8.99e+08    9.48e+07\n",
      "UGDS_ASIAN   -4.029e+08   2.37e+08     -1.703      0.106      -9e+08    9.43e+07\n",
      "UGDS_AIAN    -4.035e+08   2.38e+08     -1.694      0.108   -9.04e+08     9.7e+07\n",
      "UGDS_NHPI     -4.11e+08   2.39e+08     -1.722      0.102   -9.12e+08    9.05e+07\n",
      "UGDS_2MOR    -4.029e+08   2.37e+08     -1.701      0.106      -9e+08    9.47e+07\n",
      "UGDS_NRA     -4.037e+08   2.37e+08     -1.706      0.105   -9.01e+08    9.34e+07\n",
      "UGDS_UNKN    -4.046e+08   2.37e+08     -1.709      0.105   -9.02e+08    9.28e+07\n",
      "UGDS_WHITENH -2.178e+05   1.31e+05     -1.664      0.113   -4.93e+05    5.72e+04\n",
      "UGDS_BLACKNH   2.76e+06   1.45e+06      1.898      0.074   -2.95e+05    5.82e+06\n",
      "UGDS_API     -1.266e+06   5.71e+05     -2.217      0.040   -2.47e+06   -6.64e+04\n",
      "UGDS_AIANOld  2.967e+06   5.98e+06      0.496      0.626   -9.59e+06    1.55e+07\n",
      "UGDS_HISPOld -1.944e+05   1.07e+06     -0.181      0.858   -2.45e+06    2.06e+06\n",
      "UG_NRA        7.749e+07   2.28e+08      0.340      0.738   -4.01e+08    5.56e+08\n",
      "UG_UNKN       7.668e+07   2.27e+08      0.337      0.740   -4.01e+08    5.54e+08\n",
      "UG_WHITENH    7.621e+07   2.27e+08      0.336      0.741   -4.01e+08    5.53e+08\n",
      "UG_BLACKNH    7.303e+07   2.27e+08      0.322      0.751   -4.04e+08     5.5e+08\n",
      "UG_API        7.711e+07   2.27e+08      0.339      0.739   -4.01e+08    5.55e+08\n",
      "UG_AIANOld    7.369e+07   2.28e+08      0.323      0.750   -4.05e+08    5.53e+08\n",
      "UG_HISPOld    7.524e+07   2.27e+08      0.331      0.744   -4.02e+08    5.52e+08\n",
      "INEXPFTE        -2.9941      1.553     -1.927      0.070      -6.258       0.270\n",
      "AVGFACSAL       54.8261     16.132      3.399      0.003      20.933      88.719\n",
      "PFTFAC        5.918e+04    1.4e+05      0.423      0.678   -2.35e+05    3.53e+05\n",
      "PCTPELL      -1.097e+05   6.38e+05     -0.172      0.865   -1.45e+06    1.23e+06\n",
      "PCTFLOAN      1.907e+05   4.19e+05      0.455      0.655    -6.9e+05    1.07e+06\n",
      "UG25abv      -2.085e+05    6.4e+05     -0.326      0.748   -1.55e+06    1.14e+06\n",
      "loan_ever    -7.444e+05   9.44e+05     -0.789      0.440   -2.73e+06    1.24e+06\n",
      "pell_ever     4.164e+05   8.83e+05      0.472      0.643   -1.44e+06    2.27e+06\n",
      "age_entry     -8.54e+04   1.52e+05     -0.561      0.582   -4.05e+05    2.34e+05\n",
      "agege24       3.743e+06   2.56e+06      1.462      0.161   -1.64e+06    9.12e+06\n",
      "female       -1.611e+06   7.28e+05     -2.214      0.040   -3.14e+06    -8.2e+04\n",
      "married      -2.874e+05   1.86e+06     -0.154      0.879    -4.2e+06    3.63e+06\n",
      "dependent     1.262e+06   1.47e+06      0.856      0.403   -1.83e+06    4.36e+06\n",
      "veteran       8.598e+05   3.85e+06      0.223      0.826   -7.23e+06    8.95e+06\n",
      "first_gen    -3.186e+05   8.13e+05     -0.392      0.700   -2.03e+06    1.39e+06\n",
      "faminc           4.6596      7.732      0.603      0.554     -11.584      20.903\n",
      "md_faminc        3.0687      6.808      0.451      0.658     -11.234      17.372\n",
      "faminc_ind      -2.9439      5.555     -0.530      0.603     -14.615       8.727\n",
      "lnfaminc     -3.738e+05   7.21e+05     -0.518      0.610   -1.89e+06    1.14e+06\n",
      "lnfaminc_ind  1.955e+05   1.55e+05      1.264      0.222   -1.29e+05     5.2e+05\n",
      "==============================================================================\n",
      "Omnibus:                        4.107   Durbin-Watson:                   2.186\n",
      "Prob(Omnibus):                  0.128   Jarque-Bera (JB):                3.548\n",
      "Skew:                          -0.374   Prob(JB):                        0.170\n",
      "Kurtosis:                       3.318   Cond. No.                     1.59e+16\n",
      "==============================================================================\n",
      "\n",
      "Warnings:\n",
      "[1] Standard Errors assume that the covariance matrix of the errors is correctly specified.\n",
      "[2] The smallest eigenvalue is 8.06e-21. This might indicate that there are\n",
      "strong multicollinearity problems or that the design matrix is singular.\n"
     ]
    }
   ],
   "source": [
    "model = sm.OLS(y1, X2)\n",
    "results = model.fit()\n",
    "print(results.summary())"
   ]
  },
  {
   "cell_type": "code",
   "execution_count": null,
   "metadata": {
    "collapsed": true
   },
   "outputs": [],
   "source": []
  }
 ],
 "metadata": {
  "kernelspec": {
   "display_name": "Python 2",
   "language": "python",
   "name": "python2"
  },
  "language_info": {
   "codemirror_mode": {
    "name": "ipython",
    "version": 2
   },
   "file_extension": ".py",
   "mimetype": "text/x-python",
   "name": "python",
   "nbconvert_exporter": "python",
   "pygments_lexer": "ipython2",
   "version": "2.7.10"
  }
 },
 "nbformat": 4,
 "nbformat_minor": 0
}
