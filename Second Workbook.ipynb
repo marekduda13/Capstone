{
 "cells": [
  {
   "cell_type": "markdown",
   "metadata": {},
   "source": [
    "# Data preparation"
   ]
  },
  {
   "cell_type": "code",
   "execution_count": 385,
   "metadata": {
    "collapsed": true
   },
   "outputs": [],
   "source": [
    "import pandas as pd\n",
    "import numpy as np\n",
    "import matplotlib.pyplot as plt\n",
    "\n",
    "%matplotlib inline"
   ]
  },
  {
   "cell_type": "code",
   "execution_count": 393,
   "metadata": {
    "collapsed": false
   },
   "outputs": [],
   "source": [
    "df_all = pd.read_csv('Data/Most+Recent+Cohorts+(All+Data+Elements).csv', low_memory=False)"
   ]
  },
  {
   "cell_type": "code",
   "execution_count": 3,
   "metadata": {
    "collapsed": false
   },
   "outputs": [],
   "source": [
    "df_BA = df_all[df_all['PREDDEG'] == 3]"
   ]
  },
  {
   "cell_type": "code",
   "execution_count": 4,
   "metadata": {
    "collapsed": false
   },
   "outputs": [],
   "source": [
    "df_BA2 = df_BA[df_BA['HIGHDEG'] == 4]"
   ]
  },
  {
   "cell_type": "code",
   "execution_count": 5,
   "metadata": {
    "collapsed": false
   },
   "outputs": [
    {
     "data": {
      "text/plain": [
       "array([  9.,   8.,   6.,  10.,  13.,   7.,  nan,  11.,   5.,  12.,   1.,\n",
       "         0.])"
      ]
     },
     "execution_count": 5,
     "metadata": {},
     "output_type": "execute_result"
    }
   ],
   "source": [
    "# carnegie classification showing if is mainly FT students\n",
    "\n",
    "df_BA2.CCUGPROF.unique()"
   ]
  },
  {
   "cell_type": "code",
   "execution_count": 6,
   "metadata": {
    "collapsed": true
   },
   "outputs": [],
   "source": [
    "# df_BA2 = df_BA2[df_BA2['CCUGPROF'] != 1]\n",
    "# df_BA2 = df_BA2[df_BA2['CCUGPROF'] != 0]\n",
    "# df_BA2 = df_BA2[df_BA2['CCUGPROF'] > 10]"
   ]
  },
  {
   "cell_type": "code",
   "execution_count": 7,
   "metadata": {
    "collapsed": false,
    "scrolled": true
   },
   "outputs": [
    {
     "data": {
      "text/plain": [
       "count    1135.000000\n",
       "mean     1063.790308\n",
       "std       125.261096\n",
       "min       750.000000\n",
       "25%       985.000000\n",
       "50%      1048.000000\n",
       "75%      1121.000000\n",
       "max      1534.000000\n",
       "Name: SAT_AVG, dtype: float64"
      ]
     },
     "execution_count": 7,
     "metadata": {},
     "output_type": "execute_result"
    }
   ],
   "source": [
    "df_BA2.SAT_AVG.describe()"
   ]
  },
  {
   "cell_type": "code",
   "execution_count": 8,
   "metadata": {
    "collapsed": true
   },
   "outputs": [],
   "source": [
    "df_top = df_BA2[df_BA2['SAT_AVG'].notnull()]"
   ]
  },
  {
   "cell_type": "code",
   "execution_count": 9,
   "metadata": {
    "collapsed": false
   },
   "outputs": [],
   "source": [
    "df_top = df_BA2[df_BA2['SAT_AVG'] > 1200]"
   ]
  },
  {
   "cell_type": "markdown",
   "metadata": {},
   "source": [
    "This score corresponds to ~75 - 85th percentile of SAT takers."
   ]
  },
  {
   "cell_type": "code",
   "execution_count": 10,
   "metadata": {
    "collapsed": false
   },
   "outputs": [
    {
     "name": "stdout",
     "output_type": "stream",
     "text": [
      "<class 'pandas.core.frame.DataFrame'>\n",
      "Int64Index: 142 entries, 9 to 5987\n",
      "Columns: 1728 entries, UNITID to SEPAR_DT_N\n",
      "dtypes: float64(428), int64(12), object(1288)\n",
      "memory usage: 1.9+ MB\n"
     ]
    }
   ],
   "source": [
    "df_top.info()"
   ]
  },
  {
   "cell_type": "code",
   "execution_count": 11,
   "metadata": {
    "collapsed": false
   },
   "outputs": [
    {
     "name": "stdout",
     "output_type": "stream",
     "text": [
      "Auburn University\n",
      "Hendrix College\n",
      "California Institute of Technology\n",
      "California Polytechnic State University-San Luis Obispo\n",
      "University of California-Berkeley\n",
      "University of California-Los Angeles\n",
      "University of California-San Diego\n",
      "University of California-Santa Barbara\n",
      "Chapman University\n",
      "Claremont McKenna College\n",
      "Loyola Marymount University\n",
      "Occidental College\n",
      "Pepperdine University\n",
      "University of San Diego\n",
      "Santa Clara University\n",
      "Scripps College\n",
      "University of Southern California\n",
      "Colorado College\n",
      "Colorado School of Mines\n",
      "University of Denver\n",
      "University of Connecticut\n",
      "Trinity College\n",
      "Wesleyan University\n",
      "Yale University\n",
      "American University\n",
      "George Washington University\n",
      "Georgetown University\n",
      "Florida State University\n",
      "University of Florida\n",
      "University of Miami\n",
      "Emory University\n",
      "Georgia Institute of Technology-Main Campus\n",
      "University of Georgia\n",
      "University of Chicago\n",
      "University of Illinois at Urbana-Champaign\n",
      "Illinois Institute of Technology\n",
      "Northwestern University\n",
      "VanderCook College of Music\n",
      "Wheaton College\n",
      "Butler University\n",
      "Earlham College\n",
      "University of Notre Dame\n",
      "Rose-Hulman Institute of Technology\n",
      "Taylor University\n",
      "Drake University\n",
      "University of Iowa\n",
      "Tulane University of Louisiana\n",
      "Johns Hopkins University\n",
      "University of Maryland-Baltimore County\n",
      "University of Maryland-College Park\n",
      "St Mary's College of Maryland\n",
      "Babson College\n",
      "Bentley University\n",
      "Boston College\n",
      "Boston University\n",
      "Brandeis University\n",
      "Emerson College\n",
      "Harvard University\n",
      "University of Massachusetts-Amherst\n",
      "Massachusetts Institute of Technology\n",
      "Northeastern University\n",
      "Tufts University\n",
      "Williams College\n",
      "University of Michigan-Ann Arbor\n",
      "Michigan Technological University\n",
      "University of Minnesota-Twin Cities\n",
      "Missouri University of Science and Technology\n",
      "Truman State University\n",
      "Saint Louis University\n",
      "Washington University in St Louis\n",
      "Creighton University\n",
      "Dartmouth College\n",
      "Princeton University\n",
      "Rutgers University-New Brunswick\n",
      "Stevens Institute of Technology\n",
      "The College of New Jersey\n",
      "Colgate University\n",
      "Columbia University in the City of New York\n",
      "Cooper Union for the Advancement of Science and Art\n",
      "Cornell University\n",
      "CUNY Bernard M Baruch College\n",
      "Fordham University\n",
      "Jewish Theological Seminary of America\n",
      "New York University\n",
      "Polytechnic Institute of New York University\n",
      "Rensselaer Polytechnic Institute\n",
      "Rochester Institute of Technology\n",
      "University of Rochester\n",
      "Skidmore College\n",
      "SUNY at Binghamton\n",
      "Stony Brook University\n",
      "SUNY College at Geneseo\n",
      "Yeshiva University\n",
      "Duke University\n",
      "University of North Carolina at Chapel Hill\n",
      "North Carolina State University at Raleigh\n",
      "Case Western Reserve University\n",
      "Miami University-Oxford\n",
      "Oberlin College\n",
      "Ohio State University-Main Campus\n",
      "University of Tulsa\n",
      "Lewis & Clark College\n",
      "Reed College\n",
      "Bryn Mawr College\n",
      "Bucknell University\n",
      "Carnegie Mellon University\n",
      "Lehigh University\n",
      "University of Pennsylvania\n",
      "University of Pittsburgh-Pittsburgh Campus\n",
      "Villanova University\n",
      "Brown University\n",
      "Rhode Island School of Design\n",
      "Clemson University\n",
      "Furman University\n",
      "Rhodes College\n",
      "Sewanee-The University of the South\n",
      "Vanderbilt University\n",
      "Baylor University\n",
      "University of Dallas\n",
      "Rice University\n",
      "Southern Methodist University\n",
      "The University of Texas at Austin\n",
      "The University of Texas at Dallas\n",
      "Texas Christian University\n",
      "Trinity University\n",
      "Brigham Young University-Provo\n",
      "Middlebury College\n",
      "College of William and Mary\n",
      "University of Richmond\n",
      "Virginia Polytechnic Institute and State University\n",
      "University of Virginia-Main Campus\n",
      "Washington and Lee University\n",
      "Gonzaga University\n",
      "University of Puget Sound\n",
      "University of Washington-Seattle Campus\n",
      "Marquette University\n",
      "Milwaukee School of Engineering\n",
      "University of Wisconsin-Madison\n",
      "Stanford University\n",
      "Purdue University-Main Campus\n",
      "Soka University of America\n",
      "DigiPen Institute of Technology\n"
     ]
    }
   ],
   "source": [
    "for i in df_top.INSTNM:\n",
    "    print i"
   ]
  },
  {
   "cell_type": "markdown",
   "metadata": {},
   "source": [
    "Now I have a reasonable subset of the universities - filtered to 4 year FT colleges, with high academic reputation (based on average SAT scores of those admitted).\n",
    "\n",
    "Next step is to begin creating the ROI metric.\n",
    "\n",
    "Next step after that is to go through all the features and clean them up!"
   ]
  },
  {
   "cell_type": "code",
   "execution_count": 12,
   "metadata": {
    "collapsed": false
   },
   "outputs": [
    {
     "data": {
      "text/plain": [
       "2    98\n",
       "1    43\n",
       "3     1\n",
       "dtype: int64"
      ]
     },
     "execution_count": 12,
     "metadata": {},
     "output_type": "execute_result"
    }
   ],
   "source": [
    "# priv vs pub identifier field 1 - pub, 2 - priv, 3 - for profit\n",
    "df_top.CONTROL.value_counts()"
   ]
  },
  {
   "cell_type": "code",
   "execution_count": 13,
   "metadata": {
    "collapsed": false,
    "scrolled": true
   },
   "outputs": [
    {
     "data": {
      "text/plain": [
       "array(['39300', '29000', '64000', '48100', '51600', '46800', '42000',\n",
       "       '38100', '43400', '59100', '36700', '60100', '48000', '51900',\n",
       "       '34200', '64700', '29300', '66200', '44200', '46200', '50100',\n",
       "       '38400', '76400', '45200', '56300', '86100', '37000', '45100',\n",
       "       '50500', '62600', '59700', '41000', '69800', '47400', '54800',\n",
       "       '65600', 'PrivacySuppressed', '37300', '52400', '23700', '68600',\n",
       "       '64800', '30600', '49000', '42700', '53000', '63300', '41800',\n",
       "       '36000', '68300', '59900', '62400', '48700', '40200', '33800',\n",
       "       '106300', '39800', '106900', '51700', '68700', '55400', '49200',\n",
       "       '55200', '45300', '70500', '71600', '45000', '60800', '44600',\n",
       "       '49800', '79300', '68900', '43700', '44000', '51000', '49700',\n",
       "       '62900', '47600', '45800', '34800', '44300', '42500', '47200',\n",
       "       '87600', '46600', '40500', '65800', '38000', '37500', '46400',\n",
       "       '32000', '27500', '38800', '56400', '70900', '92300', '42400',\n",
       "       '59800', '54400', '36300', '40800', '58600', '39900', '37600',\n",
       "       '52700', '45400', '42100', '50600', '48300', '53100', '62300',\n",
       "       '43100', '37400', '49900', '46100', '102300', '53200'], dtype=object)"
      ]
     },
     "execution_count": 13,
     "metadata": {},
     "output_type": "execute_result"
    }
   ],
   "source": [
    "# Mean earnings of students working and not enrolled 6 years after entry\n",
    "# basically 2nd year salary\n",
    "df_top.mn_earn_wne_p6.unique()"
   ]
  },
  {
   "cell_type": "code",
   "execution_count": 14,
   "metadata": {
    "collapsed": false,
    "scrolled": true
   },
   "outputs": [
    {
     "data": {
      "text/plain": [
       "PrivacySuppressed    3\n",
       "77400                2\n",
       "58300                2\n",
       "65100                2\n",
       "52900                2\n",
       "48900                2\n",
       "54000                2\n",
       "63100                2\n",
       "61300                2\n",
       "70200                2\n",
       "64300                2\n",
       "59900                2\n",
       "72000                2\n",
       "128400               1\n",
       "58100                1\n",
       "78800                1\n",
       "99700                1\n",
       "64400                1\n",
       "113400               1\n",
       "67300                1\n",
       "85600                1\n",
       "66400                1\n",
       "54200                1\n",
       "64000                1\n",
       "82300                1\n",
       "70000                1\n",
       "52700                1\n",
       "107300               1\n",
       "65600                1\n",
       "55400                1\n",
       "                    ..\n",
       "65400                1\n",
       "44500                1\n",
       "55200                1\n",
       "81300                1\n",
       "83200                1\n",
       "47400                1\n",
       "68200                1\n",
       "69600                1\n",
       "123400               1\n",
       "84700                1\n",
       "62400                1\n",
       "85800                1\n",
       "66700                1\n",
       "47300                1\n",
       "59700                1\n",
       "91900                1\n",
       "47500                1\n",
       "73900                1\n",
       "57500                1\n",
       "74300                1\n",
       "75600                1\n",
       "77100                1\n",
       "76500                1\n",
       "55100                1\n",
       "81100                1\n",
       "51400                1\n",
       "113000               1\n",
       "62000                1\n",
       "63900                1\n",
       "80600                1\n",
       "dtype: int64"
      ]
     },
     "execution_count": 14,
     "metadata": {},
     "output_type": "execute_result"
    }
   ],
   "source": [
    "# mean earnings 10 years after enrolling so ~ 6 years after graduating\n",
    "df_top.mn_earn_wne_p10.value_counts()"
   ]
  },
  {
   "cell_type": "markdown",
   "metadata": {
    "collapsed": false
   },
   "source": [
    "Need to get rid of the privacy suppressed ones."
   ]
  },
  {
   "cell_type": "code",
   "execution_count": 15,
   "metadata": {
    "collapsed": false
   },
   "outputs": [],
   "source": [
    "df_top = df_top[df_top['mn_earn_wne_p10'] != 'PrivacySuppressed']\n",
    "df_top = df_top[df_top['mn_earn_wne_p6'] != 'PrivacySuppressed']"
   ]
  },
  {
   "cell_type": "code",
   "execution_count": 16,
   "metadata": {
    "collapsed": false
   },
   "outputs": [],
   "source": [
    "df_top = df_top[df_top['CCUGPROF'].notnull()]"
   ]
  },
  {
   "cell_type": "markdown",
   "metadata": {},
   "source": [
    "# Calculating y"
   ]
  },
  {
   "cell_type": "code",
   "execution_count": 212,
   "metadata": {
    "collapsed": false
   },
   "outputs": [],
   "source": [
    "# CONTROL, NPT4_PRIV, NPT4_PUB, mn_earn_wne_p6, mn_earn_wne_p10\n",
    "\n",
    "def NPV(Control, Edu_Price_Pvt, Edu_Price_Pub, mean_earnings_6yr, mean_earnings_10yr):\n",
    "    salary_table = pd.DataFrame(0, index=np.arange(1,46,1), columns=['Earnings', 'Edu_Price', 'Opp_Cost', 'NPV'])\n",
    "    \n",
    "    # populating Opportunity Cost column\n",
    "    salary_table.Opp_Cost[1] = 25000\n",
    "    for i in range(2,16,1):\n",
    "        salary_table.Opp_Cost[i] = 25000 + (((i-1)/float(15)) * 10000)\n",
    "    for i in range(16, 46, 1):\n",
    "        salary_table.Opp_Cost[i] = 35000\n",
    "    \n",
    "    # populating educational cost column\n",
    "    for i in range(1,5,1):\n",
    "        if Control == 1:\n",
    "            salary_table.Edu_Price[i] = Edu_Price_Pub\n",
    "        else:\n",
    "            salary_table.Edu_Price[i] = Edu_Price_Pvt\n",
    "    \n",
    "    # populating lifetime earnings column\n",
    "    salary_table.Earnings[5] = 0.85 * float(mean_earnings_6yr)\n",
    "    salary_table.Earnings[6] = float(mean_earnings_6yr)\n",
    "    for i in range(7,11,1):\n",
    "        salary_table.Earnings[i] = float(mean_earnings_6yr) + (float(mean_earnings_10yr) - float(mean_earnings_6yr) \\\n",
    "        * (0.25 * (i - 6)))\n",
    "    for i in range(11, 27, 1):\n",
    "        salary_table.Earnings[i] = salary_table.Earnings[(i-1)] * 1.025\n",
    "    for i in range(27, 46, 1):\n",
    "        salary_table.Earnings[i] = salary_table.Earnings[(i-1)]\n",
    "    \n",
    "    # populating NPV column\n",
    "    for i in range (1, 46, 1):\n",
    "        salary_table.NPV[i] = (salary_table.Earnings[i] * (1/(1.05 ** i))) + (salary_table.Edu_Price[i] * (-1.05 ** i)) \\\n",
    "        + (salary_table.Opp_Cost[i] * (-1/(1.05 ** i)))\n",
    "    \n",
    "    return np.sum(salary_table.NPV)\n",
    "    "
   ]
  },
  {
   "cell_type": "code",
   "execution_count": 211,
   "metadata": {
    "collapsed": false,
    "scrolled": true
   },
   "outputs": [
    {
     "data": {
      "text/plain": [
       "(    Earnings  Edu_Price  Opp_Cost     NPV\n",
       " 1          0      50000     25000  -76309\n",
       " 2          0      50000     25666  -78404\n",
       " 3          0      50000     26333  -80628\n",
       " 4          0      50000     27000  -82988\n",
       " 5      76500          0     27666   38262\n",
       " 6      90000          0     28333   46016\n",
       " 7     187500          0     29000  112642\n",
       " 8     165000          0     29666   91599\n",
       " 9     142500          0     30333   72303\n",
       " 10    120000          0     31000   54638\n",
       " 11    122999          0     31666   53400\n",
       " 12    126073          0     32333   52197\n",
       " 13    129224          0     33000   51029\n",
       " 14    132454          0     33666   49894\n",
       " 15    135765          0     34333   48790\n",
       " 16    139159          0     35000   47716\n",
       " 17    142637          0     35000   46961\n",
       " 18    146202          0     35000   46206\n",
       " 19    149857          0     35000   45452\n",
       " 20    153603          0     35000   44700\n",
       " 21    157443          0     35000   43949\n",
       " 22    161379          0     35000   43202\n",
       " 23    165413          0     35000   42458\n",
       " 24    169548          0     35000   41719\n",
       " 25    173786          0     35000   40983\n",
       " 26    178130          0     35000   40253\n",
       " 27    178130          0     35000   38337\n",
       " 28    178130          0     35000   36511\n",
       " 29    178130          0     35000   34772\n",
       " 30    178130          0     35000   33117\n",
       " 31    178130          0     35000   31540\n",
       " 32    178130          0     35000   30038\n",
       " 33    178130          0     35000   28607\n",
       " 34    178130          0     35000   27245\n",
       " 35    178130          0     35000   25948\n",
       " 36    178130          0     35000   24712\n",
       " 37    178130          0     35000   23535\n",
       " 38    178130          0     35000   22414\n",
       " 39    178130          0     35000   21347\n",
       " 40    178130          0     35000   20330\n",
       " 41    178130          0     35000   19362\n",
       " 42    178130          0     35000   18440\n",
       " 43    178130          0     35000   17562\n",
       " 44    178130          0     35000   16726\n",
       " 45    178130          0     35000   15929, 1322512)"
      ]
     },
     "execution_count": 211,
     "metadata": {},
     "output_type": "execute_result"
    }
   ],
   "source": [
    "# function test\n",
    "NPV(1, 0, 50000, 90000, 120000)"
   ]
  },
  {
   "cell_type": "code",
   "execution_count": 19,
   "metadata": {
    "collapsed": true
   },
   "outputs": [],
   "source": [
    "df_top = df_top.copy()"
   ]
  },
  {
   "cell_type": "code",
   "execution_count": 20,
   "metadata": {
    "collapsed": false,
    "scrolled": true
   },
   "outputs": [
    {
     "name": "stderr",
     "output_type": "stream",
     "text": [
      "/Users/marekduda/anaconda/lib/python2.7/site-packages/pandas/core/indexing.py:115: SettingWithCopyWarning: \n",
      "A value is trying to be set on a copy of a slice from a DataFrame\n",
      "\n",
      "See the the caveats in the documentation: http://pandas.pydata.org/pandas-docs/stable/indexing.html#indexing-view-versus-copy\n",
      "  self._setitem_with_indexer(indexer, value)\n"
     ]
    }
   ],
   "source": [
    "# CONTROL, NPT4_PRIV, NPT4_PUB, mn_earn_wne_p6, mn_earn_wne_p10\n",
    "df_top['y'] = np.nan\n",
    "for ix in range(len(df_top)):\n",
    "    df_top.y.iloc[ix] = NPV(df_top.CONTROL.iloc[ix], df_top.NPT4_PRIV.iloc[ix], df_top.NPT4_PUB.iloc[ix], \n",
    "                      df_top.mn_earn_wne_p6.iloc[ix], df_top.mn_earn_wne_p10.iloc[ix])"
   ]
  },
  {
   "cell_type": "code",
   "execution_count": 21,
   "metadata": {
    "collapsed": false,
    "scrolled": true
   },
   "outputs": [
    {
     "data": {
      "text/plain": [
       "count        135.000000\n",
       "mean      553253.348148\n",
       "std       311161.796423\n",
       "min        23563.000000\n",
       "25%       350623.000000\n",
       "50%       491434.000000\n",
       "75%       721663.000000\n",
       "max      1690413.000000\n",
       "Name: y, dtype: float64"
      ]
     },
     "execution_count": 21,
     "metadata": {},
     "output_type": "execute_result"
    }
   ],
   "source": [
    "df_top.y.describe()"
   ]
  },
  {
   "cell_type": "code",
   "execution_count": 314,
   "metadata": {
    "collapsed": false
   },
   "outputs": [
    {
     "data": {
      "text/plain": [
       "<matplotlib.axes._subplots.AxesSubplot at 0x107c307d0>"
      ]
     },
     "execution_count": 314,
     "metadata": {},
     "output_type": "execute_result"
    },
    {
     "data": {
      "image/png": "[encoded data removed]",
      "text/plain": [
       "<matplotlib.figure.Figure at 0x120c0e590>"
      ]
     },
     "metadata": {},
     "output_type": "display_data"
    }
   ],
   "source": [
    "\n",
    "y_sort = df_top.sort('y')['y']\n",
    "y_sort.plot(kind='line', use_index=False)"
   ]
  },
  {
   "cell_type": "markdown",
   "metadata": {},
   "source": [
    "Seems like a lot of the value is in the tail!"
   ]
  },
  {
   "cell_type": "code",
   "execution_count": 22,
   "metadata": {
    "collapsed": false
   },
   "outputs": [],
   "source": [
    "import csv\n",
    "with open('Columns - Sheet1 (4).csv', 'rb') as c:\n",
    "    reader = csv.reader(c)\n",
    "    columns = list(reader)"
   ]
  },
  {
   "cell_type": "code",
   "execution_count": 23,
   "metadata": {
    "collapsed": false,
    "scrolled": true
   },
   "outputs": [
    {
     "data": {
      "text/plain": [
       "['PREDDEG',\n",
       " 'HIGHDEG',\n",
       " 'CONTROL',\n",
       " 'region',\n",
       " 'LOCALE',\n",
       " 'locale2',\n",
       " 'CCBASIC',\n",
       " 'CCUGPROF',\n",
       " 'CCSIZSET',\n",
       " 'ADM_RATE',\n",
       " 'SATVRMID',\n",
       " 'SATMTMID',\n",
       " 'SAT_AVG',\n",
       " 'PCIP01',\n",
       " 'PCIP03',\n",
       " 'PCIP04',\n",
       " 'PCIP05',\n",
       " 'PCIP09',\n",
       " 'PCIP10',\n",
       " 'PCIP11',\n",
       " 'PCIP12',\n",
       " 'PCIP13',\n",
       " 'PCIP14',\n",
       " 'PCIP15',\n",
       " 'PCIP16',\n",
       " 'PCIP19',\n",
       " 'PCIP22',\n",
       " 'PCIP23',\n",
       " 'PCIP24',\n",
       " 'PCIP25',\n",
       " 'PCIP26',\n",
       " 'PCIP27',\n",
       " 'PCIP29',\n",
       " 'PCIP30',\n",
       " 'PCIP31',\n",
       " 'PCIP38',\n",
       " 'PCIP39',\n",
       " 'PCIP40',\n",
       " 'PCIP41',\n",
       " 'PCIP42',\n",
       " 'PCIP43',\n",
       " 'PCIP44',\n",
       " 'PCIP45',\n",
       " 'PCIP46',\n",
       " 'PCIP47',\n",
       " 'PCIP48',\n",
       " 'PCIP49',\n",
       " 'PCIP50',\n",
       " 'PCIP51',\n",
       " 'PCIP52',\n",
       " 'PCIP54',\n",
       " 'UGDS_WHITE',\n",
       " 'UGDS_BLACK',\n",
       " 'UGDS_HISP',\n",
       " 'UGDS_ASIAN',\n",
       " 'INEXPFTE',\n",
       " 'AVGFACSAL',\n",
       " 'PFTFAC',\n",
       " 'PCTPELL',\n",
       " 'PCTFLOAN',\n",
       " 'loan_ever',\n",
       " 'pell_ever',\n",
       " 'age_entry',\n",
       " 'agege24',\n",
       " 'female',\n",
       " 'married',\n",
       " 'dependent',\n",
       " 'veteran',\n",
       " 'first_gen',\n",
       " 'faminc',\n",
       " 'md_faminc',\n",
       " 'lnfaminc']"
      ]
     },
     "execution_count": 23,
     "metadata": {},
     "output_type": "execute_result"
    }
   ],
   "source": [
    "columns[0]"
   ]
  },
  {
   "cell_type": "code",
   "execution_count": 24,
   "metadata": {
    "collapsed": false
   },
   "outputs": [],
   "source": [
    "del columns[0][5]"
   ]
  },
  {
   "cell_type": "code",
   "execution_count": 25,
   "metadata": {
    "collapsed": false
   },
   "outputs": [],
   "source": [
    "X = df_top[columns[0]]"
   ]
  },
  {
   "cell_type": "code",
   "execution_count": 29,
   "metadata": {
    "collapsed": false,
    "scrolled": true
   },
   "outputs": [
    {
     "data": {
      "text/plain": [
       "count     59\n",
       "mean     135\n",
       "std        0\n",
       "min      135\n",
       "25%      135\n",
       "50%      135\n",
       "75%      135\n",
       "max      135\n",
       "Name: count, dtype: float64"
      ]
     },
     "execution_count": 29,
     "metadata": {},
     "output_type": "execute_result"
    }
   ],
   "source": [
    "X.describe().T['count'].describe()"
   ]
  },
  {
   "cell_type": "code",
   "execution_count": 30,
   "metadata": {
    "collapsed": false,
    "scrolled": true
   },
   "outputs": [
    {
     "data": {
      "text/plain": [
       "PREDDEG         int64\n",
       "HIGHDEG         int64\n",
       "CONTROL         int64\n",
       "region          int64\n",
       "LOCALE        float64\n",
       "CCBASIC       float64\n",
       "CCUGPROF      float64\n",
       "CCSIZSET      float64\n",
       "ADM_RATE      float64\n",
       "SATVRMID      float64\n",
       "SATMTMID      float64\n",
       "SAT_AVG       float64\n",
       "PCIP01        float64\n",
       "PCIP03        float64\n",
       "PCIP04        float64\n",
       "PCIP05        float64\n",
       "PCIP09        float64\n",
       "PCIP10        float64\n",
       "PCIP11        float64\n",
       "PCIP12        float64\n",
       "PCIP13        float64\n",
       "PCIP14        float64\n",
       "PCIP15        float64\n",
       "PCIP16        float64\n",
       "PCIP19        float64\n",
       "PCIP22        float64\n",
       "PCIP23        float64\n",
       "PCIP24        float64\n",
       "PCIP25        float64\n",
       "PCIP26        float64\n",
       "               ...   \n",
       "PCIP45        float64\n",
       "PCIP46        float64\n",
       "PCIP47        float64\n",
       "PCIP48        float64\n",
       "PCIP49        float64\n",
       "PCIP50        float64\n",
       "PCIP51        float64\n",
       "PCIP52        float64\n",
       "PCIP54        float64\n",
       "UGDS_WHITE    float64\n",
       "UGDS_BLACK    float64\n",
       "UGDS_HISP     float64\n",
       "UGDS_ASIAN    float64\n",
       "INEXPFTE      float64\n",
       "AVGFACSAL     float64\n",
       "PFTFAC        float64\n",
       "PCTPELL       float64\n",
       "PCTFLOAN      float64\n",
       "loan_ever      object\n",
       "pell_ever      object\n",
       "age_entry      object\n",
       "agege24        object\n",
       "female         object\n",
       "married        object\n",
       "dependent      object\n",
       "veteran        object\n",
       "first_gen      object\n",
       "faminc         object\n",
       "md_faminc      object\n",
       "lnfaminc       object\n",
       "dtype: object"
      ]
     },
     "execution_count": 30,
     "metadata": {},
     "output_type": "execute_result"
    }
   ],
   "source": [
    "X.dtypes"
   ]
  },
  {
   "cell_type": "code",
   "execution_count": 31,
   "metadata": {
    "collapsed": true
   },
   "outputs": [],
   "source": [
    "g = X.columns.to_series().groupby(X.dtypes).groups"
   ]
  },
  {
   "cell_type": "code",
   "execution_count": 32,
   "metadata": {
    "collapsed": false,
    "scrolled": true
   },
   "outputs": [
    {
     "data": {
      "text/plain": [
       "{dtype('int64'): ['PREDDEG', 'HIGHDEG', 'CONTROL', 'region'],\n",
       " dtype('float64'): ['LOCALE',\n",
       "  'CCBASIC',\n",
       "  'CCUGPROF',\n",
       "  'CCSIZSET',\n",
       "  'ADM_RATE',\n",
       "  'SATVRMID',\n",
       "  'SATMTMID',\n",
       "  'SAT_AVG',\n",
       "  'PCIP01',\n",
       "  'PCIP03',\n",
       "  'PCIP04',\n",
       "  'PCIP05',\n",
       "  'PCIP09',\n",
       "  'PCIP10',\n",
       "  'PCIP11',\n",
       "  'PCIP12',\n",
       "  'PCIP13',\n",
       "  'PCIP14',\n",
       "  'PCIP15',\n",
       "  'PCIP16',\n",
       "  'PCIP19',\n",
       "  'PCIP22',\n",
       "  'PCIP23',\n",
       "  'PCIP24',\n",
       "  'PCIP25',\n",
       "  'PCIP26',\n",
       "  'PCIP27',\n",
       "  'PCIP29',\n",
       "  'PCIP30',\n",
       "  'PCIP31',\n",
       "  'PCIP38',\n",
       "  'PCIP39',\n",
       "  'PCIP40',\n",
       "  'PCIP41',\n",
       "  'PCIP42',\n",
       "  'PCIP43',\n",
       "  'PCIP44',\n",
       "  'PCIP45',\n",
       "  'PCIP46',\n",
       "  'PCIP47',\n",
       "  'PCIP48',\n",
       "  'PCIP49',\n",
       "  'PCIP50',\n",
       "  'PCIP51',\n",
       "  'PCIP52',\n",
       "  'PCIP54',\n",
       "  'UGDS_WHITE',\n",
       "  'UGDS_BLACK',\n",
       "  'UGDS_HISP',\n",
       "  'UGDS_ASIAN',\n",
       "  'INEXPFTE',\n",
       "  'AVGFACSAL',\n",
       "  'PFTFAC',\n",
       "  'PCTPELL',\n",
       "  'PCTFLOAN'],\n",
       " dtype('O'): ['loan_ever',\n",
       "  'pell_ever',\n",
       "  'age_entry',\n",
       "  'agege24',\n",
       "  'female',\n",
       "  'married',\n",
       "  'dependent',\n",
       "  'veteran',\n",
       "  'first_gen',\n",
       "  'faminc',\n",
       "  'md_faminc',\n",
       "  'lnfaminc']}"
      ]
     },
     "execution_count": 32,
     "metadata": {},
     "output_type": "execute_result"
    }
   ],
   "source": [
    "g"
   ]
  },
  {
   "cell_type": "code",
   "execution_count": 33,
   "metadata": {
    "collapsed": true
   },
   "outputs": [],
   "source": [
    "objects = ['loan_ever',\n",
    "  'pell_ever',\n",
    "  'age_entry',\n",
    "  'agege24',\n",
    "  'female',\n",
    "  'married',\n",
    "  'dependent',\n",
    "  'veteran',\n",
    "  'first_gen',\n",
    "  'faminc',\n",
    "  'md_faminc',\n",
    "  'lnfaminc']"
   ]
  },
  {
   "cell_type": "code",
   "execution_count": 34,
   "metadata": {
    "collapsed": false
   },
   "outputs": [
    {
     "name": "stderr",
     "output_type": "stream",
     "text": [
      "/Users/marekduda/anaconda/lib/python2.7/site-packages/pandas/core/frame.py:2148: SettingWithCopyWarning: \n",
      "A value is trying to be set on a copy of a slice from a DataFrame.\n",
      "Try using .loc[row_indexer,col_indexer] = value instead\n",
      "\n",
      "See the the caveats in the documentation: http://pandas.pydata.org/pandas-docs/stable/indexing.html#indexing-view-versus-copy\n",
      "  self[k1] = value[k2]\n"
     ]
    }
   ],
   "source": [
    "X[objects] = X[objects].astype('float')"
   ]
  },
  {
   "cell_type": "code",
   "execution_count": 36,
   "metadata": {
    "collapsed": false,
    "scrolled": true
   },
   "outputs": [
    {
     "data": {
      "text/plain": [
       "count     71\n",
       "mean     135\n",
       "std        0\n",
       "min      135\n",
       "25%      135\n",
       "50%      135\n",
       "75%      135\n",
       "max      135\n",
       "Name: count, dtype: float64"
      ]
     },
     "execution_count": 36,
     "metadata": {},
     "output_type": "execute_result"
    }
   ],
   "source": [
    "X.describe().T['count'].describe()"
   ]
  },
  {
   "cell_type": "code",
   "execution_count": 38,
   "metadata": {
    "collapsed": true
   },
   "outputs": [],
   "source": [
    "y = df_top.y"
   ]
  },
  {
   "cell_type": "markdown",
   "metadata": {},
   "source": [
    "I have my X and y, time to make dummies from categorical features."
   ]
  },
  {
   "cell_type": "code",
   "execution_count": 86,
   "metadata": {
    "collapsed": true
   },
   "outputs": [],
   "source": [
    "with open('Columns - Sheet2 (1).csv', 'rb') as c:\n",
    "    reader = csv.reader(c)\n",
    "    categoricals = list(reader)[0]"
   ]
  },
  {
   "cell_type": "code",
   "execution_count": 87,
   "metadata": {
    "collapsed": false
   },
   "outputs": [
    {
     "data": {
      "text/plain": [
       "['PREDDEG',\n",
       " 'HIGHDEG',\n",
       " 'CONTROL',\n",
       " 'region',\n",
       " 'LOCALE',\n",
       " 'CCBASIC',\n",
       " 'CCUGPROF',\n",
       " 'CCSIZSET']"
      ]
     },
     "execution_count": 87,
     "metadata": {},
     "output_type": "execute_result"
    }
   ],
   "source": [
    "categoricals"
   ]
  },
  {
   "cell_type": "code",
   "execution_count": 100,
   "metadata": {
    "collapsed": false,
    "scrolled": true
   },
   "outputs": [],
   "source": [
    "X_categoricals = pd.get_dummies(X[categoricals], columns=categoricals)"
   ]
  },
  {
   "cell_type": "code",
   "execution_count": 102,
   "metadata": {
    "collapsed": false
   },
   "outputs": [],
   "source": [
    "X = X.drop(categoricals, 1)"
   ]
  },
  {
   "cell_type": "code",
   "execution_count": 216,
   "metadata": {
    "collapsed": false,
    "scrolled": true
   },
   "outputs": [],
   "source": [
    "X_full = pd.concat([X, X_categoricals], axis=1)"
   ]
  },
  {
   "cell_type": "markdown",
   "metadata": {},
   "source": [
    "# Decision tree"
   ]
  },
  {
   "cell_type": "markdown",
   "metadata": {
    "collapsed": true
   },
   "source": [
    "First I will make a decision tree, and try to get an idea of what features are important. I will then look into normalising the X matrix and doing a linear regression."
   ]
  },
  {
   "cell_type": "code",
   "execution_count": 217,
   "metadata": {
    "collapsed": true
   },
   "outputs": [],
   "source": [
    "from sklearn.cross_validation import train_test_split\n",
    "from sklearn.tree import DecisionTreeRegressor\n",
    "from sklearn import tree\n",
    "from sklearn.metrics import roc_auc_score"
   ]
  },
  {
   "cell_type": "code",
   "execution_count": 218,
   "metadata": {
    "collapsed": true
   },
   "outputs": [],
   "source": [
    "X1, X2, y1, y2 = train_test_split(X_full, y)"
   ]
  },
  {
   "cell_type": "code",
   "execution_count": 324,
   "metadata": {
    "collapsed": false
   },
   "outputs": [
    {
     "data": {
      "text/plain": [
       "DecisionTreeRegressor(criterion='mse', max_depth=4, max_features=None,\n",
       "           max_leaf_nodes=None, min_samples_leaf=1, min_samples_split=2,\n",
       "           min_weight_fraction_leaf=0.0, random_state=None,\n",
       "           splitter='best')"
      ]
     },
     "execution_count": 324,
     "metadata": {},
     "output_type": "execute_result"
    }
   ],
   "source": [
    "dtmodel = DecisionTreeRegressor(max_depth=4)\n",
    "dtmodel.fit(X_full, y)"
   ]
  },
  {
   "cell_type": "code",
   "execution_count": 325,
   "metadata": {
    "collapsed": false
   },
   "outputs": [
    {
     "data": {
      "text/plain": [
       "0.88997185217217001"
      ]
     },
     "execution_count": 325,
     "metadata": {},
     "output_type": "execute_result"
    }
   ],
   "source": [
    "dtmodel.score(X2, y2)"
   ]
  },
  {
   "cell_type": "code",
   "execution_count": 326,
   "metadata": {
    "collapsed": false,
    "scrolled": true
   },
   "outputs": [],
   "source": [
    "# pd.DataFrame(data=(dtmodel.feature_importances_, X_full.columns))\n",
    "\n",
    "data = np.array([X_full.columns, dtmodel.feature_importances_])\n",
    "\n",
    "Feature_Importances = pd.DataFrame(data).T"
   ]
  },
  {
   "cell_type": "code",
   "execution_count": 327,
   "metadata": {
    "collapsed": false,
    "scrolled": true
   },
   "outputs": [
    {
     "data": {
      "text/html": [
       "<div>\n",
       "<table border=\"1\" class=\"dataframe\">\n",
       "  <thead>\n",
       "    <tr style=\"text-align: right;\">\n",
       "      <th></th>\n",
       "      <th>0</th>\n",
       "      <th>1</th>\n",
       "    </tr>\n",
       "  </thead>\n",
       "  <tbody>\n",
       "    <tr>\n",
       "      <th>3</th>\n",
       "      <td>SAT_AVG</td>\n",
       "      <td>0.6053545</td>\n",
       "    </tr>\n",
       "    <tr>\n",
       "      <th>2</th>\n",
       "      <td>SATMTMID</td>\n",
       "      <td>0.110257</td>\n",
       "    </tr>\n",
       "    <tr>\n",
       "      <th>38</th>\n",
       "      <td>PCIP50</td>\n",
       "      <td>0.09711257</td>\n",
       "    </tr>\n",
       "    <tr>\n",
       "      <th>18</th>\n",
       "      <td>PCIP23</td>\n",
       "      <td>0.05206899</td>\n",
       "    </tr>\n",
       "    <tr>\n",
       "      <th>59</th>\n",
       "      <td>first_gen</td>\n",
       "      <td>0.03177506</td>\n",
       "    </tr>\n",
       "    <tr>\n",
       "      <th>60</th>\n",
       "      <td>faminc</td>\n",
       "      <td>0.02339212</td>\n",
       "    </tr>\n",
       "    <tr>\n",
       "      <th>55</th>\n",
       "      <td>female</td>\n",
       "      <td>0.01990665</td>\n",
       "    </tr>\n",
       "    <tr>\n",
       "      <th>25</th>\n",
       "      <td>PCIP31</td>\n",
       "      <td>0.01712664</td>\n",
       "    </tr>\n",
       "    <tr>\n",
       "      <th>45</th>\n",
       "      <td>UGDS_ASIAN</td>\n",
       "      <td>0.01111215</td>\n",
       "    </tr>\n",
       "    <tr>\n",
       "      <th>12</th>\n",
       "      <td>PCIP13</td>\n",
       "      <td>0.009977157</td>\n",
       "    </tr>\n",
       "  </tbody>\n",
       "</table>\n",
       "</div>"
      ],
      "text/plain": [
       "             0            1\n",
       "3      SAT_AVG    0.6053545\n",
       "2     SATMTMID     0.110257\n",
       "38      PCIP50   0.09711257\n",
       "18      PCIP23   0.05206899\n",
       "59   first_gen   0.03177506\n",
       "60      faminc   0.02339212\n",
       "55      female   0.01990665\n",
       "25      PCIP31   0.01712664\n",
       "45  UGDS_ASIAN   0.01111215\n",
       "12      PCIP13  0.009977157"
      ]
     },
     "execution_count": 327,
     "metadata": {},
     "output_type": "execute_result"
    }
   ],
   "source": [
    "Feature_Importances.sort(1, ascending=False).head(10)"
   ]
  },
  {
   "cell_type": "code",
   "execution_count": 319,
   "metadata": {
    "collapsed": false
   },
   "outputs": [
    {
     "data": {
      "text/plain": [
       "True"
      ]
     },
     "execution_count": 319,
     "metadata": {},
     "output_type": "execute_result"
    }
   ],
   "source": [
    "import pydot\n",
    "from sklearn.externals.six import StringIO  \n",
    "dot_data = StringIO()\n",
    "tree.export_graphviz(dtmodel, out_file=dot_data, feature_names=X_full.columns, max_depth=3) \n",
    "graph = pydot.graph_from_dot_data(dot_data.getvalue()) \n",
    "graph.write_pdf(\"dtmodel.pdf\") "
   ]
  },
  {
   "cell_type": "markdown",
   "metadata": {},
   "source": [
    "# Linear model"
   ]
  },
  {
   "cell_type": "code",
   "execution_count": 224,
   "metadata": {
    "collapsed": true
   },
   "outputs": [],
   "source": [
    "from sklearn.linear_model import LinearRegression"
   ]
  },
  {
   "cell_type": "code",
   "execution_count": 225,
   "metadata": {
    "collapsed": false
   },
   "outputs": [],
   "source": [
    "lrmodel = LinearRegression(normalize=True)"
   ]
  },
  {
   "cell_type": "code",
   "execution_count": 226,
   "metadata": {
    "collapsed": false
   },
   "outputs": [
    {
     "data": {
      "text/plain": [
       "LinearRegression(copy_X=True, fit_intercept=True, n_jobs=1, normalize=True)"
      ]
     },
     "execution_count": 226,
     "metadata": {},
     "output_type": "execute_result"
    }
   ],
   "source": [
    "lrmodel.fit(X_normed, y)"
   ]
  },
  {
   "cell_type": "code",
   "execution_count": 227,
   "metadata": {
    "collapsed": false
   },
   "outputs": [
    {
     "data": {
      "text/plain": [
       "0.96766288310016846"
      ]
     },
     "execution_count": 227,
     "metadata": {},
     "output_type": "execute_result"
    }
   ],
   "source": [
    "lrmodel.score(X_normed, y)"
   ]
  },
  {
   "cell_type": "code",
   "execution_count": 228,
   "metadata": {
    "collapsed": true
   },
   "outputs": [],
   "source": [
    "data = np.array([X_full.columns, lrmodel.coef_])\n",
    "\n",
    "Coefficients = pd.DataFrame(data).T"
   ]
  },
  {
   "cell_type": "code",
   "execution_count": 229,
   "metadata": {
    "collapsed": false,
    "scrolled": true
   },
   "outputs": [
    {
     "data": {
      "text/html": [
       "<div>\n",
       "<table border=\"1\" class=\"dataframe\">\n",
       "  <thead>\n",
       "    <tr style=\"text-align: right;\">\n",
       "      <th></th>\n",
       "      <th>0</th>\n",
       "      <th>1</th>\n",
       "    </tr>\n",
       "  </thead>\n",
       "  <tbody>\n",
       "    <tr>\n",
       "      <th>13</th>\n",
       "      <td>PCIP14</td>\n",
       "      <td>1.146999e+07</td>\n",
       "    </tr>\n",
       "    <tr>\n",
       "      <th>40</th>\n",
       "      <td>PCIP52</td>\n",
       "      <td>9096572</td>\n",
       "    </tr>\n",
       "    <tr>\n",
       "      <th>33</th>\n",
       "      <td>PCIP45</td>\n",
       "      <td>6596136</td>\n",
       "    </tr>\n",
       "    <tr>\n",
       "      <th>38</th>\n",
       "      <td>PCIP50</td>\n",
       "      <td>3602889</td>\n",
       "    </tr>\n",
       "    <tr>\n",
       "      <th>39</th>\n",
       "      <td>PCIP51</td>\n",
       "      <td>3596130</td>\n",
       "    </tr>\n",
       "    <tr>\n",
       "      <th>8</th>\n",
       "      <td>PCIP09</td>\n",
       "      <td>3438149</td>\n",
       "    </tr>\n",
       "    <tr>\n",
       "      <th>21</th>\n",
       "      <td>PCIP26</td>\n",
       "      <td>2737090</td>\n",
       "    </tr>\n",
       "    <tr>\n",
       "      <th>12</th>\n",
       "      <td>PCIP13</td>\n",
       "      <td>2619526</td>\n",
       "    </tr>\n",
       "    <tr>\n",
       "      <th>15</th>\n",
       "      <td>PCIP16</td>\n",
       "      <td>2434351</td>\n",
       "    </tr>\n",
       "    <tr>\n",
       "      <th>10</th>\n",
       "      <td>PCIP11</td>\n",
       "      <td>2239390</td>\n",
       "    </tr>\n",
       "  </tbody>\n",
       "</table>\n",
       "</div>"
      ],
      "text/plain": [
       "         0             1\n",
       "13  PCIP14  1.146999e+07\n",
       "40  PCIP52       9096572\n",
       "33  PCIP45       6596136\n",
       "38  PCIP50       3602889\n",
       "39  PCIP51       3596130\n",
       "8   PCIP09       3438149\n",
       "21  PCIP26       2737090\n",
       "12  PCIP13       2619526\n",
       "15  PCIP16       2434351\n",
       "10  PCIP11       2239390"
      ]
     },
     "execution_count": 229,
     "metadata": {},
     "output_type": "execute_result"
    }
   ],
   "source": [
    "Coefficients.sort(1, ascending=False).head(10)"
   ]
  },
  {
   "cell_type": "code",
   "execution_count": 230,
   "metadata": {
    "collapsed": false
   },
   "outputs": [
    {
     "data": {
      "text/html": [
       "<div>\n",
       "<table border=\"1\" class=\"dataframe\">\n",
       "  <thead>\n",
       "    <tr style=\"text-align: right;\">\n",
       "      <th></th>\n",
       "      <th>0</th>\n",
       "      <th>1</th>\n",
       "    </tr>\n",
       "  </thead>\n",
       "  <tbody>\n",
       "    <tr>\n",
       "      <th>94</th>\n",
       "      <td>CCUGPROF_8.0</td>\n",
       "      <td>-53807.27</td>\n",
       "    </tr>\n",
       "    <tr>\n",
       "      <th>59</th>\n",
       "      <td>first_gen</td>\n",
       "      <td>-67382.24</td>\n",
       "    </tr>\n",
       "    <tr>\n",
       "      <th>51</th>\n",
       "      <td>loan_ever</td>\n",
       "      <td>-73927.58</td>\n",
       "    </tr>\n",
       "    <tr>\n",
       "      <th>46</th>\n",
       "      <td>INEXPFTE</td>\n",
       "      <td>-77302.82</td>\n",
       "    </tr>\n",
       "    <tr>\n",
       "      <th>56</th>\n",
       "      <td>married</td>\n",
       "      <td>-79364.1</td>\n",
       "    </tr>\n",
       "    <tr>\n",
       "      <th>1</th>\n",
       "      <td>SATVRMID</td>\n",
       "      <td>-86538.85</td>\n",
       "    </tr>\n",
       "    <tr>\n",
       "      <th>55</th>\n",
       "      <td>female</td>\n",
       "      <td>-86827.72</td>\n",
       "    </tr>\n",
       "    <tr>\n",
       "      <th>61</th>\n",
       "      <td>md_faminc</td>\n",
       "      <td>-106738.1</td>\n",
       "    </tr>\n",
       "    <tr>\n",
       "      <th>53</th>\n",
       "      <td>age_entry</td>\n",
       "      <td>-120120.8</td>\n",
       "    </tr>\n",
       "    <tr>\n",
       "      <th>57</th>\n",
       "      <td>dependent</td>\n",
       "      <td>-147397.1</td>\n",
       "    </tr>\n",
       "  </tbody>\n",
       "</table>\n",
       "</div>"
      ],
      "text/plain": [
       "               0         1\n",
       "94  CCUGPROF_8.0 -53807.27\n",
       "59     first_gen -67382.24\n",
       "51     loan_ever -73927.58\n",
       "46      INEXPFTE -77302.82\n",
       "56       married  -79364.1\n",
       "1       SATVRMID -86538.85\n",
       "55        female -86827.72\n",
       "61     md_faminc -106738.1\n",
       "53     age_entry -120120.8\n",
       "57     dependent -147397.1"
      ]
     },
     "execution_count": 230,
     "metadata": {},
     "output_type": "execute_result"
    }
   ],
   "source": [
    "Coefficients.sort(1, ascending=False).tail(10)"
   ]
  },
  {
   "cell_type": "code",
   "execution_count": 231,
   "metadata": {
    "collapsed": true
   },
   "outputs": [],
   "source": [
    "from sklearn.preprocessing import StandardScaler"
   ]
  },
  {
   "cell_type": "code",
   "execution_count": 232,
   "metadata": {
    "collapsed": true
   },
   "outputs": [],
   "source": [
    "scaler = StandardScaler()"
   ]
  },
  {
   "cell_type": "code",
   "execution_count": 233,
   "metadata": {
    "collapsed": false
   },
   "outputs": [],
   "source": [
    "X_normed = scaler.fit_transform(X_full)"
   ]
  },
  {
   "cell_type": "code",
   "execution_count": 234,
   "metadata": {
    "collapsed": false
   },
   "outputs": [
    {
     "data": {
      "text/plain": [
       "array([[ 1.84711847, -1.45722665, -1.43700475, ...,  3.74165739,\n",
       "        -0.45316348, -0.5802014 ],\n",
       "       [ 1.73813161, -0.74334423, -1.43700475, ..., -0.26726124,\n",
       "        -0.45316348, -0.5802014 ],\n",
       "       [-1.50086491,  2.41813505,  2.46674147, ..., -0.26726124,\n",
       "        -0.45316348, -0.5802014 ],\n",
       "       ..., \n",
       "       [ 1.15980563, -1.04929384,  0.51486836, ..., -0.26726124,\n",
       "         2.20670914, -0.5802014 ],\n",
       "       [-1.726259  ,  1.80623583,  1.64490016, ..., -0.26726124,\n",
       "        -0.45316348,  1.72353945],\n",
       "       [ 0.81197525, -1.35524345, -0.82062377, ..., -0.26726124,\n",
       "         2.20670914, -0.5802014 ]])"
      ]
     },
     "execution_count": 234,
     "metadata": {},
     "output_type": "execute_result"
    }
   ],
   "source": [
    "X_normed"
   ]
  },
  {
   "cell_type": "code",
   "execution_count": null,
   "metadata": {
    "collapsed": true
   },
   "outputs": [],
   "source": []
  },
  {
   "cell_type": "code",
   "execution_count": 235,
   "metadata": {
    "collapsed": true
   },
   "outputs": [],
   "source": [
    "import statsmodels.api as sm"
   ]
  },
  {
   "cell_type": "code",
   "execution_count": 236,
   "metadata": {
    "collapsed": true
   },
   "outputs": [],
   "source": [
    "X_full = sm.add_constant(X_full)"
   ]
  },
  {
   "cell_type": "code",
   "execution_count": 237,
   "metadata": {
    "collapsed": false
   },
   "outputs": [
    {
     "name": "stdout",
     "output_type": "stream",
     "text": [
      "                            OLS Regression Results                            \n",
      "==============================================================================\n",
      "Dep. Variable:                      y   R-squared:                       0.968\n",
      "Model:                            OLS   Adj. R-squared:                  0.883\n",
      "Method:                 Least Squares   F-statistic:                     11.41\n",
      "Date:                Fri, 25 Sep 2015   Prob (F-statistic):           6.74e-13\n",
      "Time:                        15:18:00   Log-Likelihood:                -1666.9\n",
      "No. Observations:                 135   AIC:                             3530.\n",
      "Df Residuals:                      37   BIC:                             3815.\n",
      "Df Model:                          97                                         \n",
      "Covariance Type:            nonrobust                                         \n",
      "=================================================================================\n",
      "                    coef    std err          t      P>|t|      [0.025      0.975]\n",
      "---------------------------------------------------------------------------------\n",
      "ADM_RATE        -1.2e+05    1.8e+05     -0.666      0.510   -4.85e+05    2.45e+05\n",
      "SATVRMID      -1765.1017   2069.388     -0.853      0.399   -5958.080    2427.876\n",
      "SATMTMID       -379.6800   1503.543     -0.253      0.802   -3426.148    2666.788\n",
      "SAT_AVG        1637.2798   1558.007      1.051      0.300   -1519.542    4794.102\n",
      "PCIP01         6.892e+07   1.24e+08      0.557      0.581   -1.82e+08    3.19e+08\n",
      "PCIP03          6.71e+07   1.24e+08      0.542      0.591   -1.84e+08    3.18e+08\n",
      "PCIP04         6.788e+07   1.24e+08      0.547      0.588   -1.84e+08    3.19e+08\n",
      "PCIP05         6.743e+07   1.24e+08      0.544      0.589   -1.84e+08    3.18e+08\n",
      "PCIP09         6.785e+07   1.24e+08      0.548      0.587   -1.83e+08    3.19e+08\n",
      "PCIP10          6.73e+07   1.24e+08      0.542      0.591   -1.84e+08    3.19e+08\n",
      "PCIP11         6.927e+07   1.24e+08      0.559      0.580   -1.82e+08     3.2e+08\n",
      "PCIP12         1.631e+07   1.25e+08      0.131      0.897   -2.36e+08    2.69e+08\n",
      "PCIP13         6.932e+07   1.24e+08      0.559      0.579   -1.82e+08    3.21e+08\n",
      "PCIP14          6.88e+07   1.24e+08      0.555      0.582   -1.82e+08     3.2e+08\n",
      "PCIP15         6.719e+07   1.24e+08      0.541      0.592   -1.85e+08    3.19e+08\n",
      "PCIP16         6.862e+07   1.24e+08      0.553      0.584   -1.83e+08     3.2e+08\n",
      "PCIP19         6.767e+07   1.24e+08      0.544      0.589   -1.84e+08     3.2e+08\n",
      "PCIP22         6.795e+07   1.25e+08      0.544      0.590   -1.85e+08    3.21e+08\n",
      "PCIP23         7.004e+07   1.24e+08      0.565      0.575   -1.81e+08    3.21e+08\n",
      "PCIP24         6.811e+07   1.24e+08      0.549      0.586   -1.83e+08    3.19e+08\n",
      "PCIP25           -0.0007      0.001     -0.508      0.614      -0.004       0.002\n",
      "PCIP26         6.795e+07   1.24e+08      0.548      0.587   -1.83e+08    3.19e+08\n",
      "PCIP27         6.834e+07   1.24e+08      0.551      0.585   -1.83e+08     3.2e+08\n",
      "PCIP29           -0.0011      0.002     -0.467      0.643      -0.006       0.004\n",
      "PCIP30         6.959e+07   1.24e+08      0.562      0.578   -1.82e+08    3.21e+08\n",
      "PCIP31         6.814e+07   1.24e+08      0.549      0.586   -1.83e+08    3.19e+08\n",
      "PCIP38         6.653e+07   1.24e+08      0.536      0.595   -1.85e+08    3.18e+08\n",
      "PCIP39         6.552e+07   1.24e+08      0.527      0.601   -1.86e+08    3.17e+08\n",
      "PCIP40         6.813e+07   1.24e+08      0.550      0.586   -1.83e+08    3.19e+08\n",
      "PCIP41          -3.2e+07   2.78e+08     -0.115      0.909   -5.96e+08    5.32e+08\n",
      "PCIP42         6.823e+07   1.24e+08      0.550      0.586   -1.83e+08     3.2e+08\n",
      "PCIP43         6.677e+07   1.24e+08      0.540      0.592   -1.84e+08    3.17e+08\n",
      "PCIP44         6.992e+07   1.24e+08      0.564      0.576   -1.81e+08    3.21e+08\n",
      "PCIP45         6.891e+07   1.24e+08      0.556      0.582   -1.82e+08     3.2e+08\n",
      "PCIP46         6.819e+07   1.29e+08      0.527      0.602   -1.94e+08    3.31e+08\n",
      "PCIP47         8.539e+07   3.54e+08      0.241      0.811   -6.32e+08    8.02e+08\n",
      "PCIP48         1.853e+08   2.61e+08      0.708      0.483   -3.45e+08    7.15e+08\n",
      "PCIP49         6.558e+07   1.29e+08      0.507      0.615   -1.96e+08    3.27e+08\n",
      "PCIP50         6.779e+07   1.24e+08      0.546      0.588   -1.84e+08    3.19e+08\n",
      "PCIP51         6.898e+07   1.24e+08      0.556      0.581   -1.82e+08     3.2e+08\n",
      "PCIP52         6.875e+07   1.24e+08      0.555      0.583   -1.82e+08     3.2e+08\n",
      "PCIP54         7.089e+07   1.24e+08      0.572      0.571    -1.8e+08    3.22e+08\n",
      "UGDS_WHITE     1.309e+05   4.31e+05      0.304      0.763   -7.43e+05       1e+06\n",
      "UGDS_BLACK    -1.324e+06   1.12e+06     -1.179      0.246    -3.6e+06    9.52e+05\n",
      "UGDS_HISP      5.697e+05   6.36e+05      0.896      0.376   -7.19e+05    1.86e+06\n",
      "UGDS_ASIAN     9.952e+05   6.51e+05      1.529      0.135   -3.24e+05    2.31e+06\n",
      "INEXPFTE         -4.1332      1.402     -2.948      0.006      -6.974      -1.292\n",
      "AVGFACSAL        28.5157     14.681      1.942      0.060      -1.230      58.261\n",
      "PFTFAC         1.284e+05    1.3e+05      0.987      0.330   -1.35e+05    3.92e+05\n",
      "PCTPELL        7.355e+05   6.39e+05      1.151      0.257   -5.59e+05    2.03e+06\n",
      "PCTFLOAN      -1.425e+05    3.5e+05     -0.407      0.687   -8.53e+05    5.68e+05\n",
      "loan_ever     -9.481e+05   4.92e+05     -1.927      0.062   -1.95e+06    4.89e+04\n",
      "pell_ever      4.791e+04   6.28e+05      0.076      0.940   -1.22e+06    1.32e+06\n",
      "age_entry     -1.075e+05   1.34e+05     -0.802      0.428   -3.79e+05    1.64e+05\n",
      "agege24         2.03e+06   2.02e+06      1.004      0.322   -2.07e+06    6.13e+06\n",
      "female        -7.857e+05    3.2e+05     -2.455      0.019   -1.43e+06   -1.37e+05\n",
      "married       -1.748e+06   1.51e+06     -1.160      0.253    -4.8e+06     1.3e+06\n",
      "dependent     -1.193e+06   1.16e+06     -1.031      0.309   -3.54e+06    1.15e+06\n",
      "veteran        1.869e+06   2.99e+06      0.625      0.536   -4.19e+06    7.93e+06\n",
      "first_gen     -9.104e+05   6.63e+05     -1.373      0.178   -2.25e+06    4.34e+05\n",
      "faminc            0.9486      6.284      0.151      0.881     -11.784      13.681\n",
      "md_faminc        -5.6394      5.407     -1.043      0.304     -16.596       5.317\n",
      "lnfaminc       8.818e+05   5.37e+05      1.642      0.109   -2.06e+05    1.97e+06\n",
      "PREDDEG_3      -2.35e+07   3.96e+07     -0.593      0.557   -1.04e+08    5.68e+07\n",
      "HIGHDEG_4      -2.35e+07   3.96e+07     -0.593      0.557   -1.04e+08    5.68e+07\n",
      "CONTROL_1      -1.18e+07   1.98e+07     -0.596      0.555    -5.2e+07    2.83e+07\n",
      "CONTROL_2      -1.17e+07   1.98e+07     -0.591      0.558   -5.18e+07    2.84e+07\n",
      "region_1      -2.953e+06   4.94e+06     -0.598      0.554    -1.3e+07    7.06e+06\n",
      "region_2      -2.906e+06   4.96e+06     -0.586      0.561   -1.29e+07    7.13e+06\n",
      "region_3      -2.973e+06   4.95e+06     -0.600      0.552    -1.3e+07    7.06e+06\n",
      "region_4      -2.843e+06   4.95e+06     -0.575      0.569   -1.29e+07    7.18e+06\n",
      "region_5      -2.933e+06   4.96e+06     -0.592      0.558    -1.3e+07    7.11e+06\n",
      "region_6      -2.944e+06   4.96e+06     -0.594      0.556    -1.3e+07     7.1e+06\n",
      "region_7      -2.931e+06   4.95e+06     -0.592      0.557    -1.3e+07    7.09e+06\n",
      "region_8      -3.021e+06   4.96e+06     -0.609      0.546   -1.31e+07    7.03e+06\n",
      "LOCALE_11.0   -2.394e+06   3.97e+06     -0.604      0.550   -1.04e+07    5.64e+06\n",
      "LOCALE_12.0   -2.304e+06   3.97e+06     -0.580      0.566   -1.04e+07    5.75e+06\n",
      "LOCALE_13.0   -2.348e+06   3.96e+06     -0.592      0.557   -1.04e+07    5.68e+06\n",
      "LOCALE_21.0   -2.331e+06   3.97e+06     -0.587      0.561   -1.04e+07    5.72e+06\n",
      "LOCALE_22.0   -2.312e+06   3.95e+06     -0.585      0.562   -1.03e+07     5.7e+06\n",
      "LOCALE_23.0   -2.366e+06   3.96e+06     -0.597      0.554   -1.04e+07    5.66e+06\n",
      "LOCALE_31.0   -2.222e+06   3.99e+06     -0.557      0.581   -1.03e+07    5.86e+06\n",
      "LOCALE_32.0   -2.247e+06   3.96e+06     -0.568      0.573   -1.03e+07    5.77e+06\n",
      "LOCALE_33.0   -2.248e+06   3.96e+06     -0.568      0.574   -1.03e+07    5.78e+06\n",
      "LOCALE_42.0   -2.732e+06   3.93e+06     -0.695      0.491   -1.07e+07    5.23e+06\n",
      "CCBASIC_15.0  -2.952e+06   4.96e+06     -0.595      0.556    -1.3e+07     7.1e+06\n",
      "CCBASIC_16.0  -3.023e+06   4.96e+06     -0.610      0.546   -1.31e+07    7.02e+06\n",
      "CCBASIC_17.0  -2.887e+06   4.92e+06     -0.586      0.561   -1.29e+07    7.09e+06\n",
      "CCBASIC_18.0  -2.889e+06   4.94e+06     -0.585      0.562   -1.29e+07    7.12e+06\n",
      "CCBASIC_19.0  -2.785e+06   4.94e+06     -0.564      0.576   -1.28e+07    7.22e+06\n",
      "CCBASIC_20.0  -3.082e+06   4.96e+06     -0.621      0.538   -1.31e+07    6.97e+06\n",
      "CCBASIC_21.0  -2.933e+06   4.94e+06     -0.594      0.556   -1.29e+07    7.08e+06\n",
      "CCBASIC_22.0  -2.954e+06      5e+06     -0.591      0.558   -1.31e+07    7.18e+06\n",
      "CCUGPROF_7.0  -4.807e+06   7.96e+06     -0.604      0.549   -2.09e+07    1.13e+07\n",
      "CCUGPROF_8.0  -5.037e+06   7.93e+06     -0.635      0.529   -2.11e+07     1.1e+07\n",
      "CCUGPROF_9.0  -4.519e+06   7.92e+06     -0.571      0.572   -2.06e+07    1.15e+07\n",
      "CCUGPROF_12.0 -4.538e+06   7.91e+06     -0.573      0.570   -2.06e+07    1.15e+07\n",
      "CCUGPROF_13.0 -4.604e+06   7.92e+06     -0.582      0.564   -2.06e+07    1.14e+07\n",
      "CCSIZSET_6.0  -2.439e+06    4.4e+06     -0.554      0.583   -1.14e+07    6.48e+06\n",
      "CCSIZSET_8.0  -2.364e+06   4.43e+06     -0.533      0.597   -1.13e+07    6.62e+06\n",
      "CCSIZSET_10.0 -2.549e+06   4.42e+06     -0.577      0.567   -1.15e+07     6.4e+06\n",
      "CCSIZSET_11.0 -2.791e+06   4.41e+06     -0.633      0.531   -1.17e+07    6.14e+06\n",
      "CCSIZSET_13.0 -2.703e+06    4.4e+06     -0.614      0.543   -1.16e+07    6.22e+06\n",
      "CCSIZSET_14.0 -2.731e+06   4.41e+06     -0.619      0.539   -1.17e+07     6.2e+06\n",
      "CCSIZSET_15.0   -2.6e+06   4.38e+06     -0.594      0.556   -1.15e+07    6.27e+06\n",
      "CCSIZSET_16.0 -2.628e+06   4.38e+06     -0.599      0.553   -1.15e+07    6.25e+06\n",
      "CCSIZSET_17.0 -2.698e+06    4.4e+06     -0.613      0.544   -1.16e+07    6.22e+06\n",
      "==============================================================================\n",
      "Omnibus:                        0.551   Durbin-Watson:                   2.052\n",
      "Prob(Omnibus):                  0.759   Jarque-Bera (JB):                0.691\n",
      "Skew:                          -0.122   Prob(JB):                        0.708\n",
      "Kurtosis:                       2.749   Cond. No.                     1.02e+16\n",
      "==============================================================================\n",
      "\n",
      "Warnings:\n",
      "[1] Standard Errors assume that the covariance matrix of the errors is correctly specified.\n",
      "[2] The smallest eigenvalue is 1.93e-20. This might indicate that there are\n",
      "strong multicollinearity problems or that the design matrix is singular.\n"
     ]
    }
   ],
   "source": [
    "model = sm.OLS(y, X_full)\n",
    "results = model.fit()\n",
    "print(results.summary())"
   ]
  },
  {
   "cell_type": "markdown",
   "metadata": {
    "collapsed": true
   },
   "source": [
    "# Stepwise feature selection"
   ]
  },
  {
   "cell_type": "markdown",
   "metadata": {},
   "source": [
    "Since I am having trouble figuring out which features matter, I will try a stepwise approach."
   ]
  },
  {
   "cell_type": "code",
   "execution_count": 250,
   "metadata": {
    "collapsed": false,
    "scrolled": true
   },
   "outputs": [
    {
     "data": {
      "text/plain": [
       "array(['ADM_RATE', 'SATVRMID', 'SATMTMID', 'SAT_AVG', 'PCIP01', 'PCIP03',\n",
       "       'PCIP04', 'PCIP05', 'PCIP09', 'PCIP10', 'PCIP11', 'PCIP12',\n",
       "       'PCIP13', 'PCIP14', 'PCIP15', 'PCIP16', 'PCIP19', 'PCIP22',\n",
       "       'PCIP23', 'PCIP24', 'PCIP25', 'PCIP26', 'PCIP27', 'PCIP29',\n",
       "       'PCIP30', 'PCIP31', 'PCIP38', 'PCIP39', 'PCIP40', 'PCIP41',\n",
       "       'PCIP42', 'PCIP43', 'PCIP44', 'PCIP45', 'PCIP46', 'PCIP47',\n",
       "       'PCIP48', 'PCIP49', 'PCIP50', 'PCIP51', 'PCIP52', 'PCIP54',\n",
       "       'UGDS_WHITE', 'UGDS_BLACK', 'UGDS_HISP', 'UGDS_ASIAN', 'INEXPFTE',\n",
       "       'AVGFACSAL', 'PFTFAC', 'PCTPELL', 'PCTFLOAN', 'loan_ever',\n",
       "       'pell_ever', 'age_entry', 'agege24', 'female', 'married',\n",
       "       'dependent', 'veteran', 'first_gen', 'faminc', 'md_faminc',\n",
       "       'lnfaminc', 'PREDDEG_3', 'HIGHDEG_4', 'CONTROL_1', 'CONTROL_2',\n",
       "       'region_1', 'region_2', 'region_3', 'region_4', 'region_5',\n",
       "       'region_6', 'region_7', 'region_8', 'LOCALE_11.0', 'LOCALE_12.0',\n",
       "       'LOCALE_13.0', 'LOCALE_21.0', 'LOCALE_22.0', 'LOCALE_23.0',\n",
       "       'LOCALE_31.0', 'LOCALE_32.0', 'LOCALE_33.0', 'LOCALE_42.0',\n",
       "       'CCBASIC_15.0', 'CCBASIC_16.0', 'CCBASIC_17.0', 'CCBASIC_18.0',\n",
       "       'CCBASIC_19.0', 'CCBASIC_20.0', 'CCBASIC_21.0', 'CCBASIC_22.0',\n",
       "       'CCUGPROF_7.0', 'CCUGPROF_8.0', 'CCUGPROF_9.0', 'CCUGPROF_12.0',\n",
       "       'CCUGPROF_13.0', 'CCSIZSET_6.0', 'CCSIZSET_8.0', 'CCSIZSET_10.0',\n",
       "       'CCSIZSET_11.0', 'CCSIZSET_13.0', 'CCSIZSET_14.0', 'CCSIZSET_15.0',\n",
       "       'CCSIZSET_16.0', 'CCSIZSET_17.0'], dtype=object)"
      ]
     },
     "execution_count": 250,
     "metadata": {},
     "output_type": "execute_result"
    }
   ],
   "source": [
    "X_full.columns.values"
   ]
  },
  {
   "cell_type": "code",
   "execution_count": 277,
   "metadata": {
    "collapsed": false
   },
   "outputs": [
    {
     "ename": "SyntaxError",
     "evalue": "invalid syntax (<ipython-input-277-1027d7235c59>, line 1)",
     "output_type": "error",
     "traceback": [
      "\u001b[0;36m  File \u001b[0;32m\"<ipython-input-277-1027d7235c59>\"\u001b[0;36m, line \u001b[0;32m1\u001b[0m\n\u001b[0;31m    steps = [4:42, '43:46', '49:52', '53:54', '60:62', '65:66', '67:74', '75:84', '85:91', '92:97', '98:106']\u001b[0m\n\u001b[0m              ^\u001b[0m\n\u001b[0;31mSyntaxError\u001b[0m\u001b[0;31m:\u001b[0m invalid syntax\n"
     ]
    }
   ],
   "source": [
    "steps = [4:43, 43:47, 49:53, 53:55, 60:63, 65:67, 67:75, 75:85, 85:92, 92:98, 98:]\n",
    "non_grouped_features = [0,1,2,3,47,48,55,56,57,58,59]"
   ]
  },
  {
   "cell_type": "code",
   "execution_count": 296,
   "metadata": {
    "collapsed": false,
    "scrolled": true
   },
   "outputs": [
    {
     "name": "stdout",
     "output_type": "stream",
     "text": [
      "                            OLS Regression Results                            \n",
      "==============================================================================\n",
      "Dep. Variable:                      y   R-squared:                       0.236\n",
      "Model:                            OLS   Adj. R-squared:                  0.188\n",
      "Method:                 Least Squares   F-statistic:                     4.872\n",
      "Date:                Fri, 25 Sep 2015   Prob (F-statistic):           2.98e-05\n",
      "Time:                        16:06:37   Log-Likelihood:                -1880.4\n",
      "No. Observations:                 135   AIC:                             3779.\n",
      "Df Residuals:                     126   BIC:                             3805.\n",
      "Df Model:                           8                                         \n",
      "Covariance Type:            nonrobust                                         \n",
      "=================================================================================\n",
      "                    coef    std err          t      P>|t|      [0.025      0.975]\n",
      "---------------------------------------------------------------------------------\n",
      "CCSIZSET_6.0   5.951e+05    2.8e+05      2.122      0.036    4.01e+04    1.15e+06\n",
      "CCSIZSET_8.0    2.38e+05    2.8e+05      0.849      0.398   -3.17e+05    7.93e+05\n",
      "CCSIZSET_10.0  4.947e+05    2.8e+05      1.764      0.080   -6.02e+04    1.05e+06\n",
      "CCSIZSET_11.0  3.811e+05   5.72e+04      6.657      0.000    2.68e+05    4.94e+05\n",
      "CCSIZSET_13.0  4.725e+05    8.1e+04      5.836      0.000    3.12e+05    6.33e+05\n",
      "CCSIZSET_14.0  5.945e+05   5.12e+04     11.612      0.000    4.93e+05    6.96e+05\n",
      "CCSIZSET_15.0  3.824e+05   9.35e+04      4.091      0.000    1.97e+05    5.67e+05\n",
      "CCSIZSET_16.0  4.716e+05   5.85e+04      8.065      0.000    3.56e+05    5.87e+05\n",
      "CCSIZSET_17.0  7.771e+05   4.81e+04     16.158      0.000    6.82e+05    8.72e+05\n",
      "==============================================================================\n",
      "Omnibus:                       19.152   Durbin-Watson:                   2.242\n",
      "Prob(Omnibus):                  0.000   Jarque-Bera (JB):               23.275\n",
      "Skew:                           0.859   Prob(JB):                     8.83e-06\n",
      "Kurtosis:                       4.090   Cond. No.                         5.83\n",
      "==============================================================================\n",
      "\n",
      "Warnings:\n",
      "[1] Standard Errors assume that the covariance matrix of the errors is correctly specified.\n"
     ]
    }
   ],
   "source": [
    "model = sm.OLS(y, X_full.iloc[:, 98:])\n",
    "results = model.fit()\n",
    "print(results.summary())"
   ]
  },
  {
   "cell_type": "code",
   "execution_count": 295,
   "metadata": {
    "collapsed": false,
    "scrolled": true
   },
   "outputs": [
    {
     "name": "stdout",
     "output_type": "stream",
     "text": [
      "                            OLS Regression Results                            \n",
      "==============================================================================\n",
      "Dep. Variable:                      y   R-squared:                       0.049\n",
      "Model:                            OLS   Adj. R-squared:                  0.019\n",
      "Method:                 Least Squares   F-statistic:                     1.662\n",
      "Date:                Fri, 25 Sep 2015   Prob (F-statistic):              0.163\n",
      "Time:                        16:05:15   Log-Likelihood:                -1895.2\n",
      "No. Observations:                 135   AIC:                             3800.\n",
      "Df Residuals:                     130   BIC:                             3815.\n",
      "Df Model:                           4                                         \n",
      "Covariance Type:            nonrobust                                         \n",
      "=================================================================================\n",
      "                    coef    std err          t      P>|t|      [0.025      0.975]\n",
      "---------------------------------------------------------------------------------\n",
      "CCUGPROF_7.0   4.828e+05   3.08e+05      1.567      0.120   -1.27e+05    1.09e+06\n",
      "CCUGPROF_8.0   4.292e+05   2.18e+05      1.970      0.051   -1848.387     8.6e+05\n",
      "CCUGPROF_9.0   3.605e+05   3.08e+05      1.170      0.244   -2.49e+05     9.7e+05\n",
      "CCUGPROF_12.0  5.904e+05   3.02e+04     19.539      0.000    5.31e+05     6.5e+05\n",
      "CCUGPROF_13.0  4.292e+05   5.93e+04      7.239      0.000    3.12e+05    5.47e+05\n",
      "==============================================================================\n",
      "Omnibus:                       28.852   Durbin-Watson:                   2.214\n",
      "Prob(Omnibus):                  0.000   Jarque-Bera (JB):               45.333\n",
      "Skew:                           1.047   Prob(JB):                     1.43e-10\n",
      "Kurtosis:                       4.917   Cond. No.                         10.2\n",
      "==============================================================================\n",
      "\n",
      "Warnings:\n",
      "[1] Standard Errors assume that the covariance matrix of the errors is correctly specified.\n"
     ]
    }
   ],
   "source": [
    "model = sm.OLS(y, X_full.iloc[:, 93:98])\n",
    "results = model.fit()\n",
    "print(results.summary())"
   ]
  },
  {
   "cell_type": "code",
   "execution_count": 294,
   "metadata": {
    "collapsed": false,
    "scrolled": true
   },
   "outputs": [
    {
     "name": "stdout",
     "output_type": "stream",
     "text": [
      "                            OLS Regression Results                            \n",
      "==============================================================================\n",
      "Dep. Variable:                      y   R-squared:                       0.208\n",
      "Model:                            OLS   Adj. R-squared:                  0.165\n",
      "Method:                 Least Squares   F-statistic:                     4.772\n",
      "Date:                Fri, 25 Sep 2015   Prob (F-statistic):           8.63e-05\n",
      "Time:                        16:04:52   Log-Likelihood:                -1882.8\n",
      "No. Observations:                 135   AIC:                             3782.\n",
      "Df Residuals:                     127   BIC:                             3805.\n",
      "Df Model:                           7                                         \n",
      "Covariance Type:            nonrobust                                         \n",
      "================================================================================\n",
      "                   coef    std err          t      P>|t|      [0.025      0.975]\n",
      "--------------------------------------------------------------------------------\n",
      "CCBASIC_15.0   7.03e+05   3.64e+04     19.306      0.000    6.31e+05    7.75e+05\n",
      "CCBASIC_16.0  4.998e+05   6.06e+04      8.243      0.000     3.8e+05     6.2e+05\n",
      "CCBASIC_17.0  4.159e+05   1.16e+05      3.582      0.000    1.86e+05    6.46e+05\n",
      "CCBASIC_18.0  4.475e+05    7.6e+04      5.887      0.000    2.97e+05    5.98e+05\n",
      "CCBASIC_19.0  3.837e+05   1.64e+05      2.337      0.021    5.88e+04    7.09e+05\n",
      "CCBASIC_20.0  3.779e+05   2.01e+05      1.879      0.063      -2e+04    7.76e+05\n",
      "CCBASIC_21.0  3.778e+05   5.69e+04      6.642      0.000    2.65e+05     4.9e+05\n",
      "CCBASIC_22.0  3.486e+05   2.01e+05      1.734      0.085   -4.93e+04    7.47e+05\n",
      "==============================================================================\n",
      "Omnibus:                       25.905   Durbin-Watson:                   2.270\n",
      "Prob(Omnibus):                  0.000   Jarque-Bera (JB):               35.105\n",
      "Skew:                           1.049   Prob(JB):                     2.38e-08\n",
      "Kurtosis:                       4.355   Cond. No.                         5.52\n",
      "==============================================================================\n",
      "\n",
      "Warnings:\n",
      "[1] Standard Errors assume that the covariance matrix of the errors is correctly specified.\n"
     ]
    }
   ],
   "source": [
    "model = sm.OLS(y, X_full.iloc[:, 85:93])\n",
    "results = model.fit()\n",
    "print(results.summary())"
   ]
  },
  {
   "cell_type": "code",
   "execution_count": 291,
   "metadata": {
    "collapsed": false,
    "scrolled": true
   },
   "outputs": [
    {
     "name": "stdout",
     "output_type": "stream",
     "text": [
      "                            OLS Regression Results                            \n",
      "==============================================================================\n",
      "Dep. Variable:                      y   R-squared:                       0.051\n",
      "Model:                            OLS   Adj. R-squared:                 -0.018\n",
      "Method:                 Least Squares   F-statistic:                    0.7426\n",
      "Date:                Fri, 25 Sep 2015   Prob (F-statistic):              0.669\n",
      "Time:                        16:02:26   Log-Likelihood:                -1895.0\n",
      "No. Observations:                 135   AIC:                             3810.\n",
      "Df Residuals:                     125   BIC:                             3839.\n",
      "Df Model:                           9                                         \n",
      "Covariance Type:            nonrobust                                         \n",
      "===============================================================================\n",
      "                  coef    std err          t      P>|t|      [0.025      0.975]\n",
      "-------------------------------------------------------------------------------\n",
      "LOCALE_11.0  5.316e+05   4.53e+04     11.735      0.000    4.42e+05    6.21e+05\n",
      "LOCALE_12.0  6.367e+05   6.41e+04      9.938      0.000     5.1e+05    7.64e+05\n",
      "LOCALE_13.0  5.706e+05   7.85e+04      7.272      0.000    4.15e+05    7.26e+05\n",
      "LOCALE_21.0   5.98e+05   6.28e+04      9.526      0.000    4.74e+05    7.22e+05\n",
      "LOCALE_22.0  4.368e+05   1.81e+05      2.410      0.017    7.81e+04    7.95e+05\n",
      "LOCALE_23.0  3.904e+05   1.57e+05      2.487      0.014    7.98e+04    7.01e+05\n",
      "LOCALE_31.0   3.77e+05   1.81e+05      2.080      0.040    1.84e+04    7.36e+05\n",
      "LOCALE_32.0  4.838e+05   1.19e+05      4.078      0.000    2.49e+05    7.19e+05\n",
      "LOCALE_33.0  5.598e+05   1.57e+05      3.567      0.001    2.49e+05     8.7e+05\n",
      "LOCALE_42.0  1.791e+05   3.14e+05      0.571      0.569   -4.42e+05       8e+05\n",
      "==============================================================================\n",
      "Omnibus:                       29.685   Durbin-Watson:                   2.139\n",
      "Prob(Omnibus):                  0.000   Jarque-Bera (JB):               43.326\n",
      "Skew:                           1.136   Prob(JB):                     3.91e-10\n",
      "Kurtosis:                       4.593   Cond. No.                         6.93\n",
      "==============================================================================\n",
      "\n",
      "Warnings:\n",
      "[1] Standard Errors assume that the covariance matrix of the errors is correctly specified.\n"
     ]
    }
   ],
   "source": [
    "model = sm.OLS(y, X_full.iloc[:, 75:85])\n",
    "results = model.fit()\n",
    "print(results.summary())"
   ]
  },
  {
   "cell_type": "code",
   "execution_count": 290,
   "metadata": {
    "collapsed": false,
    "scrolled": true
   },
   "outputs": [
    {
     "name": "stdout",
     "output_type": "stream",
     "text": [
      "                            OLS Regression Results                            \n",
      "==============================================================================\n",
      "Dep. Variable:                      y   R-squared:                       0.110\n",
      "Model:                            OLS   Adj. R-squared:                  0.061\n",
      "Method:                 Least Squares   F-statistic:                     2.246\n",
      "Date:                Fri, 25 Sep 2015   Prob (F-statistic):             0.0346\n",
      "Time:                        16:02:00   Log-Likelihood:                -1890.7\n",
      "No. Observations:                 135   AIC:                             3797.\n",
      "Df Residuals:                     127   BIC:                             3821.\n",
      "Df Model:                           7                                         \n",
      "Covariance Type:            nonrobust                                         \n",
      "==============================================================================\n",
      "                 coef    std err          t      P>|t|      [0.025      0.975]\n",
      "------------------------------------------------------------------------------\n",
      "region_1    7.416e+05   7.11e+04     10.436      0.000    6.01e+05    8.82e+05\n",
      "region_2    6.348e+05   5.17e+04     12.277      0.000    5.32e+05    7.37e+05\n",
      "region_3    4.595e+05   6.92e+04      6.643      0.000    3.23e+05    5.96e+05\n",
      "region_4    4.412e+05   1.07e+05      4.139      0.000     2.3e+05    6.52e+05\n",
      "region_5    4.985e+05   6.43e+04      7.755      0.000    3.71e+05    6.26e+05\n",
      "region_6    4.144e+05   1.01e+05      4.124      0.000    2.16e+05    6.13e+05\n",
      "region_7    4.553e+05   1.51e+05      3.020      0.003    1.57e+05    7.54e+05\n",
      "region_8    5.228e+05   6.58e+04      7.946      0.000    3.93e+05    6.53e+05\n",
      "==============================================================================\n",
      "Omnibus:                       26.273   Durbin-Watson:                   2.376\n",
      "Prob(Omnibus):                  0.000   Jarque-Bera (JB):               36.588\n",
      "Skew:                           1.038   Prob(JB):                     1.14e-08\n",
      "Kurtosis:                       4.481   Cond. No.                         2.92\n",
      "==============================================================================\n",
      "\n",
      "Warnings:\n",
      "[1] Standard Errors assume that the covariance matrix of the errors is correctly specified.\n"
     ]
    }
   ],
   "source": [
    "model = sm.OLS(y, X_full.iloc[:, 67:75])\n",
    "results = model.fit()\n",
    "print(results.summary())"
   ]
  },
  {
   "cell_type": "code",
   "execution_count": 289,
   "metadata": {
    "collapsed": false,
    "scrolled": true
   },
   "outputs": [
    {
     "name": "stdout",
     "output_type": "stream",
     "text": [
      "                            OLS Regression Results                            \n",
      "==============================================================================\n",
      "Dep. Variable:                      y   R-squared:                       0.062\n",
      "Model:                            OLS   Adj. R-squared:                  0.055\n",
      "Method:                 Least Squares   F-statistic:                     8.801\n",
      "Date:                Fri, 25 Sep 2015   Prob (F-statistic):            0.00357\n",
      "Time:                        16:01:35   Log-Likelihood:                -1894.2\n",
      "No. Observations:                 135   AIC:                             3792.\n",
      "Df Residuals:                     133   BIC:                             3798.\n",
      "Df Model:                           1                                         \n",
      "Covariance Type:            nonrobust                                         \n",
      "==============================================================================\n",
      "                 coef    std err          t      P>|t|      [0.025      0.975]\n",
      "------------------------------------------------------------------------------\n",
      "CONTROL_1   4.403e+05   4.61e+04      9.545      0.000    3.49e+05    5.32e+05\n",
      "CONTROL_2   6.061e+05   3.15e+04     19.218      0.000    5.44e+05    6.68e+05\n",
      "==============================================================================\n",
      "Omnibus:                       26.128   Durbin-Watson:                   2.071\n",
      "Prob(Omnibus):                  0.000   Jarque-Bera (JB):               39.940\n",
      "Skew:                           0.965   Prob(JB):                     2.12e-09\n",
      "Kurtosis:                       4.837   Cond. No.                         1.46\n",
      "==============================================================================\n",
      "\n",
      "Warnings:\n",
      "[1] Standard Errors assume that the covariance matrix of the errors is correctly specified.\n"
     ]
    }
   ],
   "source": [
    "model = sm.OLS(y, X_full.iloc[:, 65:67])\n",
    "results = model.fit()\n",
    "print(results.summary())"
   ]
  },
  {
   "cell_type": "code",
   "execution_count": 285,
   "metadata": {
    "collapsed": false,
    "scrolled": true
   },
   "outputs": [
    {
     "name": "stdout",
     "output_type": "stream",
     "text": [
      "                            OLS Regression Results                            \n",
      "==============================================================================\n",
      "Dep. Variable:                      y   R-squared:                       0.792\n",
      "Model:                            OLS   Adj. R-squared:                  0.787\n",
      "Method:                 Least Squares   F-statistic:                     167.7\n",
      "Date:                Fri, 25 Sep 2015   Prob (F-statistic):           7.57e-45\n",
      "Time:                        16:00:04   Log-Likelihood:                -1889.1\n",
      "No. Observations:                 135   AIC:                             3784.\n",
      "Df Residuals:                     132   BIC:                             3793.\n",
      "Df Model:                           3                                         \n",
      "Covariance Type:            nonrobust                                         \n",
      "==============================================================================\n",
      "                 coef    std err          t      P>|t|      [0.025      0.975]\n",
      "------------------------------------------------------------------------------\n",
      "faminc        15.9389      3.939      4.046      0.000       8.147      23.731\n",
      "md_faminc    -17.1308      3.647     -4.698      0.000     -24.344      -9.917\n",
      "lnfaminc     3.25e+04   1.44e+04      2.259      0.026    4039.273     6.1e+04\n",
      "==============================================================================\n",
      "Omnibus:                       20.290   Durbin-Watson:                   2.041\n",
      "Prob(Omnibus):                  0.000   Jarque-Bera (JB):               27.004\n",
      "Skew:                           0.834   Prob(JB):                     1.37e-06\n",
      "Kurtosis:                       4.421   Cond. No.                     6.86e+04\n",
      "==============================================================================\n",
      "\n",
      "Warnings:\n",
      "[1] Standard Errors assume that the covariance matrix of the errors is correctly specified.\n",
      "[2] The condition number is large, 6.86e+04. This might indicate that there are\n",
      "strong multicollinearity or other numerical problems.\n"
     ]
    }
   ],
   "source": [
    "model = sm.OLS(y, X_full.iloc[:, 60:63])\n",
    "results = model.fit()\n",
    "print(results.summary())"
   ]
  },
  {
   "cell_type": "code",
   "execution_count": 283,
   "metadata": {
    "collapsed": false,
    "scrolled": true
   },
   "outputs": [
    {
     "name": "stdout",
     "output_type": "stream",
     "text": [
      "                            OLS Regression Results                            \n",
      "==============================================================================\n",
      "Dep. Variable:                      y   R-squared:                       0.796\n",
      "Model:                            OLS   Adj. R-squared:                  0.793\n",
      "Method:                 Least Squares   F-statistic:                     260.0\n",
      "Date:                Fri, 25 Sep 2015   Prob (F-statistic):           1.10e-46\n",
      "Time:                        15:58:42   Log-Likelihood:                -1887.8\n",
      "No. Observations:                 135   AIC:                             3780.\n",
      "Df Residuals:                     133   BIC:                             3785.\n",
      "Df Model:                           2                                         \n",
      "Covariance Type:            nonrobust                                         \n",
      "==============================================================================\n",
      "                 coef    std err          t      P>|t|      [0.025      0.975]\n",
      "------------------------------------------------------------------------------\n",
      "age_entry   2.045e+04   1942.163     10.530      0.000    1.66e+04    2.43e+04\n",
      "agege24     1.085e+06   2.56e+05      4.243      0.000    5.79e+05    1.59e+06\n",
      "==============================================================================\n",
      "Omnibus:                       14.764   Durbin-Watson:                   2.083\n",
      "Prob(Omnibus):                  0.001   Jarque-Bera (JB):               18.847\n",
      "Skew:                           0.642   Prob(JB):                     8.08e-05\n",
      "Kurtosis:                       4.305   Cond. No.                         213.\n",
      "==============================================================================\n",
      "\n",
      "Warnings:\n",
      "[1] Standard Errors assume that the covariance matrix of the errors is correctly specified.\n"
     ]
    }
   ],
   "source": [
    "model = sm.OLS(y, X_full.iloc[:, 53:55])\n",
    "results = model.fit()\n",
    "print(results.summary())"
   ]
  },
  {
   "cell_type": "code",
   "execution_count": 282,
   "metadata": {
    "collapsed": false,
    "scrolled": true
   },
   "outputs": [
    {
     "name": "stdout",
     "output_type": "stream",
     "text": [
      "                            OLS Regression Results                            \n",
      "==============================================================================\n",
      "Dep. Variable:                      y   R-squared:                       0.837\n",
      "Model:                            OLS   Adj. R-squared:                  0.832\n",
      "Method:                 Least Squares   F-statistic:                     167.7\n",
      "Date:                Fri, 25 Sep 2015   Prob (F-statistic):           1.63e-50\n",
      "Time:                        15:56:43   Log-Likelihood:                -1872.9\n",
      "No. Observations:                 135   AIC:                             3754.\n",
      "Df Residuals:                     131   BIC:                             3765.\n",
      "Df Model:                           4                                         \n",
      "Covariance Type:            nonrobust                                         \n",
      "==============================================================================\n",
      "                 coef    std err          t      P>|t|      [0.025      0.975]\n",
      "------------------------------------------------------------------------------\n",
      "PCTPELL     1.935e+06   5.97e+05      3.244      0.001    7.55e+05    3.12e+06\n",
      "PCTFLOAN   -1.696e+06   2.11e+05     -8.023      0.000   -2.11e+06   -1.28e+06\n",
      "loan_ever   1.237e+06   9.49e+04     13.025      0.000    1.05e+06    1.42e+06\n",
      "pell_ever  -8.398e+05   2.92e+05     -2.881      0.005   -1.42e+06   -2.63e+05\n",
      "==============================================================================\n",
      "Omnibus:                       12.076   Durbin-Watson:                   1.901\n",
      "Prob(Omnibus):                  0.002   Jarque-Bera (JB):               13.598\n",
      "Skew:                           0.601   Prob(JB):                      0.00111\n",
      "Kurtosis:                       3.986   Cond. No.                         32.6\n",
      "==============================================================================\n",
      "\n",
      "Warnings:\n",
      "[1] Standard Errors assume that the covariance matrix of the errors is correctly specified.\n"
     ]
    }
   ],
   "source": [
    "model = sm.OLS(y, X_full.iloc[:, 49:53])\n",
    "results = model.fit()\n",
    "print(results.summary())"
   ]
  },
  {
   "cell_type": "code",
   "execution_count": 281,
   "metadata": {
    "collapsed": false,
    "scrolled": true
   },
   "outputs": [
    {
     "name": "stdout",
     "output_type": "stream",
     "text": [
      "                            OLS Regression Results                            \n",
      "==============================================================================\n",
      "Dep. Variable:                      y   R-squared:                       0.804\n",
      "Model:                            OLS   Adj. R-squared:                  0.798\n",
      "Method:                 Least Squares   F-statistic:                     134.2\n",
      "Date:                Fri, 25 Sep 2015   Prob (F-statistic):           2.46e-45\n",
      "Time:                        15:56:00   Log-Likelihood:                -1885.2\n",
      "No. Observations:                 135   AIC:                             3778.\n",
      "Df Residuals:                     131   BIC:                             3790.\n",
      "Df Model:                           4                                         \n",
      "Covariance Type:            nonrobust                                         \n",
      "==============================================================================\n",
      "                 coef    std err          t      P>|t|      [0.025      0.975]\n",
      "------------------------------------------------------------------------------\n",
      "UGDS_WHITE  3.553e+05   7.87e+04      4.515      0.000       2e+05    5.11e+05\n",
      "UGDS_BLACK  1.521e+06   9.29e+05      1.636      0.104   -3.18e+05    3.36e+06\n",
      "UGDS_HISP   3.374e+05   5.13e+05      0.658      0.512   -6.77e+05    1.35e+06\n",
      "UGDS_ASIAN  2.109e+06   3.27e+05      6.450      0.000    1.46e+06    2.76e+06\n",
      "==============================================================================\n",
      "Omnibus:                       23.264   Durbin-Watson:                   2.084\n",
      "Prob(Omnibus):                  0.000   Jarque-Bera (JB):               30.710\n",
      "Skew:                           0.961   Prob(JB):                     2.14e-07\n",
      "Kurtosis:                       4.330   Cond. No.                         24.0\n",
      "==============================================================================\n",
      "\n",
      "Warnings:\n",
      "[1] Standard Errors assume that the covariance matrix of the errors is correctly specified.\n"
     ]
    }
   ],
   "source": [
    "model = sm.OLS(y, X_full.iloc[:, 42:46])\n",
    "results = model.fit()\n",
    "print(results.summary())"
   ]
  },
  {
   "cell_type": "code",
   "execution_count": 279,
   "metadata": {
    "collapsed": false,
    "scrolled": true
   },
   "outputs": [
    {
     "name": "stdout",
     "output_type": "stream",
     "text": [
      "                            OLS Regression Results                            \n",
      "==============================================================================\n",
      "Dep. Variable:                      y   R-squared:                       0.914\n",
      "Model:                            OLS   Adj. R-squared:                  0.882\n",
      "Method:                 Least Squares   F-statistic:                     29.15\n",
      "Date:                Fri, 25 Sep 2015   Prob (F-statistic):           1.32e-38\n",
      "Time:                        15:55:10   Log-Likelihood:                -1829.7\n",
      "No. Observations:                 135   AIC:                             3731.\n",
      "Df Residuals:                      99   BIC:                             3836.\n",
      "Df Model:                          36                                         \n",
      "Covariance Type:            nonrobust                                         \n",
      "==============================================================================\n",
      "                 coef    std err          t      P>|t|      [0.025      0.975]\n",
      "------------------------------------------------------------------------------\n",
      "PCIP01      8.954e+05   1.28e+06      0.701      0.485   -1.64e+06    3.43e+06\n",
      "PCIP03     -3.386e+06   1.42e+06     -2.389      0.019    -6.2e+06   -5.73e+05\n",
      "PCIP04      8.538e+05   9.56e+05      0.893      0.374   -1.04e+06    2.75e+06\n",
      "PCIP05     -1.713e+05   1.02e+06     -0.169      0.866   -2.19e+06    1.84e+06\n",
      "PCIP09       6.71e+05   4.88e+05      1.374      0.172   -2.98e+05    1.64e+06\n",
      "PCIP10     -1.172e+06   8.13e+06     -0.144      0.886   -1.73e+07     1.5e+07\n",
      "PCIP11      2.549e+06   8.75e+05      2.912      0.004    8.12e+05    4.29e+06\n",
      "PCIP12     -7.089e+06   5.58e+07     -0.127      0.899   -1.18e+08    1.04e+08\n",
      "PCIP13      1.188e+05   5.84e+05      0.203      0.839   -1.04e+06    1.28e+06\n",
      "PCIP14      8.615e+05   1.72e+05      5.008      0.000     5.2e+05     1.2e+06\n",
      "PCIP15     -4.087e+06   2.27e+06     -1.798      0.075    -8.6e+06    4.23e+05\n",
      "PCIP16      7.116e+05   5.85e+05      1.216      0.227    -4.5e+05    1.87e+06\n",
      "PCIP19     -1.425e+06   1.56e+06     -0.916      0.362   -4.51e+06    1.66e+06\n",
      "PCIP22     -1.968e+06   4.75e+06     -0.415      0.679   -1.14e+07    7.45e+06\n",
      "PCIP23     -1.306e+06    1.1e+06     -1.188      0.238   -3.49e+06    8.76e+05\n",
      "PCIP24      6.126e+05   7.61e+05      0.805      0.423   -8.97e+05    2.12e+06\n",
      "PCIP25      2.847e-05   2.72e-05      1.046      0.298   -2.55e-05    8.25e-05\n",
      "PCIP26       4.59e+05   6.88e+05      0.668      0.506   -9.05e+05    1.82e+06\n",
      "PCIP27      3.702e+06   1.59e+06      2.327      0.022    5.45e+05    6.86e+06\n",
      "PCIP29      4.971e-06   4.59e-06      1.083      0.282   -4.14e-06    1.41e-05\n",
      "PCIP30      1.895e+06   7.59e+05      2.496      0.014    3.88e+05     3.4e+06\n",
      "PCIP31     -8856.3890   1.02e+06     -0.009      0.993   -2.03e+06    2.01e+06\n",
      "PCIP38      9.728e+05   2.46e+06      0.396      0.693    -3.9e+06    5.85e+06\n",
      "PCIP39     -1.683e+06   1.61e+06     -1.043      0.299   -4.89e+06    1.52e+06\n",
      "PCIP40     -1.076e+06   1.23e+06     -0.872      0.386   -3.52e+06    1.37e+06\n",
      "PCIP41     -3.071e+08   3.55e+08     -0.866      0.389   -1.01e+09    3.97e+08\n",
      "PCIP42     -3.523e+06   8.06e+05     -4.372      0.000   -5.12e+06   -1.92e+06\n",
      "PCIP43     -4.016e+06   2.25e+06     -1.784      0.077   -8.48e+06     4.5e+05\n",
      "PCIP44      3.445e+06   1.38e+06      2.488      0.015    6.97e+05    6.19e+06\n",
      "PCIP45      1.821e+06   3.07e+05      5.932      0.000    1.21e+06    2.43e+06\n",
      "PCIP46     -1.628e+07   3.46e+07     -0.471      0.639   -8.49e+07    5.23e+07\n",
      "PCIP47      1.738e+08   2.21e+08      0.786      0.434   -2.65e+08    6.13e+08\n",
      "PCIP48      3.418e+08    3.4e+08      1.006      0.317   -3.32e+08    1.02e+09\n",
      "PCIP49     -2.393e+07   2.66e+07     -0.901      0.370   -7.66e+07    2.88e+07\n",
      "PCIP50      -2.19e+05   4.69e+05     -0.467      0.641   -1.15e+06    7.11e+05\n",
      "PCIP51      1.203e+06   4.26e+05      2.824      0.006    3.58e+05    2.05e+06\n",
      "PCIP52      5.869e+05   1.49e+05      3.951      0.000    2.92e+05    8.82e+05\n",
      "PCIP54       4.26e+06   1.58e+06      2.695      0.008    1.12e+06     7.4e+06\n",
      "==============================================================================\n",
      "Omnibus:                        8.110   Durbin-Watson:                   1.846\n",
      "Prob(Omnibus):                  0.017   Jarque-Bera (JB):                7.984\n",
      "Skew:                           0.502   Prob(JB):                       0.0185\n",
      "Kurtosis:                       3.641   Cond. No.                     9.83e+15\n",
      "==============================================================================\n",
      "\n",
      "Warnings:\n",
      "[1] Standard Errors assume that the covariance matrix of the errors is correctly specified.\n",
      "[2] The smallest eigenvalue is 1.11e-31. This might indicate that there are\n",
      "strong multicollinearity problems or that the design matrix is singular.\n"
     ]
    }
   ],
   "source": [
    "model = sm.OLS(y, X_full.iloc[:, 4:42])\n",
    "results = model.fit()\n",
    "print(results.summary())"
   ]
  },
  {
   "cell_type": "code",
   "execution_count": 284,
   "metadata": {
    "collapsed": false
   },
   "outputs": [
    {
     "name": "stdout",
     "output_type": "stream",
     "text": [
      "                            OLS Regression Results                            \n",
      "==============================================================================\n",
      "Dep. Variable:                      y   R-squared:                       0.395\n",
      "Model:                            OLS   Adj. R-squared:                  0.390\n",
      "Method:                 Least Squares   F-statistic:                     87.47\n",
      "Date:                Fri, 25 Sep 2015   Prob (F-statistic):           2.59e-16\n",
      "Time:                        15:59:43   Log-Likelihood:                -1961.3\n",
      "No. Observations:                 135   AIC:                             3925.\n",
      "Df Residuals:                     134   BIC:                             3927.\n",
      "Df Model:                           1                                         \n",
      "Covariance Type:            nonrobust                                         \n",
      "==============================================================================\n",
      "                 coef    std err          t      P>|t|      [0.025      0.975]\n",
      "------------------------------------------------------------------------------\n",
      "ADM_RATE    8.299e+05   8.87e+04      9.353      0.000    6.54e+05    1.01e+06\n",
      "==============================================================================\n",
      "Omnibus:                       17.488   Durbin-Watson:                   1.777\n",
      "Prob(Omnibus):                  0.000   Jarque-Bera (JB):               19.910\n",
      "Skew:                           0.886   Prob(JB):                     4.75e-05\n",
      "Kurtosis:                       3.634   Cond. No.                         1.00\n",
      "==============================================================================\n",
      "\n",
      "Warnings:\n",
      "[1] Standard Errors assume that the covariance matrix of the errors is correctly specified.\n",
      "                            OLS Regression Results                            \n",
      "==============================================================================\n",
      "Dep. Variable:                      y   R-squared:                       0.800\n",
      "Model:                            OLS   Adj. R-squared:                  0.798\n",
      "Method:                 Least Squares   F-statistic:                     535.7\n",
      "Date:                Fri, 25 Sep 2015   Prob (F-statistic):           1.17e-48\n",
      "Time:                        15:59:43   Log-Likelihood:                -1886.6\n",
      "No. Observations:                 135   AIC:                             3775.\n",
      "Df Residuals:                     134   BIC:                             3778.\n",
      "Df Model:                           1                                         \n",
      "Covariance Type:            nonrobust                                         \n",
      "==============================================================================\n",
      "                 coef    std err          t      P>|t|      [0.025      0.975]\n",
      "------------------------------------------------------------------------------\n",
      "SATVRMID     881.6890     38.093     23.145      0.000     806.347     957.031\n",
      "==============================================================================\n",
      "Omnibus:                       32.630   Durbin-Watson:                   2.144\n",
      "Prob(Omnibus):                  0.000   Jarque-Bera (JB):               55.624\n",
      "Skew:                           1.130   Prob(JB):                     8.34e-13\n",
      "Kurtosis:                       5.186   Cond. No.                         1.00\n",
      "==============================================================================\n",
      "\n",
      "Warnings:\n",
      "[1] Standard Errors assume that the covariance matrix of the errors is correctly specified.\n",
      "                            OLS Regression Results                            \n",
      "==============================================================================\n",
      "Dep. Variable:                      y   R-squared:                       0.806\n",
      "Model:                            OLS   Adj. R-squared:                  0.805\n",
      "Method:                 Least Squares   F-statistic:                     557.0\n",
      "Date:                Fri, 25 Sep 2015   Prob (F-statistic):           1.43e-49\n",
      "Time:                        15:59:43   Log-Likelihood:                -1884.5\n",
      "No. Observations:                 135   AIC:                             3771.\n",
      "Df Residuals:                     134   BIC:                             3774.\n",
      "Df Model:                           1                                         \n",
      "Covariance Type:            nonrobust                                         \n",
      "==============================================================================\n",
      "                 coef    std err          t      P>|t|      [0.025      0.975]\n",
      "------------------------------------------------------------------------------\n",
      "SATMTMID     854.0063     36.186     23.600      0.000     782.436     925.576\n",
      "==============================================================================\n",
      "Omnibus:                       39.173   Durbin-Watson:                   2.170\n",
      "Prob(Omnibus):                  0.000   Jarque-Bera (JB):               73.196\n",
      "Skew:                           1.303   Prob(JB):                     1.28e-16\n",
      "Kurtosis:                       5.493   Cond. No.                         1.00\n",
      "==============================================================================\n",
      "\n",
      "Warnings:\n",
      "[1] Standard Errors assume that the covariance matrix of the errors is correctly specified.\n",
      "                            OLS Regression Results                            \n",
      "==============================================================================\n",
      "Dep. Variable:                      y   R-squared:                       0.800\n",
      "Model:                            OLS   Adj. R-squared:                  0.799\n",
      "Method:                 Least Squares   F-statistic:                     537.5\n",
      "Date:                Fri, 25 Sep 2015   Prob (F-statistic):           9.75e-49\n",
      "Time:                        15:59:43   Log-Likelihood:                -1886.4\n",
      "No. Observations:                 135   AIC:                             3775.\n",
      "Df Residuals:                     134   BIC:                             3778.\n",
      "Df Model:                           1                                         \n",
      "Covariance Type:            nonrobust                                         \n",
      "==============================================================================\n",
      "                 coef    std err          t      P>|t|      [0.025      0.975]\n",
      "------------------------------------------------------------------------------\n",
      "SAT_AVG      432.1935     18.642     23.184      0.000     395.323     469.064\n",
      "==============================================================================\n",
      "Omnibus:                       35.452   Durbin-Watson:                   2.148\n",
      "Prob(Omnibus):                  0.000   Jarque-Bera (JB):               62.496\n",
      "Skew:                           1.209   Prob(JB):                     2.69e-14\n",
      "Kurtosis:                       5.294   Cond. No.                         1.00\n",
      "==============================================================================\n",
      "\n",
      "Warnings:\n",
      "[1] Standard Errors assume that the covariance matrix of the errors is correctly specified.\n",
      "                            OLS Regression Results                            \n",
      "==============================================================================\n",
      "Dep. Variable:                      y   R-squared:                       0.868\n",
      "Model:                            OLS   Adj. R-squared:                  0.867\n",
      "Method:                 Least Squares   F-statistic:                     881.1\n",
      "Date:                Fri, 25 Sep 2015   Prob (F-statistic):           8.85e-61\n",
      "Time:                        15:59:43   Log-Likelihood:                -1858.5\n",
      "No. Observations:                 135   AIC:                             3719.\n",
      "Df Residuals:                     134   BIC:                             3722.\n",
      "Df Model:                           1                                         \n",
      "Covariance Type:            nonrobust                                         \n",
      "==============================================================================\n",
      "                 coef    std err          t      P>|t|      [0.025      0.975]\n",
      "------------------------------------------------------------------------------\n",
      "AVGFACSAL     52.5423      1.770     29.684      0.000      49.041      56.043\n",
      "==============================================================================\n",
      "Omnibus:                       25.831   Durbin-Watson:                   2.146\n",
      "Prob(Omnibus):                  0.000   Jarque-Bera (JB):               35.824\n",
      "Skew:                           1.024   Prob(JB):                     1.66e-08\n",
      "Kurtosis:                       4.476   Cond. No.                         1.00\n",
      "==============================================================================\n",
      "\n",
      "Warnings:\n",
      "[1] Standard Errors assume that the covariance matrix of the errors is correctly specified.\n",
      "                            OLS Regression Results                            \n",
      "==============================================================================\n",
      "Dep. Variable:                      y   R-squared:                       0.749\n",
      "Model:                            OLS   Adj. R-squared:                  0.747\n",
      "Method:                 Least Squares   F-statistic:                     399.4\n",
      "Date:                Fri, 25 Sep 2015   Prob (F-statistic):           5.07e-42\n",
      "Time:                        15:59:43   Log-Likelihood:                -1901.9\n",
      "No. Observations:                 135   AIC:                             3806.\n",
      "Df Residuals:                     134   BIC:                             3809.\n",
      "Df Model:                           1                                         \n",
      "Covariance Type:            nonrobust                                         \n",
      "==============================================================================\n",
      "                 coef    std err          t      P>|t|      [0.025      0.975]\n",
      "------------------------------------------------------------------------------\n",
      "PFTFAC      7.038e+05   3.52e+04     19.984      0.000    6.34e+05    7.73e+05\n",
      "==============================================================================\n",
      "Omnibus:                       17.577   Durbin-Watson:                   2.020\n",
      "Prob(Omnibus):                  0.000   Jarque-Bera (JB):               20.897\n",
      "Skew:                           0.808   Prob(JB):                     2.90e-05\n",
      "Kurtosis:                       4.052   Cond. No.                         1.00\n",
      "==============================================================================\n",
      "\n",
      "Warnings:\n",
      "[1] Standard Errors assume that the covariance matrix of the errors is correctly specified.\n",
      "                            OLS Regression Results                            \n",
      "==============================================================================\n",
      "Dep. Variable:                      y   R-squared:                       0.679\n",
      "Model:                            OLS   Adj. R-squared:                  0.677\n",
      "Method:                 Least Squares   F-statistic:                     283.5\n",
      "Date:                Fri, 25 Sep 2015   Prob (F-statistic):           7.11e-35\n",
      "Time:                        15:59:43   Log-Likelihood:                -1918.5\n",
      "No. Observations:                 135   AIC:                             3839.\n",
      "Df Residuals:                     134   BIC:                             3842.\n",
      "Df Model:                           1                                         \n",
      "Covariance Type:            nonrobust                                         \n",
      "==============================================================================\n",
      "                 coef    std err          t      P>|t|      [0.025      0.975]\n",
      "------------------------------------------------------------------------------\n",
      "female      9.679e+05   5.75e+04     16.837      0.000    8.54e+05    1.08e+06\n",
      "==============================================================================\n",
      "Omnibus:                       18.219   Durbin-Watson:                   2.119\n",
      "Prob(Omnibus):                  0.000   Jarque-Bera (JB):               21.277\n",
      "Skew:                           0.862   Prob(JB):                     2.40e-05\n",
      "Kurtosis:                       3.900   Cond. No.                         1.00\n",
      "==============================================================================\n",
      "\n",
      "Warnings:\n",
      "[1] Standard Errors assume that the covariance matrix of the errors is correctly specified.\n",
      "                            OLS Regression Results                            \n",
      "==============================================================================\n",
      "Dep. Variable:                      y   R-squared:                       0.280\n",
      "Model:                            OLS   Adj. R-squared:                  0.274\n",
      "Method:                 Least Squares   F-statistic:                     52.00\n",
      "Date:                Fri, 25 Sep 2015   Prob (F-statistic):           3.68e-11\n",
      "Time:                        15:59:43   Log-Likelihood:                -1973.0\n",
      "No. Observations:                 135   AIC:                             3948.\n",
      "Df Residuals:                     134   BIC:                             3951.\n",
      "Df Model:                           1                                         \n",
      "Covariance Type:            nonrobust                                         \n",
      "==============================================================================\n",
      "                 coef    std err          t      P>|t|      [0.025      0.975]\n",
      "------------------------------------------------------------------------------\n",
      "married     5.755e+06   7.98e+05      7.211      0.000    4.18e+06    7.33e+06\n",
      "==============================================================================\n",
      "Omnibus:                       46.982   Durbin-Watson:                   1.256\n",
      "Prob(Omnibus):                  0.000   Jarque-Bera (JB):              265.003\n",
      "Skew:                          -1.040   Prob(JB):                     2.85e-58\n",
      "Kurtosis:                       9.541   Cond. No.                         1.00\n",
      "==============================================================================\n",
      "\n",
      "Warnings:\n",
      "[1] Standard Errors assume that the covariance matrix of the errors is correctly specified.\n",
      "                            OLS Regression Results                            \n",
      "==============================================================================\n",
      "Dep. Variable:                      y   R-squared:                       0.697\n",
      "Model:                            OLS   Adj. R-squared:                  0.695\n",
      "Method:                 Least Squares   F-statistic:                     308.8\n",
      "Date:                Fri, 25 Sep 2015   Prob (F-statistic):           1.37e-36\n",
      "Time:                        15:59:43   Log-Likelihood:                -1914.5\n",
      "No. Observations:                 135   AIC:                             3831.\n",
      "Df Residuals:                     134   BIC:                             3834.\n",
      "Df Model:                           1                                         \n",
      "Covariance Type:            nonrobust                                         \n",
      "==============================================================================\n",
      "                 coef    std err          t      P>|t|      [0.025      0.975]\n",
      "------------------------------------------------------------------------------\n",
      "dependent   6.224e+05   3.54e+04     17.572      0.000    5.52e+05    6.92e+05\n",
      "==============================================================================\n",
      "Omnibus:                       40.104   Durbin-Watson:                   2.215\n",
      "Prob(Omnibus):                  0.000   Jarque-Bera (JB):               75.585\n",
      "Skew:                           1.331   Prob(JB):                     3.86e-17\n",
      "Kurtosis:                       5.520   Cond. No.                         1.00\n",
      "==============================================================================\n",
      "\n",
      "Warnings:\n",
      "[1] Standard Errors assume that the covariance matrix of the errors is correctly specified.\n",
      "                            OLS Regression Results                            \n",
      "==============================================================================\n",
      "Dep. Variable:                      y   R-squared:                       0.403\n",
      "Model:                            OLS   Adj. R-squared:                  0.399\n",
      "Method:                 Least Squares   F-statistic:                     90.49\n",
      "Date:                Fri, 25 Sep 2015   Prob (F-statistic):           1.04e-16\n",
      "Time:                        15:59:43   Log-Likelihood:                -1960.3\n",
      "No. Observations:                 135   AIC:                             3923.\n",
      "Df Residuals:                     134   BIC:                             3926.\n",
      "Df Model:                           1                                         \n",
      "Covariance Type:            nonrobust                                         \n",
      "==============================================================================\n",
      "                 coef    std err          t      P>|t|      [0.025      0.975]\n",
      "------------------------------------------------------------------------------\n",
      "veteran     3.284e+07   3.45e+06      9.513      0.000     2.6e+07    3.97e+07\n",
      "==============================================================================\n",
      "Omnibus:                        2.837   Durbin-Watson:                   1.393\n",
      "Prob(Omnibus):                  0.242   Jarque-Bera (JB):                2.311\n",
      "Skew:                           0.282   Prob(JB):                        0.315\n",
      "Kurtosis:                       3.303   Cond. No.                         1.00\n",
      "==============================================================================\n",
      "\n",
      "Warnings:\n",
      "[1] Standard Errors assume that the covariance matrix of the errors is correctly specified.\n",
      "                            OLS Regression Results                            \n",
      "==============================================================================\n",
      "Dep. Variable:                      y   R-squared:                       0.597\n",
      "Model:                            OLS   Adj. R-squared:                  0.594\n",
      "Method:                 Least Squares   F-statistic:                     198.8\n",
      "Date:                Fri, 25 Sep 2015   Prob (F-statistic):           3.01e-28\n",
      "Time:                        15:59:43   Log-Likelihood:                -1933.8\n",
      "No. Observations:                 135   AIC:                             3870.\n",
      "Df Residuals:                     134   BIC:                             3872.\n",
      "Df Model:                           1                                         \n",
      "Covariance Type:            nonrobust                                         \n",
      "==============================================================================\n",
      "                 coef    std err          t      P>|t|      [0.025      0.975]\n",
      "------------------------------------------------------------------------------\n",
      "first_gen   2.286e+06   1.62e+05     14.099      0.000    1.97e+06    2.61e+06\n",
      "==============================================================================\n",
      "Omnibus:                       16.366   Durbin-Watson:                   1.997\n",
      "Prob(Omnibus):                  0.000   Jarque-Bera (JB):               18.316\n",
      "Skew:                           0.859   Prob(JB):                     0.000105\n",
      "Kurtosis:                       3.554   Cond. No.                         1.00\n",
      "==============================================================================\n",
      "\n",
      "Warnings:\n",
      "[1] Standard Errors assume that the covariance matrix of the errors is correctly specified.\n"
     ]
    }
   ],
   "source": [
    "for i in non_grouped_features:\n",
    "    model = sm.OLS(y, X_full.iloc[:, i])\n",
    "    results = model.fit()\n",
    "    print(results.summary())"
   ]
  },
  {
   "cell_type": "code",
   "execution_count": 276,
   "metadata": {
    "collapsed": false
   },
   "outputs": [
    {
     "data": {
      "text/plain": [
       "'4:42'"
      ]
     },
     "execution_count": 276,
     "metadata": {},
     "output_type": "execute_result"
    }
   ],
   "source": [
    "steps[0]"
   ]
  },
  {
   "cell_type": "code",
   "execution_count": 274,
   "metadata": {
    "collapsed": false
   },
   "outputs": [
    {
     "ename": "ValueError",
     "evalue": "invalid literal for float(): 4:42",
     "output_type": "error",
     "traceback": [
      "\u001b[0;31m---------------------------------------------------------------------------\u001b[0m",
      "\u001b[0;31mValueError\u001b[0m                                Traceback (most recent call last)",
      "\u001b[0;32m<ipython-input-274-a717ec225447>\u001b[0m in \u001b[0;36m<module>\u001b[0;34m()\u001b[0m\n\u001b[1;32m      1\u001b[0m \u001b[0;32mfor\u001b[0m \u001b[0mi\u001b[0m \u001b[0;32min\u001b[0m \u001b[0msteps\u001b[0m\u001b[0;34m:\u001b[0m\u001b[0;34m\u001b[0m\u001b[0m\n\u001b[0;32m----> 2\u001b[0;31m     \u001b[0mmodel\u001b[0m \u001b[0;34m=\u001b[0m \u001b[0msm\u001b[0m\u001b[0;34m.\u001b[0m\u001b[0mOLS\u001b[0m\u001b[0;34m(\u001b[0m\u001b[0my\u001b[0m\u001b[0;34m,\u001b[0m \u001b[0mX_full\u001b[0m\u001b[0;34m.\u001b[0m\u001b[0miloc\u001b[0m\u001b[0;34m[\u001b[0m\u001b[0;34m:\u001b[0m\u001b[0;34m,\u001b[0m \u001b[0mfloat\u001b[0m\u001b[0;34m(\u001b[0m\u001b[0mi\u001b[0m\u001b[0;34m)\u001b[0m\u001b[0;34m]\u001b[0m\u001b[0;34m)\u001b[0m\u001b[0;34m\u001b[0m\u001b[0m\n\u001b[0m\u001b[1;32m      3\u001b[0m     \u001b[0mresults\u001b[0m \u001b[0;34m=\u001b[0m \u001b[0mmodel\u001b[0m\u001b[0;34m.\u001b[0m\u001b[0mfit\u001b[0m\u001b[0;34m(\u001b[0m\u001b[0;34m)\u001b[0m\u001b[0;34m\u001b[0m\u001b[0m\n\u001b[1;32m      4\u001b[0m     \u001b[0;32mprint\u001b[0m\u001b[0;34m(\u001b[0m\u001b[0mresults\u001b[0m\u001b[0;34m.\u001b[0m\u001b[0msummary\u001b[0m\u001b[0;34m(\u001b[0m\u001b[0;34m)\u001b[0m\u001b[0;34m)\u001b[0m\u001b[0;34m\u001b[0m\u001b[0m\n",
      "\u001b[0;31mValueError\u001b[0m: invalid literal for float(): 4:42"
     ]
    }
   ],
   "source": [
    "for i in steps:\n",
    "    model = sm.OLS(y, X_full.iloc[:, float(i)])\n",
    "    results = model.fit()\n",
    "    print(results.summary())"
   ]
  },
  {
   "cell_type": "code",
   "execution_count": 247,
   "metadata": {
    "collapsed": false,
    "scrolled": true
   },
   "outputs": [
    {
     "name": "stdout",
     "output_type": "stream",
     "text": [
      "                            OLS Regression Results                            \n",
      "==============================================================================\n",
      "Dep. Variable:                      y   R-squared:                       0.800\n",
      "Model:                            OLS   Adj. R-squared:                  0.798\n",
      "Method:                 Least Squares   F-statistic:                     535.7\n",
      "Date:                Fri, 25 Sep 2015   Prob (F-statistic):           1.17e-48\n",
      "Time:                        15:34:34   Log-Likelihood:                -1886.6\n",
      "No. Observations:                 135   AIC:                             3775.\n",
      "Df Residuals:                     134   BIC:                             3778.\n",
      "Df Model:                           1                                         \n",
      "Covariance Type:            nonrobust                                         \n",
      "==============================================================================\n",
      "                 coef    std err          t      P>|t|      [0.025      0.975]\n",
      "------------------------------------------------------------------------------\n",
      "SATVRMID     881.6890     38.093     23.145      0.000     806.347     957.031\n",
      "==============================================================================\n",
      "Omnibus:                       32.630   Durbin-Watson:                   2.144\n",
      "Prob(Omnibus):                  0.000   Jarque-Bera (JB):               55.624\n",
      "Skew:                           1.130   Prob(JB):                     8.34e-13\n",
      "Kurtosis:                       5.186   Cond. No.                         1.00\n",
      "==============================================================================\n",
      "\n",
      "Warnings:\n",
      "[1] Standard Errors assume that the covariance matrix of the errors is correctly specified.\n"
     ]
    }
   ],
   "source": [
    "model = sm.OLS(y, X_full.iloc[:, 1])\n",
    "results = model.fit()\n",
    "print(results.summary())"
   ]
  },
  {
   "cell_type": "markdown",
   "metadata": {},
   "source": [
    "# Random Forest"
   ]
  },
  {
   "cell_type": "markdown",
   "metadata": {},
   "source": [
    "Final model to fit and extract feature importances for."
   ]
  },
  {
   "cell_type": "code",
   "execution_count": 328,
   "metadata": {
    "collapsed": true
   },
   "outputs": [],
   "source": [
    "from sklearn.ensemble import RandomForestRegressor"
   ]
  },
  {
   "cell_type": "code",
   "execution_count": 340,
   "metadata": {
    "collapsed": false
   },
   "outputs": [
    {
     "data": {
      "text/plain": [
       "RandomForestRegressor(bootstrap=True, criterion='mse', max_depth=4,\n",
       "           max_features='auto', max_leaf_nodes=None, min_samples_leaf=1,\n",
       "           min_samples_split=2, min_weight_fraction_leaf=0.0,\n",
       "           n_estimators=50, n_jobs=1, oob_score=False, random_state=None,\n",
       "           verbose=0, warm_start=False)"
      ]
     },
     "execution_count": 340,
     "metadata": {},
     "output_type": "execute_result"
    }
   ],
   "source": [
    "rfmodel = RandomForestRegressor(n_estimators=50, max_depth=4)\n",
    "rfmodel.fit(X_full, y)"
   ]
  },
  {
   "cell_type": "code",
   "execution_count": 341,
   "metadata": {
    "collapsed": false
   },
   "outputs": [
    {
     "data": {
      "text/plain": [
       "0.8626233792483573"
      ]
     },
     "execution_count": 341,
     "metadata": {},
     "output_type": "execute_result"
    }
   ],
   "source": [
    "rfmodel.score(X2, y2)"
   ]
  },
  {
   "cell_type": "code",
   "execution_count": 342,
   "metadata": {
    "collapsed": false
   },
   "outputs": [
    {
     "data": {
      "text/html": [
       "<div>\n",
       "<table border=\"1\" class=\"dataframe\">\n",
       "  <thead>\n",
       "    <tr style=\"text-align: right;\">\n",
       "      <th></th>\n",
       "      <th>0</th>\n",
       "      <th>1</th>\n",
       "    </tr>\n",
       "  </thead>\n",
       "  <tbody>\n",
       "    <tr>\n",
       "      <th>3</th>\n",
       "      <td>SAT_AVG</td>\n",
       "      <td>0.4680761</td>\n",
       "    </tr>\n",
       "    <tr>\n",
       "      <th>2</th>\n",
       "      <td>SATMTMID</td>\n",
       "      <td>0.122473</td>\n",
       "    </tr>\n",
       "    <tr>\n",
       "      <th>47</th>\n",
       "      <td>AVGFACSAL</td>\n",
       "      <td>0.07729404</td>\n",
       "    </tr>\n",
       "    <tr>\n",
       "      <th>1</th>\n",
       "      <td>SATVRMID</td>\n",
       "      <td>0.05255705</td>\n",
       "    </tr>\n",
       "    <tr>\n",
       "      <th>38</th>\n",
       "      <td>PCIP50</td>\n",
       "      <td>0.04428061</td>\n",
       "    </tr>\n",
       "    <tr>\n",
       "      <th>0</th>\n",
       "      <td>ADM_RATE</td>\n",
       "      <td>0.03786175</td>\n",
       "    </tr>\n",
       "    <tr>\n",
       "      <th>18</th>\n",
       "      <td>PCIP23</td>\n",
       "      <td>0.03364438</td>\n",
       "    </tr>\n",
       "    <tr>\n",
       "      <th>54</th>\n",
       "      <td>agege24</td>\n",
       "      <td>0.01131838</td>\n",
       "    </tr>\n",
       "    <tr>\n",
       "      <th>59</th>\n",
       "      <td>first_gen</td>\n",
       "      <td>0.01127246</td>\n",
       "    </tr>\n",
       "    <tr>\n",
       "      <th>50</th>\n",
       "      <td>PCTFLOAN</td>\n",
       "      <td>0.01102736</td>\n",
       "    </tr>\n",
       "  </tbody>\n",
       "</table>\n",
       "</div>"
      ],
      "text/plain": [
       "            0           1\n",
       "3     SAT_AVG   0.4680761\n",
       "2    SATMTMID    0.122473\n",
       "47  AVGFACSAL  0.07729404\n",
       "1    SATVRMID  0.05255705\n",
       "38     PCIP50  0.04428061\n",
       "0    ADM_RATE  0.03786175\n",
       "18     PCIP23  0.03364438\n",
       "54    agege24  0.01131838\n",
       "59  first_gen  0.01127246\n",
       "50   PCTFLOAN  0.01102736"
      ]
     },
     "execution_count": 342,
     "metadata": {},
     "output_type": "execute_result"
    }
   ],
   "source": [
    "data = np.array([X_full.columns, rfmodel.feature_importances_])\n",
    "\n",
    "Feature_Importances_rf = pd.DataFrame(data).T\n",
    "\n",
    "Feature_Importances_rf.sort(1, ascending=False).head(10)"
   ]
  },
  {
   "cell_type": "markdown",
   "metadata": {},
   "source": [
    "Random Forest offers a more stable set of feature importances. The one thing that is clear is that SAT is a very strong predictor of career earnings, which makes sense - but is also likely to obfuscate the effect of attendance at an institution. SAT is good proxy for general competence, and therefore stripping this effect out would seem valuable. I will create a second y column, where I will take away the y predicted by an SAT_AVG only model from the true y."
   ]
  },
  {
   "cell_type": "markdown",
   "metadata": {},
   "source": [
    "# Controlling for SAT"
   ]
  },
  {
   "cell_type": "code",
   "execution_count": 343,
   "metadata": {
    "collapsed": false,
    "scrolled": true
   },
   "outputs": [
    {
     "name": "stdout",
     "output_type": "stream",
     "text": [
      "                            OLS Regression Results                            \n",
      "==============================================================================\n",
      "Dep. Variable:                      y   R-squared:                       0.800\n",
      "Model:                            OLS   Adj. R-squared:                  0.799\n",
      "Method:                 Least Squares   F-statistic:                     537.5\n",
      "Date:                Mon, 28 Sep 2015   Prob (F-statistic):           9.75e-49\n",
      "Time:                        13:46:44   Log-Likelihood:                -1886.4\n",
      "No. Observations:                 135   AIC:                             3775.\n",
      "Df Residuals:                     134   BIC:                             3778.\n",
      "Df Model:                           1                                         \n",
      "Covariance Type:            nonrobust                                         \n",
      "==============================================================================\n",
      "                 coef    std err          t      P>|t|      [0.025      0.975]\n",
      "------------------------------------------------------------------------------\n",
      "SAT_AVG      432.1935     18.642     23.184      0.000     395.323     469.064\n",
      "==============================================================================\n",
      "Omnibus:                       35.452   Durbin-Watson:                   2.148\n",
      "Prob(Omnibus):                  0.000   Jarque-Bera (JB):               62.496\n",
      "Skew:                           1.209   Prob(JB):                     2.69e-14\n",
      "Kurtosis:                       5.294   Cond. No.                         1.00\n",
      "==============================================================================\n",
      "\n",
      "Warnings:\n",
      "[1] Standard Errors assume that the covariance matrix of the errors is correctly specified.\n"
     ]
    }
   ],
   "source": [
    "model = sm.OLS(y, X_full.SAT_AVG)\n",
    "results = model.fit()\n",
    "print(results.summary())"
   ]
  },
  {
   "cell_type": "code",
   "execution_count": 347,
   "metadata": {
    "collapsed": false,
    "scrolled": true
   },
   "outputs": [
    {
     "ename": "ValueError",
     "evalue": "shapes (135,1) and (135,) not aligned: 1 (dim 1) != 135 (dim 0)",
     "output_type": "error",
     "traceback": [
      "\u001b[0;31m---------------------------------------------------------------------------\u001b[0m",
      "\u001b[0;31mValueError\u001b[0m                                Traceback (most recent call last)",
      "\u001b[0;32m<ipython-input-347-9eb5b76b2729>\u001b[0m in \u001b[0;36m<module>\u001b[0;34m()\u001b[0m\n\u001b[0;32m----> 1\u001b[0;31m \u001b[0mmodel\u001b[0m\u001b[0;34m.\u001b[0m\u001b[0mpredict\u001b[0m\u001b[0;34m(\u001b[0m\u001b[0mX_full\u001b[0m\u001b[0;34m.\u001b[0m\u001b[0mSAT_AVG\u001b[0m\u001b[0;34m)\u001b[0m\u001b[0;34m\u001b[0m\u001b[0m\n\u001b[0m",
      "\u001b[0;32m/Users/marekduda/anaconda/lib/python2.7/site-packages/statsmodels-0.7.0-py2.7-macosx-10.5-x86_64.egg/statsmodels/regression/linear_model.pyc\u001b[0m in \u001b[0;36mpredict\u001b[0;34m(self, params, exog)\u001b[0m\n\u001b[1;32m    373\u001b[0m         \u001b[0;32mif\u001b[0m \u001b[0mexog\u001b[0m \u001b[0;32mis\u001b[0m \u001b[0mNone\u001b[0m\u001b[0;34m:\u001b[0m\u001b[0;34m\u001b[0m\u001b[0m\n\u001b[1;32m    374\u001b[0m             \u001b[0mexog\u001b[0m \u001b[0;34m=\u001b[0m \u001b[0mself\u001b[0m\u001b[0;34m.\u001b[0m\u001b[0mexog\u001b[0m\u001b[0;34m\u001b[0m\u001b[0m\n\u001b[0;32m--> 375\u001b[0;31m         \u001b[0;32mreturn\u001b[0m \u001b[0mnp\u001b[0m\u001b[0;34m.\u001b[0m\u001b[0mdot\u001b[0m\u001b[0;34m(\u001b[0m\u001b[0mexog\u001b[0m\u001b[0;34m,\u001b[0m \u001b[0mparams\u001b[0m\u001b[0;34m)\u001b[0m\u001b[0;34m\u001b[0m\u001b[0m\n\u001b[0m\u001b[1;32m    376\u001b[0m \u001b[0;34m\u001b[0m\u001b[0m\n\u001b[1;32m    377\u001b[0m \u001b[0;32mclass\u001b[0m \u001b[0mGLS\u001b[0m\u001b[0;34m(\u001b[0m\u001b[0mRegressionModel\u001b[0m\u001b[0;34m)\u001b[0m\u001b[0;34m:\u001b[0m\u001b[0;34m\u001b[0m\u001b[0m\n",
      "\u001b[0;31mValueError\u001b[0m: shapes (135,1) and (135,) not aligned: 1 (dim 1) != 135 (dim 0)"
     ]
    }
   ],
   "source": [
    "model.predict(X_full.SAT_AVG)"
   ]
  },
  {
   "cell_type": "code",
   "execution_count": 365,
   "metadata": {
    "collapsed": false
   },
   "outputs": [
    {
     "data": {
      "text/plain": [
       "LinearRegression(copy_X=True, fit_intercept=True, n_jobs=1, normalize=True)"
      ]
     },
     "execution_count": 365,
     "metadata": {},
     "output_type": "execute_result"
    }
   ],
   "source": [
    "lrmodel.fit(X_full[['SAT_AVG', 'SA']], y)"
   ]
  },
  {
   "cell_type": "code",
   "execution_count": 380,
   "metadata": {
    "collapsed": false
   },
   "outputs": [
    {
     "data": {
      "text/plain": [
       "<matplotlib.axes._subplots.AxesSubplot at 0x11ccbe090>"
      ]
     },
     "execution_count": 380,
     "metadata": {},
     "output_type": "execute_result"
    },
    {
     "data": {
      "image/png": "[encoded data removed]",
      "text/plain": [
       "<matplotlib.figure.Figure at 0x11cca52d0>"
      ]
     },
     "metadata": {},
     "output_type": "display_data"
    }
   ],
   "source": [
    "# plot actual y\n",
    "y_sort = df_top.sort('y')['y']\n",
    "y_sort.plot(kind='line', use_index=False)\n",
    "\n",
    "# plot SAT predicted y\n",
    "y_SAT = lrmodel.predict(X_full.SAT_AVG.reshape(135, 1))\n",
    "y_SAT = pd.Series(y_SAT)\n",
    "y_SAT_sort = y_SAT.sort()\n",
    "y_SAT.plot(kind='line', use_index=False)"
   ]
  },
  {
   "cell_type": "code",
   "execution_count": 384,
   "metadata": {
    "collapsed": false,
    "scrolled": true
   },
   "outputs": [
    {
     "data": {
      "text/plain": [
       "<matplotlib.axes._subplots.AxesSubplot at 0x11f8fe650>"
      ]
     },
     "execution_count": 384,
     "metadata": {},
     "output_type": "execute_result"
    },
    {
     "data": {
      "image/png": "[encoded data removed]",
      "text/plain": [
       "<matplotlib.figure.Figure at 0x11fa74cd0>"
      ]
     },
     "metadata": {},
     "output_type": "display_data"
    }
   ],
   "source": [
    "df_top[['SAT_AVG', 'y']].plot(style='x')"
   ]
  },
  {
   "cell_type": "code",
   "execution_count": 386,
   "metadata": {
    "collapsed": false
   },
   "outputs": [
    {
     "data": {
      "text/plain": [
       "[<matplotlib.lines.Line2D at 0x11ec2a8d0>]"
      ]
     },
     "execution_count": 386,
     "metadata": {},
     "output_type": "execute_result"
    },
    {
     "data": {
      "image/png": "[encoded data removed]",
      "text/plain": [
       "<matplotlib.figure.Figure at 0x11ec2a250>"
      ]
     },
     "metadata": {},
     "output_type": "display_data"
    }
   ],
   "source": [
    "plt.plot(df_top.SAT_AVG, 'x')\n",
    "plt.plot(df_top.y)"
   ]
  },
  {
   "cell_type": "code",
   "execution_count": 392,
   "metadata": {
    "collapsed": false
   },
   "outputs": [
    {
     "data": {
      "text/plain": [
       "<matplotlib.collections.PathCollection at 0x121c5e0d0>"
      ]
     },
     "execution_count": 392,
     "metadata": {},
     "output_type": "execute_result"
    },
    {
     "data": {
      "image/png": "[encoded data removed]",
      "text/plain": [
       "<matplotlib.figure.Figure at 0x121c5e2d0>"
      ]
     },
     "metadata": {},
     "output_type": "display_data"
    }
   ],
   "source": [
    "x = df_top.SAT_AVG\n",
    "y = df_top.y\n",
    "\n",
    "plt.scatter(x, y, alpha=0.5)\n",
    "plt.scatter(df_top.SAT_AVG, y_SAT, c='r')"
   ]
  },
  {
   "cell_type": "code",
   "execution_count": null,
   "metadata": {
    "collapsed": true
   },
   "outputs": [],
   "source": []
  },
  {
   "cell_type": "code",
   "execution_count": 357,
   "metadata": {
    "collapsed": false
   },
   "outputs": [
    {
     "data": {
      "text/plain": [
       "(135,)"
      ]
     },
     "execution_count": 357,
     "metadata": {},
     "output_type": "execute_result"
    }
   ],
   "source": [
    "np.shape(X_full.SAT_AVG)"
   ]
  },
  {
   "cell_type": "code",
   "execution_count": 358,
   "metadata": {
    "collapsed": false
   },
   "outputs": [
    {
     "data": {
      "text/plain": [
       "(135,)"
      ]
     },
     "execution_count": 358,
     "metadata": {},
     "output_type": "execute_result"
    }
   ],
   "source": [
    "np.shape(y)"
   ]
  },
  {
   "cell_type": "code",
   "execution_count": 363,
   "metadata": {
    "collapsed": false
   },
   "outputs": [
    {
     "data": {
      "text/plain": [
       "array([[ 1215.,  1267.,  1534.,  1242.,  1350.,  1289.,  1276.,  1212.,\n",
       "         1208.,  1397.,  1202.,  1303.,  1235.,  1228.,  1294.,  1364.,\n",
       "         1380.,  1323.,  1298.,  1231.,  1233.,  1240.,  1387.,  1497.,\n",
       "         1258.,  1297.,  1398.,  1212.,  1272.,  1332.,  1363.,  1352.,\n",
       "         1247.,  1504.,  1303.,  1252.,  1458.,  1318.,  1212.,  1262.,\n",
       "         1450.,  1214.,  1240.,  1208.,  1341.,  1418.,  1209.,  1310.,\n",
       "         1221.,  1234.,  1375.,  1279.,  1347.,  1240.,  1501.,  1209.,\n",
       "         1503.,  1394.,  1428.,  1439.,  1352.,  1206.,  1270.,  1263.,\n",
       "         1243.,  1237.,  1474.,  1214.,  1446.,  1495.,  1210.,  1305.,\n",
       "         1235.,  1370.,  1471.,  1358.,  1422.,  1225.,  1258.,  1352.,\n",
       "         1303.,  1366.,  1232.,  1353.,  1247.,  1297.,  1253.,  1274.,\n",
       "         1217.,  1444.,  1313.,  1229.,  1377.,  1240.,  1354.,  1289.,\n",
       "         1279.,  1279.,  1371.,  1334.,  1306.,  1432.,  1322.,  1442.,\n",
       "         1258.,  1316.,  1425.,  1259.,  1237.,  1288.,  1248.,  1475.,\n",
       "         1215.,  1216.,  1454.,  1302.,  1262.,  1262.,  1206.,  1270.,\n",
       "         1277.,  1391.,  1358.,  1313.,  1220.,  1362.,  1392.,  1204.,\n",
       "         1233.,  1234.,  1217.,  1244.,  1268.,  1466.,  1211.]])"
      ]
     },
     "execution_count": 363,
     "metadata": {},
     "output_type": "execute_result"
    }
   ],
   "source": [
    "X_full.SAT_AVG.reshape(1, 135)"
   ]
  },
  {
   "cell_type": "code",
   "execution_count": null,
   "metadata": {
    "collapsed": true
   },
   "outputs": [],
   "source": []
  }
 ],
 "metadata": {
  "kernelspec": {
   "display_name": "Python 2",
   "language": "python",
   "name": "python2"
  },
  "language_info": {
   "codemirror_mode": {
    "name": "ipython",
    "version": 2
   },
   "file_extension": ".py",
   "mimetype": "text/x-python",
   "name": "python",
   "nbconvert_exporter": "python",
   "pygments_lexer": "ipython2",
   "version": "2.7.10"
  }
 },
 "nbformat": 4,
 "nbformat_minor": 0
}
